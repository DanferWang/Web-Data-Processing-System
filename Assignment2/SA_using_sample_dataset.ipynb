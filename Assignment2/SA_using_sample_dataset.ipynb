{
 "cells": [
  {
   "cell_type": "code",
   "execution_count": 87,
   "metadata": {},
   "outputs": [],
   "source": [
    "# DataFrame\n",
    "import pandas as pd\n",
    "\n",
    "# Matplot\n",
    "import matplotlib.pyplot as plt\n",
    "%matplotlib inline\n",
    "\n",
    "# Scikit-learn\n",
    "from sklearn.model_selection import train_test_split\n",
    "from sklearn.preprocessing import LabelEncoder\n",
    "from sklearn.metrics import confusion_matrix, classification_report, accuracy_score\n",
    "from sklearn.manifold import TSNE\n",
    "from sklearn.feature_extraction.text import TfidfVectorizer\n",
    "\n",
    "# Keras\n",
    "from keras.preprocessing.text import Tokenizer\n",
    "from keras.preprocessing.sequence import pad_sequences\n",
    "from keras.models import Sequential\n",
    "from keras.layers import Activation, Dense, Dropout, Embedding, Flatten, Conv1D, MaxPooling1D, LSTM\n",
    "from keras import utils\n",
    "from keras.callbacks import ReduceLROnPlateau, EarlyStopping\n",
    "\n",
    "# Word2vec\n",
    "import gensim\n",
    "\n",
    "# Utility\n",
    "import re\n",
    "import string\n",
    "import numpy as np\n",
    "import os\n",
    "from collections import Counter\n",
    "import logging\n",
    "import time\n",
    "import pickle\n",
    "import itertools\n",
    "\n",
    "# Set log\n",
    "logging.basicConfig(format='%(asctime)s : %(levelname)s : %(message)s', level=logging.INFO)"
   ]
  },
  {
   "cell_type": "code",
   "execution_count": 102,
   "metadata": {},
   "outputs": [],
   "source": [
    "# DATASET\n",
    "DATASET_ENCODING = \"ISO-8859-1\"\n",
    "TRAIN_SIZE = 0.8\n",
    "\n",
    "# WORD2VEC \n",
    "W2V_SIZE = 320\n",
    "W2V_WINDOW = 7\n",
    "W2V_EPOCH = 32\n",
    "W2V_MIN_COUNT = 10\n",
    "\n",
    "# KERAS\n",
    "SEQUENCE_LENGTH = 320\n",
    "EPOCHS = 50\n",
    "BATCH_SIZE = 1024\n",
    "\n",
    "# SENTIMENT\n",
    "POSITIVE = \"POSITIVE\"\n",
    "NEGATIVE = \"NEGATIVE\"\n",
    "NEUTRAL = \"NEUTRAL\"\n",
    "SENTIMENT_THRESHOLDS = (0.4, 0.7)\n",
    "\n",
    "# EXPORT\n",
    "KERAS_MODEL = \"model.h5\"\n",
    "WORD2VEC_MODEL = \"model.w2v\"\n",
    "TOKENIZER_MODEL = \"tokenizer.pkl\"\n",
    "ENCODER_MODEL = \"encoder.pkl\""
   ]
  },
  {
   "cell_type": "code",
   "execution_count": 140,
   "metadata": {},
   "outputs": [
    {
     "name": "stdout",
     "output_type": "stream",
     "text": [
      "Open file: F:\\VU\\Web_Data_Processing_Systems\\clean_kindle_reviews.csv\n"
     ]
    }
   ],
   "source": [
    "dataset_path = \"F:\\VU\\Web_Data_Processing_Systems\\clean_kindle_reviews.csv\"\n",
    "print(\"Open file:\", dataset_path)\n",
    "df = pd.read_csv(dataset_path, encoding =DATASET_ENCODING ,lineterminator='\\n')\n",
    "df = df.drop(columns=[\"Unnamed: 0\"])"
   ]
  },
  {
   "cell_type": "code",
   "execution_count": 141,
   "metadata": {},
   "outputs": [
    {
     "name": "stdout",
     "output_type": "stream",
     "text": [
      "Dataset size: 982619\n"
     ]
    }
   ],
   "source": [
    "print(\"Dataset size:\", len(df))"
   ]
  },
  {
   "cell_type": "code",
   "execution_count": 136,
   "metadata": {},
   "outputs": [
    {
     "data": {
      "text/html": [
       "<div>\n",
       "<style scoped>\n",
       "    .dataframe tbody tr th:only-of-type {\n",
       "        vertical-align: middle;\n",
       "    }\n",
       "\n",
       "    .dataframe tbody tr th {\n",
       "        vertical-align: top;\n",
       "    }\n",
       "\n",
       "    .dataframe thead th {\n",
       "        text-align: right;\n",
       "    }\n",
       "</style>\n",
       "<table border=\"1\" class=\"dataframe\">\n",
       "  <thead>\n",
       "    <tr style=\"text-align: right;\">\n",
       "      <th></th>\n",
       "      <th>asin</th>\n",
       "      <th>overall</th>\n",
       "      <th>reviewText</th>\n",
       "      <th>summary\\r</th>\n",
       "    </tr>\n",
       "  </thead>\n",
       "  <tbody>\n",
       "    <tr>\n",
       "      <th>878051</th>\n",
       "      <td>B00JB0MYS6</td>\n",
       "      <td>5</td>\n",
       "      <td>This book reveals the basics of tinnitus, you ...</td>\n",
       "      <td>Great introduction!\\r</td>\n",
       "    </tr>\n",
       "    <tr>\n",
       "      <th>4007</th>\n",
       "      <td>B0026REA92</td>\n",
       "      <td>4</td>\n",
       "      <td>Intriguing start to a series about a once-burn...</td>\n",
       "      <td>hot, intriguing\\r</td>\n",
       "    </tr>\n",
       "    <tr>\n",
       "      <th>822366</th>\n",
       "      <td>B00IC4QIZC</td>\n",
       "      <td>1</td>\n",
       "      <td>Crude nightmarish fiction with constant explet...</td>\n",
       "      <td>Mindless Thrash\\r</td>\n",
       "    </tr>\n",
       "    <tr>\n",
       "      <th>917025</th>\n",
       "      <td>B00K2LXIKG</td>\n",
       "      <td>5</td>\n",
       "      <td>Liked the history and the love story. I loved ...</td>\n",
       "      <td>Good book!\\r</td>\n",
       "    </tr>\n",
       "    <tr>\n",
       "      <th>918572</th>\n",
       "      <td>B00K3RZXOS</td>\n",
       "      <td>5</td>\n",
       "      <td>This book was good can't wait for part two thi...</td>\n",
       "      <td>Hittaz wear pink\\r</td>\n",
       "    </tr>\n",
       "    <tr>\n",
       "      <th>844319</th>\n",
       "      <td>B00IOCZI4O</td>\n",
       "      <td>5</td>\n",
       "      <td>Absolutely enchanting. Very smoothly written. ...</td>\n",
       "      <td>You Were Always There\\r</td>\n",
       "    </tr>\n",
       "    <tr>\n",
       "      <th>554312</th>\n",
       "      <td>B00DFG6NHK</td>\n",
       "      <td>5</td>\n",
       "      <td>Another cliffhanger!!! Omg I need book 8 now.....</td>\n",
       "      <td>Shockingly seductive\\r</td>\n",
       "    </tr>\n",
       "    <tr>\n",
       "      <th>324654</th>\n",
       "      <td>B009OZN608</td>\n",
       "      <td>5</td>\n",
       "      <td>Forgotten Lyrics is the perfect novella to int...</td>\n",
       "      <td>Perfect Novella and Intro to the Watersong Ser...</td>\n",
       "    </tr>\n",
       "    <tr>\n",
       "      <th>35632</th>\n",
       "      <td>B004DUN1W2</td>\n",
       "      <td>3</td>\n",
       "      <td>Look guys, people don't often just \"move on\" w...</td>\n",
       "      <td>Average Romance with Interesting Premise\\r</td>\n",
       "    </tr>\n",
       "    <tr>\n",
       "      <th>150390</th>\n",
       "      <td>B006LFQA52</td>\n",
       "      <td>2</td>\n",
       "      <td>Memoir of a young animal lover who was determi...</td>\n",
       "      <td>Author focuses on herself, not the animals\\r</td>\n",
       "    </tr>\n",
       "  </tbody>\n",
       "</table>\n",
       "</div>"
      ],
      "text/plain": [
       "              asin  overall  \\\n",
       "878051  B00JB0MYS6        5   \n",
       "4007    B0026REA92        4   \n",
       "822366  B00IC4QIZC        1   \n",
       "917025  B00K2LXIKG        5   \n",
       "918572  B00K3RZXOS        5   \n",
       "844319  B00IOCZI4O        5   \n",
       "554312  B00DFG6NHK        5   \n",
       "324654  B009OZN608        5   \n",
       "35632   B004DUN1W2        3   \n",
       "150390  B006LFQA52        2   \n",
       "\n",
       "                                               reviewText  \\\n",
       "878051  This book reveals the basics of tinnitus, you ...   \n",
       "4007    Intriguing start to a series about a once-burn...   \n",
       "822366  Crude nightmarish fiction with constant explet...   \n",
       "917025  Liked the history and the love story. I loved ...   \n",
       "918572  This book was good can't wait for part two thi...   \n",
       "844319  Absolutely enchanting. Very smoothly written. ...   \n",
       "554312  Another cliffhanger!!! Omg I need book 8 now.....   \n",
       "324654  Forgotten Lyrics is the perfect novella to int...   \n",
       "35632   Look guys, people don't often just \"move on\" w...   \n",
       "150390  Memoir of a young animal lover who was determi...   \n",
       "\n",
       "                                                summary\\r  \n",
       "878051                              Great introduction!\\r  \n",
       "4007                                    hot, intriguing\\r  \n",
       "822366                                  Mindless Thrash\\r  \n",
       "917025                                       Good book!\\r  \n",
       "918572                                 Hittaz wear pink\\r  \n",
       "844319                            You Were Always There\\r  \n",
       "554312                             Shockingly seductive\\r  \n",
       "324654  Perfect Novella and Intro to the Watersong Ser...  \n",
       "35632          Average Romance with Interesting Premise\\r  \n",
       "150390       Author focuses on herself, not the animals\\r  "
      ]
     },
     "execution_count": 136,
     "metadata": {},
     "output_type": "execute_result"
    }
   ],
   "source": [
    "df.head(10)"
   ]
  },
  {
   "cell_type": "code",
   "execution_count": 142,
   "metadata": {},
   "outputs": [],
   "source": [
    "decode_map = {1: \"NEGATIVE\", 2: \"NEGATIVE\", 3: \"NEUTRAL\", 4: \"POSITIVE\", 5: \"POSITIVE\" }\n",
    "def decode_sentiment(label):\n",
    "    return decode_map[int(label)]"
   ]
  },
  {
   "cell_type": "code",
   "execution_count": 143,
   "metadata": {},
   "outputs": [
    {
     "name": "stdout",
     "output_type": "stream",
     "text": [
      "Wall time: 1.15 s\n"
     ]
    }
   ],
   "source": [
    "%%time\n",
    "df.overall = df.overall.apply(lambda x: decode_sentiment(x))"
   ]
  },
  {
   "cell_type": "code",
   "execution_count": 144,
   "metadata": {},
   "outputs": [
    {
     "data": {
      "text/plain": [
       "Text(0.5, 1.0, 'Dataset labels distribuition')"
      ]
     },
     "execution_count": 144,
     "metadata": {},
     "output_type": "execute_result"
    },
    {
     "data": {
      "image/png": "[encoded data removed]",
      "text/plain": [
       "<Figure size 1152x576 with 1 Axes>"
      ]
     },
     "metadata": {
      "needs_background": "light"
     },
     "output_type": "display_data"
    }
   ],
   "source": [
    "target_cnt = Counter(df.overall)\n",
    "\n",
    "plt.figure(figsize=(16,8))\n",
    "plt.bar(target_cnt.keys(), target_cnt.values())\n",
    "plt.title(\"Dataset labels distribuition\")"
   ]
  },
  {
   "cell_type": "code",
   "execution_count": 33,
   "metadata": {},
   "outputs": [
    {
     "data": {
      "text/plain": [
       "664870    Love the characters! A little too tame for me....\n",
       "713916    THIS BOOK WAS AMAZING!!! VERY WELL WRITTEN, PI...\n",
       "413126    Have not tried this yet but plan to self publi...\n",
       "442248    This story is okay it wasn't enough informatio...\n",
       "219519    Definitely loved it a lot!!!!!!!! The story in...\n",
       "434975    I enjoyed this story. Colleen Coble is an exce...\n",
       "636481    Buy. This. Book. Now.What more is there to say...\n",
       "543420    If you love suspense and adventure then you'll...\n",
       "790238    From reading this book, I can confidently say ...\n",
       "389914    I'm just going to go ahead and get the biggest...\n",
       "Name: reviewText, dtype: object"
      ]
     },
     "execution_count": 33,
     "metadata": {},
     "output_type": "execute_result"
    }
   ],
   "source": [
    "df.reviewText.head(10)"
   ]
  },
  {
   "cell_type": "code",
   "execution_count": 34,
   "metadata": {},
   "outputs": [
    {
     "name": "stdout",
     "output_type": "stream",
     "text": [
      "TRAIN size: 16000\n",
      "TEST size: 4000\n"
     ]
    }
   ],
   "source": [
    "# split train, test data \n",
    "df_train, df_test = train_test_split(df, test_size=1-TRAIN_SIZE, random_state=42)\n",
    "print(\"TRAIN size:\", len(df_train))\n",
    "print(\"TEST size:\", len(df_test))"
   ]
  },
  {
   "cell_type": "code",
   "execution_count": 35,
   "metadata": {},
   "outputs": [
    {
     "data": {
      "text/html": [
       "<div>\n",
       "<style scoped>\n",
       "    .dataframe tbody tr th:only-of-type {\n",
       "        vertical-align: middle;\n",
       "    }\n",
       "\n",
       "    .dataframe tbody tr th {\n",
       "        vertical-align: top;\n",
       "    }\n",
       "\n",
       "    .dataframe thead th {\n",
       "        text-align: right;\n",
       "    }\n",
       "</style>\n",
       "<table border=\"1\" class=\"dataframe\">\n",
       "  <thead>\n",
       "    <tr style=\"text-align: right;\">\n",
       "      <th></th>\n",
       "      <th>asin</th>\n",
       "      <th>overall</th>\n",
       "      <th>reviewText</th>\n",
       "      <th>summary\\r</th>\n",
       "    </tr>\n",
       "  </thead>\n",
       "  <tbody>\n",
       "    <tr>\n",
       "      <th>489064</th>\n",
       "      <td>B00C9FTZ5U</td>\n",
       "      <td>NEUTRAL</td>\n",
       "      <td>2.5-3 stars - An okay read. Your mileage will ...</td>\n",
       "      <td>Had some issues...\\r</td>\n",
       "    </tr>\n",
       "    <tr>\n",
       "      <th>844534</th>\n",
       "      <td>B00IODNJRG</td>\n",
       "      <td>POSITIVE</td>\n",
       "      <td>I could not put this book down.  I loved it!! ...</td>\n",
       "      <td>loved this book!!!! amazing\\r</td>\n",
       "    </tr>\n",
       "    <tr>\n",
       "      <th>235681</th>\n",
       "      <td>B0086OEU4E</td>\n",
       "      <td>NEUTRAL</td>\n",
       "      <td>This story was very short.  She works for and ...</td>\n",
       "      <td>SHORT, CUTE\\r</td>\n",
       "    </tr>\n",
       "    <tr>\n",
       "      <th>320051</th>\n",
       "      <td>B009M4YYZW</td>\n",
       "      <td>POSITIVE</td>\n",
       "      <td>I really liked this author, I had never read h...</td>\n",
       "      <td>Hot Alpha\\r</td>\n",
       "    </tr>\n",
       "    <tr>\n",
       "      <th>544058</th>\n",
       "      <td>B00D6OE8SW</td>\n",
       "      <td>POSITIVE</td>\n",
       "      <td>Thank you kindly to the author for giving me a...</td>\n",
       "      <td>Intriguing little tale...\\r</td>\n",
       "    </tr>\n",
       "  </tbody>\n",
       "</table>\n",
       "</div>"
      ],
      "text/plain": [
       "              asin   overall  \\\n",
       "489064  B00C9FTZ5U   NEUTRAL   \n",
       "844534  B00IODNJRG  POSITIVE   \n",
       "235681  B0086OEU4E   NEUTRAL   \n",
       "320051  B009M4YYZW  POSITIVE   \n",
       "544058  B00D6OE8SW  POSITIVE   \n",
       "\n",
       "                                               reviewText  \\\n",
       "489064  2.5-3 stars - An okay read. Your mileage will ...   \n",
       "844534  I could not put this book down.  I loved it!! ...   \n",
       "235681  This story was very short.  She works for and ...   \n",
       "320051  I really liked this author, I had never read h...   \n",
       "544058  Thank you kindly to the author for giving me a...   \n",
       "\n",
       "                            summary\\r  \n",
       "489064           Had some issues...\\r  \n",
       "844534  loved this book!!!! amazing\\r  \n",
       "235681                  SHORT, CUTE\\r  \n",
       "320051                    Hot Alpha\\r  \n",
       "544058    Intriguing little tale...\\r  "
      ]
     },
     "execution_count": 35,
     "metadata": {},
     "output_type": "execute_result"
    }
   ],
   "source": [
    "df_train.head()"
   ]
  },
  {
   "cell_type": "code",
   "execution_count": 37,
   "metadata": {},
   "outputs": [],
   "source": [
    "# tokenization\n",
    "documents = [_text.split() for _text in df_train.reviewText]"
   ]
  },
  {
   "cell_type": "code",
   "execution_count": 38,
   "metadata": {},
   "outputs": [],
   "source": [
    "# cleaning token\n",
    "def cleaned(token):\n",
    "    if token == 'u':\n",
    "        return 'you'\n",
    "    if token == 'r':\n",
    "        return 'are'\n",
    "    if token == 'some1':\n",
    "        return 'someone'\n",
    "    if token == 'yrs':\n",
    "        return 'years'\n",
    "    if token == 'hrs':\n",
    "        return 'hours'\n",
    "    if token == 'mins':\n",
    "        return 'minutes'\n",
    "    if token == 'secs':\n",
    "        return 'seconds'\n",
    "    if token == 'pls' or token == 'plz':\n",
    "        return 'please'\n",
    "    if token == '2morow' or token == '2moro':\n",
    "        return 'tomorrow'\n",
    "    if token == '2day':\n",
    "        return 'today'\n",
    "    if token == '4got' or token == '4gotten':\n",
    "        return 'forget'\n",
    "    if token in ['hahah', 'hahaha', 'hahahaha']:\n",
    "        return 'haha'\n",
    "    if token == \"mother's\":\n",
    "        return \"mother\"\n",
    "    if token == \"mom's\":\n",
    "        return \"mom\"\n",
    "    if token == \"dad's\":\n",
    "        return \"dad\"\n",
    "    if token == 'bday' or token == 'b-day':\n",
    "        return 'birthday'\n",
    "    if token in [\"i'm\", \"don't\", \"can't\", \"couldn't\", \"aren't\", \"wouldn't\", \"isn't\", \"didn't\", \"hadn't\",\n",
    "                 \"doesn't\", \"won't\", \"haven't\", \"wasn't\", \"hasn't\", \"shouldn't\", \"ain't\", \"they've\"]:\n",
    "        return token.replace(\"'\", \"\")\n",
    "    if token in ['lmao', 'lolz', 'rofl']:\n",
    "        return 'lol'\n",
    "    if token == '<3':\n",
    "        return 'love'\n",
    "    if token == 'thanx' or token == 'thnx':\n",
    "        return 'thanks'\n",
    "    if token == 'goood':\n",
    "        return 'good'\n",
    "    if token in ['amp', 'quot', 'lt', 'gt', '½25', '..', '. .', '. . .']:\n",
    "        return ''\n",
    "    return token\n",
    "\n",
    "# processing\n",
    "def process_token(tweet_tokens):\n",
    "\n",
    "    cleaned_tokens = []\n",
    "\n",
    "    for token in tweet_tokens:\n",
    "        # Eliminating the token if it is a link\n",
    "        token = re.sub(r'''(?i)\\b((?:https?://|www\\d{0,3}[.]|[a-z0-9.\\-]+[.][a-z]{2,4}/)(?:[^\\s()<>]+|\\(([^\\s()<>]+|(\\([^\\s()<>]+\\)))*\\))+(?:\\(([^\\s()<>]+|(\\([^\\s()<>]+\\)))*\\)|[^\\s`!()\\[\\]{};:'\".,<>?«»“”‘’]))''', \" \", token)\n",
    "        # Eliminating the token if it is a mention\n",
    "        token = re.sub(\"(@[A-Za-z0-9_]+)\",\"\", token)\n",
    "        # Eliminating the token if it is not characters in English\n",
    "        token = re.sub(\"([^A-Za-z0-9_]+)\",\"\", token)\n",
    "        \n",
    "        cleaned_token = cleaned(token.lower())\n",
    "        \n",
    "        if cleaned_token == \"idk\":\n",
    "            cleaned_tokens.append('i')\n",
    "            cleaned_tokens.append('dont')\n",
    "            cleaned_tokens.append('know')\n",
    "            continue\n",
    "        if cleaned_token == \"i'll\":\n",
    "            cleaned_tokens.append('i')\n",
    "            cleaned_tokens.append('will')\n",
    "            continue\n",
    "        if cleaned_token == \"you'll\":\n",
    "            cleaned_tokens.append('you')\n",
    "            cleaned_tokens.append('will')\n",
    "            continue\n",
    "        if cleaned_token == \"we'll\":\n",
    "            cleaned_tokens.append('we')\n",
    "            cleaned_tokens.append('will')\n",
    "            continue\n",
    "        if cleaned_token == \"it'll\":\n",
    "            cleaned_tokens.append('it')\n",
    "            cleaned_tokens.append('will')\n",
    "            continue\n",
    "        if cleaned_token == \"it's\":\n",
    "            cleaned_tokens.append('it')\n",
    "            cleaned_tokens.append('is')\n",
    "            continue\n",
    "        if cleaned_token == \"i've\":\n",
    "            cleaned_tokens.append('i')\n",
    "            cleaned_tokens.append('have')\n",
    "            continue\n",
    "        if cleaned_token == \"you've\":\n",
    "            cleaned_tokens.append('you')\n",
    "            cleaned_tokens.append('have')\n",
    "            continue\n",
    "        if cleaned_token == \"we've\":\n",
    "            cleaned_tokens.append('we')\n",
    "            cleaned_tokens.append('have')\n",
    "            continue\n",
    "        if cleaned_token == \"they've\":\n",
    "            cleaned_tokens.append('they')\n",
    "            cleaned_tokens.append('have')\n",
    "            continue\n",
    "        if cleaned_token == \"you're\":\n",
    "            cleaned_tokens.append('you')\n",
    "            cleaned_tokens.append('are')\n",
    "            continue\n",
    "        if cleaned_token == \"we're\":\n",
    "            cleaned_tokens.append('we')\n",
    "            cleaned_tokens.append('are')\n",
    "            continue\n",
    "        if cleaned_token == \"they're\":\n",
    "            cleaned_tokens.append('they')\n",
    "            cleaned_tokens.append('are')\n",
    "            continue\n",
    "        if cleaned_token == \"let's\":\n",
    "            cleaned_tokens.append('let')\n",
    "            cleaned_tokens.append('us')\n",
    "            continue\n",
    "        if cleaned_token == \"she's\":\n",
    "            cleaned_tokens.append('she')\n",
    "            cleaned_tokens.append('is')\n",
    "            continue\n",
    "        if cleaned_token == \"he's\":\n",
    "            cleaned_tokens.append('he')\n",
    "            cleaned_tokens.append('is')\n",
    "            continue\n",
    "        if cleaned_token == \"that's\":\n",
    "            cleaned_tokens.append('that')\n",
    "            cleaned_tokens.append('is')\n",
    "            continue\n",
    "        if cleaned_token == \"i'd\":\n",
    "            cleaned_tokens.append('i')\n",
    "            cleaned_tokens.append('would')\n",
    "            continue\n",
    "        if cleaned_token == \"you'd\":\n",
    "            cleaned_tokens.append('you')\n",
    "            cleaned_tokens.append('would')\n",
    "            continue\n",
    "        if cleaned_token == \"there's\":\n",
    "            cleaned_tokens.append('there')\n",
    "            cleaned_tokens.append('is')\n",
    "            continue\n",
    "        if cleaned_token == \"what's\":\n",
    "            cleaned_tokens.append('what')\n",
    "            cleaned_tokens.append('is')\n",
    "            continue\n",
    "        if cleaned_token == \"how's\":\n",
    "            cleaned_tokens.append('how')\n",
    "            cleaned_tokens.append('is')\n",
    "            continue\n",
    "        if cleaned_token == \"who's\":\n",
    "            cleaned_tokens.append('who')\n",
    "            cleaned_tokens.append('is')\n",
    "            continue\n",
    "        if cleaned_token == \"y'all\" or cleaned_token == \"ya'll\":\n",
    "            cleaned_tokens.append('you')\n",
    "            cleaned_tokens.append('all')\n",
    "            continue\n",
    "\n",
    "        if cleaned_token.strip() and cleaned_token not in string.punctuation: \n",
    "            cleaned_tokens.append(cleaned_token)\n",
    "            \n",
    "    return cleaned_tokens"
   ]
  },
  {
   "cell_type": "code",
   "execution_count": 39,
   "metadata": {},
   "outputs": [
    {
     "name": "stdout",
     "output_type": "stream",
     "text": [
      "['Thank', 'you', 'kindly', 'to', 'the', 'author', 'for', 'giving', 'me', 'a', 'copy', 'of', 'this', 'novella', 'for', 'review.When', 'branch', 'manager', 'Giles', 'Macintosh', 'arrives', 'to', 'open', 'up', 'one', 'morning', 'and', 'finds', 'an', 'injured', 'bum', 'and', 'his', 'battered', 'dog', 'lying', 'in', 'the', 'doorway', 'of', 'the', 'bank,', 'he', 'little', 'suspects', 'what', 'lies', 'in', 'store', 'for', 'them', 'all.This', 'was', 'a', 'quirky', 'and', 'intriguing', 'little', 'story', '-', 'my', 'one', 'complaint', 'is', 'that', 'I', 'would', 'have', 'liked', 'it', 'to', 'be', 'longer..it', 'felt', 'like', 'a', 'novel', 'in', 'the', 'making.', 'Thats', 'not', 'a', 'bad', 'thing', 'incidentally,', 'it', 'meant', 'that', 'I', 'would', 'happily', 'have', 'read', 'on....Its', 'a', 'bit', 'difficult', 'to', 'put', 'this', 'one', 'in', 'a', 'genre', 'box.', 'It', 'was', 'a', 'fairly', 'gritty', 'read', 'whilst', 'also', 'having', 'a', 'heart', 'warming', 'message', 'at', 'its', 'heart', 'and', 'an', 'intriguing', 'supernatural', 'element.I', 'love', 'the', 'mish', 'mash', 'of', 'styles', 'here', '-', 'depending', 'on', 'whats', 'going', 'on', 'and', 'who', 'we', 'are', 'with', 'at', 'the', 'time,', 'the', 'style', 'and', 'content', 'of', 'the', 'writing', 'changes', 'to', 'give', 'each', 'character', 'and/or', 'situation', 'its', 'own', 'voice.', 'Even', 'the', 'more', 'magical', 'elements', 'felt', 'realistic.', 'I', 'love', 'that', '-', 'it', 'makes', 'me', 'wonder', 'if', 'there', 'really', 'are', 'people', 'out', 'there', 'with', 'strange', 'and', 'wonderful', 'gifts...Plot', 'wise', 'it', 'is', 'involving', 'and', 'flows', 'nicely-', 'you', 'will', 'want', 'to', 'contine', 'to', 'the', 'end', '-', 'and', 'the', 'ultimate', 'resolution', 'for', 'me', 'was', 'satisfying.', 'I', 'have', 'not', 'read', 'any', 'of', 'this', 'authors', 'other', 'work', 'but', 'I', 'would', 'surely', 'read', 'another', 'tale', 'of', 'this', 'ilk.', 'I', 'very', 'much', 'enjoyed', 'it.', 'It', 'would', 'make', 'a', 'wonderful', 'full', 'length', 'novel', 'if', 'the', 'tale', 'could', 'be', 'embellished', 'and', 'expanded', '-', 'there', 'are', 'definitely', 'certain', 'aspects', 'I', 'would', 'like', 'to', 'know', 'more', 'about.', 'All', 'in', 'all', 'a', 'terrific', 'read', 'and', 'great', 'for', 'a', 'Sunday', 'afternoon.', 'My', 'Sunday', 'Side', 'Read', 'this', 'week', 'was', 'well', 'worth', 'the', 'effort.Happy', 'Reading', 'Folks!']\n"
     ]
    }
   ],
   "source": [
    "print(documents[4])"
   ]
  },
  {
   "cell_type": "code",
   "execution_count": 40,
   "metadata": {},
   "outputs": [
    {
     "name": "stdout",
     "output_type": "stream",
     "text": [
      "['thank', 'you', 'kindly', 'to', 'the', 'author', 'for', 'giving', 'me', 'a', 'copy', 'of', 'this', 'novella', 'for', 'reviewwhen', 'branch', 'manager', 'giles', 'macintosh', 'arrives', 'to', 'open', 'up', 'one', 'morning', 'and', 'finds', 'an', 'injured', 'bum', 'and', 'his', 'battered', 'dog', 'lying', 'in', 'the', 'doorway', 'of', 'the', 'bank', 'he', 'little', 'suspects', 'what', 'lies', 'in', 'store', 'for', 'them', 'allthis', 'was', 'a', 'quirky', 'and', 'intriguing', 'little', 'story', 'my', 'one', 'complaint', 'is', 'that', 'i', 'would', 'have', 'liked', 'it', 'to', 'be', 'longerit', 'felt', 'like', 'a', 'novel', 'in', 'the', 'making', 'thats', 'not', 'a', 'bad', 'thing', 'incidentally', 'it', 'meant', 'that', 'i', 'would', 'happily', 'have', 'read', 'onits', 'a', 'bit', 'difficult', 'to', 'put', 'this', 'one', 'in', 'a', 'genre', 'box', 'it', 'was', 'a', 'fairly', 'gritty', 'read', 'whilst', 'also', 'having', 'a', 'heart', 'warming', 'message', 'at', 'its', 'heart', 'and', 'an', 'intriguing', 'supernatural', 'elementi', 'love', 'the', 'mish', 'mash', 'of', 'styles', 'here', 'depending', 'on', 'whats', 'going', 'on', 'and', 'who', 'we', 'are', 'with', 'at', 'the', 'time', 'the', 'style', 'and', 'content', 'of', 'the', 'writing', 'changes', 'to', 'give', 'each', 'character', 'andor', 'situation', 'its', 'own', 'voice', 'even', 'the', 'more', 'magical', 'elements', 'felt', 'realistic', 'i', 'love', 'that', 'it', 'makes', 'me', 'wonder', 'if', 'there', 'really', 'are', 'people', 'out', 'there', 'with', 'strange', 'and', 'wonderful', 'giftsplot', 'wise', 'it', 'is', 'involving', 'and', 'flows', 'nicely', 'you', 'will', 'want', 'to', 'contine', 'to', 'the', 'end', 'and', 'the', 'ultimate', 'resolution', 'for', 'me', 'was', 'satisfying', 'i', 'have', 'not', 'read', 'any', 'of', 'this', 'authors', 'other', 'work', 'but', 'i', 'would', 'surely', 'read', 'another', 'tale', 'of', 'this', 'ilk', 'i', 'very', 'much', 'enjoyed', 'it', 'it', 'would', 'make', 'a', 'wonderful', 'full', 'length', 'novel', 'if', 'the', 'tale', 'could', 'be', 'embellished', 'and', 'expanded', 'there', 'are', 'definitely', 'certain', 'aspects', 'i', 'would', 'like', 'to', 'know', 'more', 'about', 'all', 'in', 'all', 'a', 'terrific', 'read', 'and', 'great', 'for', 'a', 'sunday', 'afternoon', 'my', 'sunday', 'side', 'read', 'this', 'week', 'was', 'well', 'worth', 'the', 'efforthappy', 'reading', 'folks']\n"
     ]
    }
   ],
   "source": [
    "print(process_token(documents[4]))"
   ]
  },
  {
   "cell_type": "code",
   "execution_count": 41,
   "metadata": {},
   "outputs": [],
   "source": [
    "cleaned_documents = [process_token(document) for document in documents]"
   ]
  },
  {
   "cell_type": "code",
   "execution_count": 42,
   "metadata": {},
   "outputs": [
    {
     "name": "stdout",
     "output_type": "stream",
     "text": [
      "['thank', 'you', 'kindly', 'to', 'the', 'author', 'for', 'giving', 'me', 'a', 'copy', 'of', 'this', 'novella', 'for', 'reviewwhen', 'branch', 'manager', 'giles', 'macintosh', 'arrives', 'to', 'open', 'up', 'one', 'morning', 'and', 'finds', 'an', 'injured', 'bum', 'and', 'his', 'battered', 'dog', 'lying', 'in', 'the', 'doorway', 'of', 'the', 'bank', 'he', 'little', 'suspects', 'what', 'lies', 'in', 'store', 'for', 'them', 'allthis', 'was', 'a', 'quirky', 'and', 'intriguing', 'little', 'story', 'my', 'one', 'complaint', 'is', 'that', 'i', 'would', 'have', 'liked', 'it', 'to', 'be', 'longerit', 'felt', 'like', 'a', 'novel', 'in', 'the', 'making', 'thats', 'not', 'a', 'bad', 'thing', 'incidentally', 'it', 'meant', 'that', 'i', 'would', 'happily', 'have', 'read', 'onits', 'a', 'bit', 'difficult', 'to', 'put', 'this', 'one', 'in', 'a', 'genre', 'box', 'it', 'was', 'a', 'fairly', 'gritty', 'read', 'whilst', 'also', 'having', 'a', 'heart', 'warming', 'message', 'at', 'its', 'heart', 'and', 'an', 'intriguing', 'supernatural', 'elementi', 'love', 'the', 'mish', 'mash', 'of', 'styles', 'here', 'depending', 'on', 'whats', 'going', 'on', 'and', 'who', 'we', 'are', 'with', 'at', 'the', 'time', 'the', 'style', 'and', 'content', 'of', 'the', 'writing', 'changes', 'to', 'give', 'each', 'character', 'andor', 'situation', 'its', 'own', 'voice', 'even', 'the', 'more', 'magical', 'elements', 'felt', 'realistic', 'i', 'love', 'that', 'it', 'makes', 'me', 'wonder', 'if', 'there', 'really', 'are', 'people', 'out', 'there', 'with', 'strange', 'and', 'wonderful', 'giftsplot', 'wise', 'it', 'is', 'involving', 'and', 'flows', 'nicely', 'you', 'will', 'want', 'to', 'contine', 'to', 'the', 'end', 'and', 'the', 'ultimate', 'resolution', 'for', 'me', 'was', 'satisfying', 'i', 'have', 'not', 'read', 'any', 'of', 'this', 'authors', 'other', 'work', 'but', 'i', 'would', 'surely', 'read', 'another', 'tale', 'of', 'this', 'ilk', 'i', 'very', 'much', 'enjoyed', 'it', 'it', 'would', 'make', 'a', 'wonderful', 'full', 'length', 'novel', 'if', 'the', 'tale', 'could', 'be', 'embellished', 'and', 'expanded', 'there', 'are', 'definitely', 'certain', 'aspects', 'i', 'would', 'like', 'to', 'know', 'more', 'about', 'all', 'in', 'all', 'a', 'terrific', 'read', 'and', 'great', 'for', 'a', 'sunday', 'afternoon', 'my', 'sunday', 'side', 'read', 'this', 'week', 'was', 'well', 'worth', 'the', 'efforthappy', 'reading', 'folks']\n"
     ]
    }
   ],
   "source": [
    "print(cleaned_documents[4])"
   ]
  },
  {
   "cell_type": "code",
   "execution_count": 61,
   "metadata": {},
   "outputs": [],
   "source": [
    "# word 2 vec\n",
    "w2v_model = gensim.models.word2vec.Word2Vec(size=W2V_SIZE, \n",
    "                                            window=W2V_WINDOW, \n",
    "                                            min_count=W2V_MIN_COUNT, \n",
    "                                            workers=8)"
   ]
  },
  {
   "cell_type": "code",
   "execution_count": 62,
   "metadata": {},
   "outputs": [
    {
     "name": "stderr",
     "output_type": "stream",
     "text": [
      "2020-12-01 11:02:43,668 : INFO : collecting all words and their counts\n",
      "2020-12-01 11:02:43,671 : INFO : PROGRESS: at sentence #0, processed 0 words, keeping 0 word types\n",
      "2020-12-01 11:02:44,580 : INFO : PROGRESS: at sentence #10000, processed 1108622 words, keeping 78636 word types\n",
      "2020-12-01 11:02:45,266 : INFO : collected 107612 word types from a corpus of 1773065 raw words and 16000 sentences\n",
      "2020-12-01 11:02:45,268 : INFO : Loading a fresh vocabulary\n",
      "2020-12-01 11:02:45,513 : INFO : effective_min_count=10 retains 9657 unique words (8% of original 107612, drops 97955)\n",
      "2020-12-01 11:02:45,515 : INFO : effective_min_count=10 leaves 1601566 word corpus (90% of original 1773065, drops 171499)\n",
      "2020-12-01 11:02:45,679 : INFO : deleting the raw counts dictionary of 107612 items\n",
      "2020-12-01 11:02:45,689 : INFO : sample=0.001 downsamples 57 most-common words\n",
      "2020-12-01 11:02:45,691 : INFO : downsampling leaves estimated 1176382 word corpus (73.5% of prior 1601566)\n",
      "2020-12-01 11:02:45,824 : INFO : estimated required memory for 9657 words and 320 dimensions: 29550420 bytes\n",
      "2020-12-01 11:02:45,826 : INFO : resetting layer weights\n"
     ]
    }
   ],
   "source": [
    "w2v_model.build_vocab(documents)"
   ]
  },
  {
   "cell_type": "code",
   "execution_count": 63,
   "metadata": {},
   "outputs": [
    {
     "name": "stdout",
     "output_type": "stream",
     "text": [
      "Vocab size 9657\n"
     ]
    }
   ],
   "source": [
    "words = w2v_model.wv.vocab.keys()\n",
    "vocab_size = len(words)\n",
    "print(\"Vocab size\", vocab_size)"
   ]
  },
  {
   "cell_type": "code",
   "execution_count": 64,
   "metadata": {},
   "outputs": [
    {
     "name": "stderr",
     "output_type": "stream",
     "text": [
      "2020-12-01 11:03:21,337 : INFO : training model with 8 workers on 9657 vocabulary and 320 features, using sg=0 hs=0 sample=0.001 negative=5 window=7\n",
      "2020-12-01 11:03:22,425 : INFO : EPOCH 1 - PROGRESS: at 19.67% examples, 217937 words/s, in_qsize 15, out_qsize 0\n",
      "2020-12-01 11:03:23,426 : INFO : EPOCH 1 - PROGRESS: at 42.00% examples, 239486 words/s, in_qsize 16, out_qsize 0\n",
      "2020-12-01 11:03:24,460 : INFO : EPOCH 1 - PROGRESS: at 64.04% examples, 244563 words/s, in_qsize 16, out_qsize 2\n",
      "2020-12-01 11:03:25,479 : INFO : EPOCH 1 - PROGRESS: at 89.76% examples, 257320 words/s, in_qsize 15, out_qsize 0\n",
      "2020-12-01 11:03:25,761 : INFO : worker thread finished; awaiting finish of 7 more threads\n",
      "2020-12-01 11:03:25,773 : INFO : worker thread finished; awaiting finish of 6 more threads\n",
      "2020-12-01 11:03:25,777 : INFO : worker thread finished; awaiting finish of 5 more threads\n",
      "2020-12-01 11:03:25,779 : INFO : worker thread finished; awaiting finish of 4 more threads\n",
      "2020-12-01 11:03:25,782 : INFO : worker thread finished; awaiting finish of 3 more threads\n",
      "2020-12-01 11:03:25,803 : INFO : worker thread finished; awaiting finish of 2 more threads\n",
      "2020-12-01 11:03:25,816 : INFO : worker thread finished; awaiting finish of 1 more threads\n",
      "2020-12-01 11:03:25,867 : INFO : worker thread finished; awaiting finish of 0 more threads\n",
      "2020-12-01 11:03:25,872 : INFO : EPOCH - 1 : training on 1773065 raw words (1176692 effective words) took 4.5s, 261451 effective words/s\n",
      "2020-12-01 11:03:27,149 : INFO : EPOCH 2 - PROGRESS: at 15.27% examples, 143422 words/s, in_qsize 16, out_qsize 0\n",
      "2020-12-01 11:03:28,164 : INFO : EPOCH 2 - PROGRESS: at 38.17% examples, 198101 words/s, in_qsize 13, out_qsize 2\n",
      "2020-12-01 11:03:29,283 : INFO : EPOCH 2 - PROGRESS: at 63.66% examples, 222056 words/s, in_qsize 13, out_qsize 2\n",
      "2020-12-01 11:03:30,290 : INFO : EPOCH 2 - PROGRESS: at 86.09% examples, 231007 words/s, in_qsize 14, out_qsize 1\n",
      "2020-12-01 11:03:30,727 : INFO : worker thread finished; awaiting finish of 7 more threads\n",
      "2020-12-01 11:03:30,730 : INFO : worker thread finished; awaiting finish of 6 more threads\n",
      "2020-12-01 11:03:30,767 : INFO : worker thread finished; awaiting finish of 5 more threads\n",
      "2020-12-01 11:03:30,776 : INFO : worker thread finished; awaiting finish of 4 more threads\n",
      "2020-12-01 11:03:30,790 : INFO : worker thread finished; awaiting finish of 3 more threads\n",
      "2020-12-01 11:03:30,817 : INFO : worker thread finished; awaiting finish of 2 more threads\n",
      "2020-12-01 11:03:30,819 : INFO : worker thread finished; awaiting finish of 1 more threads\n",
      "2020-12-01 11:03:30,849 : INFO : worker thread finished; awaiting finish of 0 more threads\n",
      "2020-12-01 11:03:30,851 : INFO : EPOCH - 2 : training on 1773065 raw words (1176343 effective words) took 4.9s, 238204 effective words/s\n",
      "2020-12-01 11:03:31,897 : INFO : EPOCH 3 - PROGRESS: at 18.29% examples, 211701 words/s, in_qsize 16, out_qsize 0\n",
      "2020-12-01 11:03:32,905 : INFO : EPOCH 3 - PROGRESS: at 37.66% examples, 216446 words/s, in_qsize 16, out_qsize 1\n",
      "2020-12-01 11:03:33,927 : INFO : EPOCH 3 - PROGRESS: at 59.64% examples, 230154 words/s, in_qsize 16, out_qsize 1\n",
      "2020-12-01 11:03:34,930 : INFO : EPOCH 3 - PROGRESS: at 81.62% examples, 236606 words/s, in_qsize 15, out_qsize 0\n",
      "2020-12-01 11:03:35,478 : INFO : worker thread finished; awaiting finish of 7 more threads\n",
      "2020-12-01 11:03:35,497 : INFO : worker thread finished; awaiting finish of 6 more threads\n",
      "2020-12-01 11:03:35,532 : INFO : worker thread finished; awaiting finish of 5 more threads\n",
      "2020-12-01 11:03:35,540 : INFO : worker thread finished; awaiting finish of 4 more threads\n",
      "2020-12-01 11:03:35,549 : INFO : worker thread finished; awaiting finish of 3 more threads\n",
      "2020-12-01 11:03:35,568 : INFO : worker thread finished; awaiting finish of 2 more threads\n",
      "2020-12-01 11:03:35,589 : INFO : worker thread finished; awaiting finish of 1 more threads\n",
      "2020-12-01 11:03:35,592 : INFO : worker thread finished; awaiting finish of 0 more threads\n",
      "2020-12-01 11:03:35,594 : INFO : EPOCH - 3 : training on 1773065 raw words (1176489 effective words) took 4.7s, 249268 effective words/s\n",
      "2020-12-01 11:03:36,640 : INFO : EPOCH 4 - PROGRESS: at 20.01% examples, 230533 words/s, in_qsize 16, out_qsize 0\n",
      "2020-12-01 11:03:37,659 : INFO : EPOCH 4 - PROGRESS: at 38.51% examples, 221538 words/s, in_qsize 15, out_qsize 0\n",
      "2020-12-01 11:03:38,754 : INFO : EPOCH 4 - PROGRESS: at 59.19% examples, 221802 words/s, in_qsize 16, out_qsize 0\n",
      "2020-12-01 11:03:39,756 : INFO : EPOCH 4 - PROGRESS: at 76.53% examples, 217367 words/s, in_qsize 15, out_qsize 0\n",
      "2020-12-01 11:03:40,764 : INFO : EPOCH 4 - PROGRESS: at 94.75% examples, 216787 words/s, in_qsize 6, out_qsize 6\n",
      "2020-12-01 11:03:40,769 : INFO : worker thread finished; awaiting finish of 7 more threads\n",
      "2020-12-01 11:03:40,773 : INFO : worker thread finished; awaiting finish of 6 more threads\n",
      "2020-12-01 11:03:40,776 : INFO : worker thread finished; awaiting finish of 5 more threads\n",
      "2020-12-01 11:03:40,786 : INFO : worker thread finished; awaiting finish of 4 more threads\n",
      "2020-12-01 11:03:40,811 : INFO : worker thread finished; awaiting finish of 3 more threads\n",
      "2020-12-01 11:03:40,854 : INFO : worker thread finished; awaiting finish of 2 more threads\n",
      "2020-12-01 11:03:40,904 : INFO : worker thread finished; awaiting finish of 1 more threads\n",
      "2020-12-01 11:03:40,917 : INFO : worker thread finished; awaiting finish of 0 more threads\n",
      "2020-12-01 11:03:40,919 : INFO : EPOCH - 4 : training on 1773065 raw words (1176586 effective words) took 5.3s, 221814 effective words/s\n",
      "2020-12-01 11:03:42,049 : INFO : EPOCH 5 - PROGRESS: at 14.68% examples, 162205 words/s, in_qsize 15, out_qsize 1\n",
      "2020-12-01 11:03:43,106 : INFO : EPOCH 5 - PROGRESS: at 37.13% examples, 205157 words/s, in_qsize 15, out_qsize 0\n",
      "2020-12-01 11:03:44,116 : INFO : EPOCH 5 - PROGRESS: at 59.13% examples, 223092 words/s, in_qsize 16, out_qsize 0\n",
      "2020-12-01 11:03:45,198 : INFO : EPOCH 5 - PROGRESS: at 81.55% examples, 228349 words/s, in_qsize 15, out_qsize 0\n",
      "2020-12-01 11:03:45,989 : INFO : worker thread finished; awaiting finish of 7 more threads\n",
      "2020-12-01 11:03:45,993 : INFO : worker thread finished; awaiting finish of 6 more threads\n",
      "2020-12-01 11:03:45,995 : INFO : worker thread finished; awaiting finish of 5 more threads\n",
      "2020-12-01 11:03:46,025 : INFO : worker thread finished; awaiting finish of 4 more threads\n",
      "2020-12-01 11:03:46,030 : INFO : worker thread finished; awaiting finish of 3 more threads\n",
      "2020-12-01 11:03:46,063 : INFO : worker thread finished; awaiting finish of 2 more threads\n",
      "2020-12-01 11:03:46,088 : INFO : worker thread finished; awaiting finish of 1 more threads\n",
      "2020-12-01 11:03:46,096 : INFO : worker thread finished; awaiting finish of 0 more threads\n",
      "2020-12-01 11:03:46,098 : INFO : EPOCH - 5 : training on 1773065 raw words (1177041 effective words) took 5.1s, 230688 effective words/s\n",
      "2020-12-01 11:03:47,186 : INFO : EPOCH 6 - PROGRESS: at 25.13% examples, 284595 words/s, in_qsize 16, out_qsize 0\n",
      "2020-12-01 11:03:48,217 : INFO : EPOCH 6 - PROGRESS: at 42.52% examples, 240895 words/s, in_qsize 15, out_qsize 0\n",
      "2020-12-01 11:03:49,249 : INFO : EPOCH 6 - PROGRESS: at 64.20% examples, 243552 words/s, in_qsize 16, out_qsize 0\n",
      "2020-12-01 11:03:50,281 : INFO : EPOCH 6 - PROGRESS: at 87.21% examples, 247907 words/s, in_qsize 16, out_qsize 0\n",
      "2020-12-01 11:03:50,707 : INFO : worker thread finished; awaiting finish of 7 more threads\n",
      "2020-12-01 11:03:50,735 : INFO : worker thread finished; awaiting finish of 6 more threads\n",
      "2020-12-01 11:03:50,738 : INFO : worker thread finished; awaiting finish of 5 more threads\n",
      "2020-12-01 11:03:50,741 : INFO : worker thread finished; awaiting finish of 4 more threads\n",
      "2020-12-01 11:03:50,759 : INFO : worker thread finished; awaiting finish of 3 more threads\n",
      "2020-12-01 11:03:50,765 : INFO : worker thread finished; awaiting finish of 2 more threads\n",
      "2020-12-01 11:03:50,816 : INFO : worker thread finished; awaiting finish of 1 more threads\n",
      "2020-12-01 11:03:50,834 : INFO : worker thread finished; awaiting finish of 0 more threads\n",
      "2020-12-01 11:03:50,837 : INFO : EPOCH - 6 : training on 1773065 raw words (1176484 effective words) took 4.7s, 250922 effective words/s\n",
      "2020-12-01 11:03:51,930 : INFO : EPOCH 7 - PROGRESS: at 17.34% examples, 194702 words/s, in_qsize 15, out_qsize 0\n"
     ]
    },
    {
     "name": "stderr",
     "output_type": "stream",
     "text": [
      "2020-12-01 11:03:52,958 : INFO : EPOCH 7 - PROGRESS: at 37.00% examples, 209012 words/s, in_qsize 16, out_qsize 0\n",
      "2020-12-01 11:03:53,993 : INFO : EPOCH 7 - PROGRESS: at 57.44% examples, 217654 words/s, in_qsize 16, out_qsize 0\n",
      "2020-12-01 11:03:55,012 : INFO : EPOCH 7 - PROGRESS: at 74.30% examples, 211641 words/s, in_qsize 16, out_qsize 2\n",
      "2020-12-01 11:03:55,998 : INFO : worker thread finished; awaiting finish of 7 more threads\n",
      "2020-12-01 11:03:56,006 : INFO : worker thread finished; awaiting finish of 6 more threads\n",
      "2020-12-01 11:03:56,010 : INFO : worker thread finished; awaiting finish of 5 more threads\n",
      "2020-12-01 11:03:56,017 : INFO : EPOCH 7 - PROGRESS: at 97.82% examples, 224155 words/s, in_qsize 4, out_qsize 1\n",
      "2020-12-01 11:03:56,020 : INFO : worker thread finished; awaiting finish of 4 more threads\n",
      "2020-12-01 11:03:56,033 : INFO : worker thread finished; awaiting finish of 3 more threads\n",
      "2020-12-01 11:03:56,051 : INFO : worker thread finished; awaiting finish of 2 more threads\n",
      "2020-12-01 11:03:56,104 : INFO : worker thread finished; awaiting finish of 1 more threads\n",
      "2020-12-01 11:03:56,107 : INFO : worker thread finished; awaiting finish of 0 more threads\n",
      "2020-12-01 11:03:56,110 : INFO : EPOCH - 7 : training on 1773065 raw words (1176531 effective words) took 5.2s, 225230 effective words/s\n",
      "2020-12-01 11:03:57,201 : INFO : EPOCH 8 - PROGRESS: at 20.00% examples, 231368 words/s, in_qsize 15, out_qsize 0\n",
      "2020-12-01 11:03:58,249 : INFO : EPOCH 8 - PROGRESS: at 40.89% examples, 231496 words/s, in_qsize 14, out_qsize 1\n",
      "2020-12-01 11:03:59,310 : INFO : EPOCH 8 - PROGRESS: at 64.20% examples, 241439 words/s, in_qsize 14, out_qsize 1\n",
      "2020-12-01 11:04:00,312 : INFO : EPOCH 8 - PROGRESS: at 83.87% examples, 238535 words/s, in_qsize 16, out_qsize 0\n",
      "2020-12-01 11:04:00,883 : INFO : worker thread finished; awaiting finish of 7 more threads\n",
      "2020-12-01 11:04:00,894 : INFO : worker thread finished; awaiting finish of 6 more threads\n",
      "2020-12-01 11:04:00,897 : INFO : worker thread finished; awaiting finish of 5 more threads\n",
      "2020-12-01 11:04:00,899 : INFO : worker thread finished; awaiting finish of 4 more threads\n",
      "2020-12-01 11:04:00,914 : INFO : worker thread finished; awaiting finish of 3 more threads\n",
      "2020-12-01 11:04:00,943 : INFO : worker thread finished; awaiting finish of 2 more threads\n",
      "2020-12-01 11:04:00,960 : INFO : worker thread finished; awaiting finish of 1 more threads\n",
      "2020-12-01 11:04:00,970 : INFO : worker thread finished; awaiting finish of 0 more threads\n",
      "2020-12-01 11:04:00,973 : INFO : EPOCH - 8 : training on 1773065 raw words (1177202 effective words) took 4.8s, 245597 effective words/s\n",
      "2020-12-01 11:04:02,003 : INFO : EPOCH 9 - PROGRESS: at 18.41% examples, 214507 words/s, in_qsize 14, out_qsize 1\n",
      "2020-12-01 11:04:03,075 : INFO : EPOCH 9 - PROGRESS: at 43.64% examples, 245741 words/s, in_qsize 15, out_qsize 0\n",
      "2020-12-01 11:04:04,143 : INFO : EPOCH 9 - PROGRESS: at 59.76% examples, 223203 words/s, in_qsize 16, out_qsize 1\n",
      "2020-12-01 11:04:05,190 : INFO : EPOCH 9 - PROGRESS: at 78.43% examples, 219097 words/s, in_qsize 16, out_qsize 0\n",
      "2020-12-01 11:04:05,944 : INFO : worker thread finished; awaiting finish of 7 more threads\n",
      "2020-12-01 11:04:06,005 : INFO : worker thread finished; awaiting finish of 6 more threads\n",
      "2020-12-01 11:04:06,021 : INFO : worker thread finished; awaiting finish of 5 more threads\n",
      "2020-12-01 11:04:06,054 : INFO : worker thread finished; awaiting finish of 4 more threads\n",
      "2020-12-01 11:04:06,073 : INFO : worker thread finished; awaiting finish of 3 more threads\n",
      "2020-12-01 11:04:06,081 : INFO : worker thread finished; awaiting finish of 2 more threads\n",
      "2020-12-01 11:04:06,083 : INFO : worker thread finished; awaiting finish of 1 more threads\n",
      "2020-12-01 11:04:06,104 : INFO : worker thread finished; awaiting finish of 0 more threads\n",
      "2020-12-01 11:04:06,122 : INFO : EPOCH - 9 : training on 1773065 raw words (1176011 effective words) took 5.1s, 229391 effective words/s\n",
      "2020-12-01 11:04:07,347 : INFO : EPOCH 10 - PROGRESS: at 17.27% examples, 191646 words/s, in_qsize 14, out_qsize 1\n",
      "2020-12-01 11:04:08,370 : INFO : EPOCH 10 - PROGRESS: at 40.89% examples, 229660 words/s, in_qsize 15, out_qsize 0\n",
      "2020-12-01 11:04:09,377 : INFO : EPOCH 10 - PROGRESS: at 60.22% examples, 229523 words/s, in_qsize 15, out_qsize 0\n",
      "2020-12-01 11:04:10,379 : INFO : EPOCH 10 - PROGRESS: at 82.58% examples, 237535 words/s, in_qsize 15, out_qsize 0\n",
      "2020-12-01 11:04:11,052 : INFO : worker thread finished; awaiting finish of 7 more threads\n",
      "2020-12-01 11:04:11,060 : INFO : worker thread finished; awaiting finish of 6 more threads\n",
      "2020-12-01 11:04:11,064 : INFO : worker thread finished; awaiting finish of 5 more threads\n",
      "2020-12-01 11:04:11,066 : INFO : worker thread finished; awaiting finish of 4 more threads\n",
      "2020-12-01 11:04:11,088 : INFO : worker thread finished; awaiting finish of 3 more threads\n",
      "2020-12-01 11:04:11,133 : INFO : worker thread finished; awaiting finish of 2 more threads\n",
      "2020-12-01 11:04:11,140 : INFO : worker thread finished; awaiting finish of 1 more threads\n",
      "2020-12-01 11:04:11,156 : INFO : worker thread finished; awaiting finish of 0 more threads\n",
      "2020-12-01 11:04:11,163 : INFO : EPOCH - 10 : training on 1773065 raw words (1176548 effective words) took 4.9s, 241303 effective words/s\n",
      "2020-12-01 11:04:12,228 : INFO : EPOCH 11 - PROGRESS: at 17.93% examples, 207863 words/s, in_qsize 16, out_qsize 0\n",
      "2020-12-01 11:04:13,244 : INFO : EPOCH 11 - PROGRESS: at 39.83% examples, 229846 words/s, in_qsize 16, out_qsize 0\n",
      "2020-12-01 11:04:14,255 : INFO : EPOCH 11 - PROGRESS: at 62.48% examples, 242224 words/s, in_qsize 16, out_qsize 0\n",
      "2020-12-01 11:04:15,265 : INFO : EPOCH 11 - PROGRESS: at 81.60% examples, 237101 words/s, in_qsize 13, out_qsize 2\n",
      "2020-12-01 11:04:15,784 : INFO : worker thread finished; awaiting finish of 7 more threads\n",
      "2020-12-01 11:04:15,788 : INFO : worker thread finished; awaiting finish of 6 more threads\n",
      "2020-12-01 11:04:15,813 : INFO : worker thread finished; awaiting finish of 5 more threads\n",
      "2020-12-01 11:04:15,836 : INFO : worker thread finished; awaiting finish of 4 more threads\n",
      "2020-12-01 11:04:15,847 : INFO : worker thread finished; awaiting finish of 3 more threads\n",
      "2020-12-01 11:04:15,859 : INFO : worker thread finished; awaiting finish of 2 more threads\n",
      "2020-12-01 11:04:15,863 : INFO : worker thread finished; awaiting finish of 1 more threads\n",
      "2020-12-01 11:04:15,867 : INFO : worker thread finished; awaiting finish of 0 more threads\n",
      "2020-12-01 11:04:15,900 : INFO : EPOCH - 11 : training on 1773065 raw words (1176600 effective words) took 4.7s, 251414 effective words/s\n",
      "2020-12-01 11:04:17,008 : INFO : EPOCH 12 - PROGRESS: at 20.71% examples, 233067 words/s, in_qsize 15, out_qsize 0\n",
      "2020-12-01 11:04:18,032 : INFO : EPOCH 12 - PROGRESS: at 41.59% examples, 234888 words/s, in_qsize 16, out_qsize 0\n",
      "2020-12-01 11:04:19,042 : INFO : EPOCH 12 - PROGRESS: at 63.09% examples, 241371 words/s, in_qsize 16, out_qsize 0\n",
      "2020-12-01 11:04:20,057 : INFO : EPOCH 12 - PROGRESS: at 86.54% examples, 248925 words/s, in_qsize 14, out_qsize 1\n",
      "2020-12-01 11:04:20,543 : INFO : worker thread finished; awaiting finish of 7 more threads\n",
      "2020-12-01 11:04:20,562 : INFO : worker thread finished; awaiting finish of 6 more threads\n",
      "2020-12-01 11:04:20,569 : INFO : worker thread finished; awaiting finish of 5 more threads\n",
      "2020-12-01 11:04:20,581 : INFO : worker thread finished; awaiting finish of 4 more threads\n",
      "2020-12-01 11:04:20,583 : INFO : worker thread finished; awaiting finish of 3 more threads\n",
      "2020-12-01 11:04:20,586 : INFO : worker thread finished; awaiting finish of 2 more threads\n",
      "2020-12-01 11:04:20,612 : INFO : worker thread finished; awaiting finish of 1 more threads\n",
      "2020-12-01 11:04:20,636 : INFO : worker thread finished; awaiting finish of 0 more threads\n",
      "2020-12-01 11:04:20,638 : INFO : EPOCH - 12 : training on 1773065 raw words (1176764 effective words) took 4.7s, 251961 effective words/s\n",
      "2020-12-01 11:04:21,739 : INFO : EPOCH 13 - PROGRESS: at 20.75% examples, 229048 words/s, in_qsize 15, out_qsize 0\n",
      "2020-12-01 11:04:22,774 : INFO : EPOCH 13 - PROGRESS: at 39.74% examples, 222402 words/s, in_qsize 16, out_qsize 1\n",
      "2020-12-01 11:04:23,892 : INFO : EPOCH 13 - PROGRESS: at 63.06% examples, 231032 words/s, in_qsize 15, out_qsize 0\n"
     ]
    },
    {
     "name": "stderr",
     "output_type": "stream",
     "text": [
      "2020-12-01 11:04:24,898 : INFO : EPOCH 13 - PROGRESS: at 84.43% examples, 235143 words/s, in_qsize 16, out_qsize 0\n",
      "2020-12-01 11:04:25,567 : INFO : worker thread finished; awaiting finish of 7 more threads\n",
      "2020-12-01 11:04:25,581 : INFO : worker thread finished; awaiting finish of 6 more threads\n",
      "2020-12-01 11:04:25,591 : INFO : worker thread finished; awaiting finish of 5 more threads\n",
      "2020-12-01 11:04:25,612 : INFO : worker thread finished; awaiting finish of 4 more threads\n",
      "2020-12-01 11:04:25,648 : INFO : worker thread finished; awaiting finish of 3 more threads\n",
      "2020-12-01 11:04:25,653 : INFO : worker thread finished; awaiting finish of 2 more threads\n",
      "2020-12-01 11:04:25,660 : INFO : worker thread finished; awaiting finish of 1 more threads\n",
      "2020-12-01 11:04:25,673 : INFO : worker thread finished; awaiting finish of 0 more threads\n",
      "2020-12-01 11:04:25,675 : INFO : EPOCH - 13 : training on 1773065 raw words (1176626 effective words) took 5.0s, 235549 effective words/s\n",
      "2020-12-01 11:04:26,762 : INFO : EPOCH 14 - PROGRESS: at 16.27% examples, 184483 words/s, in_qsize 15, out_qsize 0\n",
      "2020-12-01 11:04:27,800 : INFO : EPOCH 14 - PROGRESS: at 36.48% examples, 206280 words/s, in_qsize 16, out_qsize 2\n",
      "2020-12-01 11:04:28,862 : INFO : EPOCH 14 - PROGRESS: at 60.29% examples, 226621 words/s, in_qsize 16, out_qsize 0\n",
      "2020-12-01 11:04:29,882 : INFO : EPOCH 14 - PROGRESS: at 82.69% examples, 234197 words/s, in_qsize 15, out_qsize 0\n",
      "2020-12-01 11:04:30,484 : INFO : worker thread finished; awaiting finish of 7 more threads\n",
      "2020-12-01 11:04:30,491 : INFO : worker thread finished; awaiting finish of 6 more threads\n",
      "2020-12-01 11:04:30,504 : INFO : worker thread finished; awaiting finish of 5 more threads\n",
      "2020-12-01 11:04:30,531 : INFO : worker thread finished; awaiting finish of 4 more threads\n",
      "2020-12-01 11:04:30,541 : INFO : worker thread finished; awaiting finish of 3 more threads\n",
      "2020-12-01 11:04:30,565 : INFO : worker thread finished; awaiting finish of 2 more threads\n",
      "2020-12-01 11:04:30,570 : INFO : worker thread finished; awaiting finish of 1 more threads\n",
      "2020-12-01 11:04:30,579 : INFO : worker thread finished; awaiting finish of 0 more threads\n",
      "2020-12-01 11:04:30,581 : INFO : EPOCH - 14 : training on 1773065 raw words (1176444 effective words) took 4.9s, 242533 effective words/s\n",
      "2020-12-01 11:04:31,645 : INFO : EPOCH 15 - PROGRESS: at 19.07% examples, 218149 words/s, in_qsize 15, out_qsize 0\n",
      "2020-12-01 11:04:32,725 : INFO : EPOCH 15 - PROGRESS: at 43.70% examples, 243342 words/s, in_qsize 16, out_qsize 0\n",
      "2020-12-01 11:04:33,761 : INFO : EPOCH 15 - PROGRESS: at 66.90% examples, 251065 words/s, in_qsize 16, out_qsize 1\n",
      "2020-12-01 11:04:34,771 : INFO : EPOCH 15 - PROGRESS: at 85.61% examples, 242266 words/s, in_qsize 16, out_qsize 0\n",
      "2020-12-01 11:04:35,182 : INFO : worker thread finished; awaiting finish of 7 more threads\n",
      "2020-12-01 11:04:35,201 : INFO : worker thread finished; awaiting finish of 6 more threads\n",
      "2020-12-01 11:04:35,220 : INFO : worker thread finished; awaiting finish of 5 more threads\n",
      "2020-12-01 11:04:35,249 : INFO : worker thread finished; awaiting finish of 4 more threads\n",
      "2020-12-01 11:04:35,268 : INFO : worker thread finished; awaiting finish of 3 more threads\n",
      "2020-12-01 11:04:35,271 : INFO : worker thread finished; awaiting finish of 2 more threads\n",
      "2020-12-01 11:04:35,280 : INFO : worker thread finished; awaiting finish of 1 more threads\n",
      "2020-12-01 11:04:35,294 : INFO : worker thread finished; awaiting finish of 0 more threads\n",
      "2020-12-01 11:04:35,297 : INFO : EPOCH - 15 : training on 1773065 raw words (1176256 effective words) took 4.7s, 251650 effective words/s\n",
      "2020-12-01 11:04:36,404 : INFO : EPOCH 16 - PROGRESS: at 15.22% examples, 165366 words/s, in_qsize 16, out_qsize 0\n",
      "2020-12-01 11:04:37,493 : INFO : EPOCH 16 - PROGRESS: at 29.22% examples, 157627 words/s, in_qsize 16, out_qsize 1\n",
      "2020-12-01 11:04:38,514 : INFO : EPOCH 16 - PROGRESS: at 45.89% examples, 169028 words/s, in_qsize 15, out_qsize 0\n",
      "2020-12-01 11:04:39,528 : INFO : EPOCH 16 - PROGRESS: at 63.51% examples, 178302 words/s, in_qsize 15, out_qsize 0\n",
      "2020-12-01 11:04:40,534 : INFO : EPOCH 16 - PROGRESS: at 83.93% examples, 189341 words/s, in_qsize 15, out_qsize 0\n",
      "2020-12-01 11:04:41,419 : INFO : worker thread finished; awaiting finish of 7 more threads\n",
      "2020-12-01 11:04:41,426 : INFO : worker thread finished; awaiting finish of 6 more threads\n",
      "2020-12-01 11:04:41,442 : INFO : worker thread finished; awaiting finish of 5 more threads\n",
      "2020-12-01 11:04:41,493 : INFO : worker thread finished; awaiting finish of 4 more threads\n",
      "2020-12-01 11:04:41,495 : INFO : worker thread finished; awaiting finish of 3 more threads\n",
      "2020-12-01 11:04:41,546 : INFO : EPOCH 16 - PROGRESS: at 99.01% examples, 187131 words/s, in_qsize 2, out_qsize 1\n",
      "2020-12-01 11:04:41,548 : INFO : worker thread finished; awaiting finish of 2 more threads\n",
      "2020-12-01 11:04:41,571 : INFO : worker thread finished; awaiting finish of 1 more threads\n",
      "2020-12-01 11:04:41,586 : INFO : worker thread finished; awaiting finish of 0 more threads\n",
      "2020-12-01 11:04:41,589 : INFO : EPOCH - 16 : training on 1773065 raw words (1176134 effective words) took 6.3s, 187978 effective words/s\n",
      "2020-12-01 11:04:42,817 : INFO : EPOCH 17 - PROGRESS: at 14.71% examples, 165035 words/s, in_qsize 15, out_qsize 0\n",
      "2020-12-01 11:04:43,823 : INFO : EPOCH 17 - PROGRESS: at 32.79% examples, 186415 words/s, in_qsize 16, out_qsize 0\n",
      "2020-12-01 11:04:44,848 : INFO : EPOCH 17 - PROGRESS: at 53.36% examples, 205463 words/s, in_qsize 16, out_qsize 0\n",
      "2020-12-01 11:04:45,868 : INFO : EPOCH 17 - PROGRESS: at 73.54% examples, 212114 words/s, in_qsize 16, out_qsize 0\n",
      "2020-12-01 11:04:46,904 : INFO : EPOCH 17 - PROGRESS: at 95.60% examples, 219100 words/s, in_qsize 9, out_qsize 0\n",
      "2020-12-01 11:04:46,951 : INFO : worker thread finished; awaiting finish of 7 more threads\n",
      "2020-12-01 11:04:46,958 : INFO : worker thread finished; awaiting finish of 6 more threads\n",
      "2020-12-01 11:04:46,985 : INFO : worker thread finished; awaiting finish of 5 more threads\n",
      "2020-12-01 11:04:46,997 : INFO : worker thread finished; awaiting finish of 4 more threads\n",
      "2020-12-01 11:04:47,001 : INFO : worker thread finished; awaiting finish of 3 more threads\n",
      "2020-12-01 11:04:47,022 : INFO : worker thread finished; awaiting finish of 2 more threads\n",
      "2020-12-01 11:04:47,038 : INFO : worker thread finished; awaiting finish of 1 more threads\n",
      "2020-12-01 11:04:47,058 : INFO : worker thread finished; awaiting finish of 0 more threads\n",
      "2020-12-01 11:04:47,060 : INFO : EPOCH - 17 : training on 1773065 raw words (1175991 effective words) took 5.3s, 222826 effective words/s\n",
      "2020-12-01 11:04:48,114 : INFO : EPOCH 18 - PROGRESS: at 18.85% examples, 217226 words/s, in_qsize 15, out_qsize 0\n",
      "2020-12-01 11:04:49,196 : INFO : EPOCH 18 - PROGRESS: at 44.19% examples, 245919 words/s, in_qsize 15, out_qsize 0\n",
      "2020-12-01 11:04:50,268 : INFO : EPOCH 18 - PROGRESS: at 68.11% examples, 252143 words/s, in_qsize 16, out_qsize 1\n",
      "2020-12-01 11:04:51,280 : INFO : EPOCH 18 - PROGRESS: at 93.36% examples, 261594 words/s, in_qsize 13, out_qsize 0\n",
      "2020-12-01 11:04:51,373 : INFO : worker thread finished; awaiting finish of 7 more threads\n",
      "2020-12-01 11:04:51,379 : INFO : worker thread finished; awaiting finish of 6 more threads\n",
      "2020-12-01 11:04:51,406 : INFO : worker thread finished; awaiting finish of 5 more threads\n",
      "2020-12-01 11:04:51,491 : INFO : worker thread finished; awaiting finish of 4 more threads\n",
      "2020-12-01 11:04:51,515 : INFO : worker thread finished; awaiting finish of 3 more threads\n",
      "2020-12-01 11:04:51,526 : INFO : worker thread finished; awaiting finish of 2 more threads\n",
      "2020-12-01 11:04:51,564 : INFO : worker thread finished; awaiting finish of 1 more threads\n",
      "2020-12-01 11:04:51,567 : INFO : worker thread finished; awaiting finish of 0 more threads\n",
      "2020-12-01 11:04:51,571 : INFO : EPOCH - 18 : training on 1773065 raw words (1176691 effective words) took 4.5s, 262509 effective words/s\n",
      "2020-12-01 11:04:52,703 : INFO : EPOCH 19 - PROGRESS: at 17.27% examples, 194010 words/s, in_qsize 14, out_qsize 1\n",
      "2020-12-01 11:04:53,732 : INFO : EPOCH 19 - PROGRESS: at 43.01% examples, 243381 words/s, in_qsize 16, out_qsize 0\n",
      "2020-12-01 11:04:54,756 : INFO : EPOCH 19 - PROGRESS: at 67.39% examples, 256378 words/s, in_qsize 15, out_qsize 0\n"
     ]
    },
    {
     "name": "stderr",
     "output_type": "stream",
     "text": [
      "2020-12-01 11:04:55,764 : INFO : EPOCH 19 - PROGRESS: at 90.41% examples, 258814 words/s, in_qsize 16, out_qsize 1\n",
      "2020-12-01 11:04:56,030 : INFO : worker thread finished; awaiting finish of 7 more threads\n",
      "2020-12-01 11:04:56,041 : INFO : worker thread finished; awaiting finish of 6 more threads\n",
      "2020-12-01 11:04:56,070 : INFO : worker thread finished; awaiting finish of 5 more threads\n",
      "2020-12-01 11:04:56,079 : INFO : worker thread finished; awaiting finish of 4 more threads\n",
      "2020-12-01 11:04:56,082 : INFO : worker thread finished; awaiting finish of 3 more threads\n",
      "2020-12-01 11:04:56,089 : INFO : worker thread finished; awaiting finish of 2 more threads\n",
      "2020-12-01 11:04:56,105 : INFO : worker thread finished; awaiting finish of 1 more threads\n",
      "2020-12-01 11:04:56,109 : INFO : worker thread finished; awaiting finish of 0 more threads\n",
      "2020-12-01 11:04:56,114 : INFO : EPOCH - 19 : training on 1773065 raw words (1176052 effective words) took 4.5s, 263864 effective words/s\n",
      "2020-12-01 11:04:57,262 : INFO : EPOCH 20 - PROGRESS: at 19.56% examples, 209072 words/s, in_qsize 14, out_qsize 1\n",
      "2020-12-01 11:04:58,338 : INFO : EPOCH 20 - PROGRESS: at 41.41% examples, 223028 words/s, in_qsize 16, out_qsize 3\n",
      "2020-12-01 11:04:59,376 : INFO : EPOCH 20 - PROGRESS: at 59.69% examples, 218728 words/s, in_qsize 15, out_qsize 0\n",
      "2020-12-01 11:05:00,484 : INFO : EPOCH 20 - PROGRESS: at 75.97% examples, 206701 words/s, in_qsize 15, out_qsize 0\n",
      "2020-12-01 11:05:01,502 : INFO : EPOCH 20 - PROGRESS: at 94.39% examples, 207782 words/s, in_qsize 11, out_qsize 0\n",
      "2020-12-01 11:05:01,603 : INFO : worker thread finished; awaiting finish of 7 more threads\n",
      "2020-12-01 11:05:01,606 : INFO : worker thread finished; awaiting finish of 6 more threads\n",
      "2020-12-01 11:05:01,609 : INFO : worker thread finished; awaiting finish of 5 more threads\n",
      "2020-12-01 11:05:01,611 : INFO : worker thread finished; awaiting finish of 4 more threads\n",
      "2020-12-01 11:05:01,636 : INFO : worker thread finished; awaiting finish of 3 more threads\n",
      "2020-12-01 11:05:01,676 : INFO : worker thread finished; awaiting finish of 2 more threads\n",
      "2020-12-01 11:05:01,692 : INFO : worker thread finished; awaiting finish of 1 more threads\n",
      "2020-12-01 11:05:01,706 : INFO : worker thread finished; awaiting finish of 0 more threads\n",
      "2020-12-01 11:05:01,709 : INFO : EPOCH - 20 : training on 1773065 raw words (1176148 effective words) took 5.5s, 212087 effective words/s\n",
      "2020-12-01 11:05:02,832 : INFO : EPOCH 21 - PROGRESS: at 12.46% examples, 142455 words/s, in_qsize 15, out_qsize 0\n",
      "2020-12-01 11:05:03,833 : INFO : EPOCH 21 - PROGRESS: at 29.76% examples, 172431 words/s, in_qsize 16, out_qsize 0\n",
      "2020-12-01 11:05:04,903 : INFO : EPOCH 21 - PROGRESS: at 49.69% examples, 189071 words/s, in_qsize 16, out_qsize 0\n",
      "2020-12-01 11:05:05,941 : INFO : EPOCH 21 - PROGRESS: at 71.93% examples, 205331 words/s, in_qsize 15, out_qsize 0\n",
      "2020-12-01 11:05:06,968 : INFO : EPOCH 21 - PROGRESS: at 95.92% examples, 219175 words/s, in_qsize 7, out_qsize 2\n",
      "2020-12-01 11:05:06,970 : INFO : worker thread finished; awaiting finish of 7 more threads\n",
      "2020-12-01 11:05:06,976 : INFO : worker thread finished; awaiting finish of 6 more threads\n",
      "2020-12-01 11:05:06,983 : INFO : worker thread finished; awaiting finish of 5 more threads\n",
      "2020-12-01 11:05:06,993 : INFO : worker thread finished; awaiting finish of 4 more threads\n",
      "2020-12-01 11:05:07,024 : INFO : worker thread finished; awaiting finish of 3 more threads\n",
      "2020-12-01 11:05:07,029 : INFO : worker thread finished; awaiting finish of 2 more threads\n",
      "2020-12-01 11:05:07,032 : INFO : worker thread finished; awaiting finish of 1 more threads\n",
      "2020-12-01 11:05:07,058 : INFO : worker thread finished; awaiting finish of 0 more threads\n",
      "2020-12-01 11:05:07,060 : INFO : EPOCH - 21 : training on 1773065 raw words (1176723 effective words) took 5.2s, 224278 effective words/s\n",
      "2020-12-01 11:05:08,142 : INFO : EPOCH 22 - PROGRESS: at 17.22% examples, 193272 words/s, in_qsize 15, out_qsize 0\n",
      "2020-12-01 11:05:09,243 : INFO : EPOCH 22 - PROGRESS: at 40.84% examples, 222403 words/s, in_qsize 15, out_qsize 2\n",
      "2020-12-01 11:05:10,254 : INFO : EPOCH 22 - PROGRESS: at 64.62% examples, 240906 words/s, in_qsize 16, out_qsize 0\n",
      "2020-12-01 11:05:11,256 : INFO : EPOCH 22 - PROGRESS: at 83.31% examples, 235047 words/s, in_qsize 16, out_qsize 0\n",
      "2020-12-01 11:05:11,917 : INFO : worker thread finished; awaiting finish of 7 more threads\n",
      "2020-12-01 11:05:11,983 : INFO : worker thread finished; awaiting finish of 6 more threads\n",
      "2020-12-01 11:05:11,996 : INFO : worker thread finished; awaiting finish of 5 more threads\n",
      "2020-12-01 11:05:12,077 : INFO : worker thread finished; awaiting finish of 4 more threads\n",
      "2020-12-01 11:05:12,094 : INFO : worker thread finished; awaiting finish of 3 more threads\n",
      "2020-12-01 11:05:12,119 : INFO : worker thread finished; awaiting finish of 2 more threads\n",
      "2020-12-01 11:05:12,127 : INFO : worker thread finished; awaiting finish of 1 more threads\n",
      "2020-12-01 11:05:12,143 : INFO : worker thread finished; awaiting finish of 0 more threads\n",
      "2020-12-01 11:05:12,145 : INFO : EPOCH - 22 : training on 1773065 raw words (1176649 effective words) took 5.1s, 232758 effective words/s\n",
      "2020-12-01 11:05:13,383 : INFO : EPOCH 23 - PROGRESS: at 20.04% examples, 208403 words/s, in_qsize 16, out_qsize 1\n",
      "2020-12-01 11:05:14,401 : INFO : EPOCH 23 - PROGRESS: at 39.73% examples, 216554 words/s, in_qsize 15, out_qsize 0\n",
      "2020-12-01 11:05:15,416 : INFO : EPOCH 23 - PROGRESS: at 57.96% examples, 215748 words/s, in_qsize 15, out_qsize 0\n",
      "2020-12-01 11:05:16,419 : INFO : EPOCH 23 - PROGRESS: at 73.73% examples, 207986 words/s, in_qsize 16, out_qsize 0\n",
      "2020-12-01 11:05:17,457 : INFO : EPOCH 23 - PROGRESS: at 91.73% examples, 206896 words/s, in_qsize 15, out_qsize 0\n",
      "2020-12-01 11:05:17,651 : INFO : worker thread finished; awaiting finish of 7 more threads\n",
      "2020-12-01 11:05:17,661 : INFO : worker thread finished; awaiting finish of 6 more threads\n",
      "2020-12-01 11:05:17,674 : INFO : worker thread finished; awaiting finish of 5 more threads\n",
      "2020-12-01 11:05:17,707 : INFO : worker thread finished; awaiting finish of 4 more threads\n",
      "2020-12-01 11:05:17,714 : INFO : worker thread finished; awaiting finish of 3 more threads\n",
      "2020-12-01 11:05:17,723 : INFO : worker thread finished; awaiting finish of 2 more threads\n",
      "2020-12-01 11:05:17,734 : INFO : worker thread finished; awaiting finish of 1 more threads\n",
      "2020-12-01 11:05:17,782 : INFO : worker thread finished; awaiting finish of 0 more threads\n",
      "2020-12-01 11:05:17,785 : INFO : EPOCH - 23 : training on 1773065 raw words (1176871 effective words) took 5.5s, 212642 effective words/s\n",
      "2020-12-01 11:05:18,986 : INFO : EPOCH 24 - PROGRESS: at 16.27% examples, 177279 words/s, in_qsize 16, out_qsize 2\n",
      "2020-12-01 11:05:20,006 : INFO : EPOCH 24 - PROGRESS: at 40.32% examples, 225527 words/s, in_qsize 16, out_qsize 0\n",
      "2020-12-01 11:05:21,091 : INFO : EPOCH 24 - PROGRESS: at 62.48% examples, 231410 words/s, in_qsize 16, out_qsize 0\n",
      "2020-12-01 11:05:22,097 : INFO : EPOCH 24 - PROGRESS: at 87.11% examples, 244980 words/s, in_qsize 16, out_qsize 3\n",
      "2020-12-01 11:05:22,516 : INFO : worker thread finished; awaiting finish of 7 more threads\n",
      "2020-12-01 11:05:22,531 : INFO : worker thread finished; awaiting finish of 6 more threads\n",
      "2020-12-01 11:05:22,538 : INFO : worker thread finished; awaiting finish of 5 more threads\n",
      "2020-12-01 11:05:22,558 : INFO : worker thread finished; awaiting finish of 4 more threads\n",
      "2020-12-01 11:05:22,565 : INFO : worker thread finished; awaiting finish of 3 more threads\n",
      "2020-12-01 11:05:22,606 : INFO : worker thread finished; awaiting finish of 2 more threads\n",
      "2020-12-01 11:05:22,615 : INFO : worker thread finished; awaiting finish of 1 more threads\n",
      "2020-12-01 11:05:22,651 : INFO : worker thread finished; awaiting finish of 0 more threads\n",
      "2020-12-01 11:05:22,654 : INFO : EPOCH - 24 : training on 1773065 raw words (1177517 effective words) took 4.7s, 248240 effective words/s\n",
      "2020-12-01 11:05:23,710 : INFO : EPOCH 25 - PROGRESS: at 16.15% examples, 187510 words/s, in_qsize 10, out_qsize 5\n",
      "2020-12-01 11:05:24,728 : INFO : EPOCH 25 - PROGRESS: at 37.23% examples, 212951 words/s, in_qsize 15, out_qsize 0\n",
      "2020-12-01 11:05:25,773 : INFO : EPOCH 25 - PROGRESS: at 55.20% examples, 211135 words/s, in_qsize 16, out_qsize 0\n"
     ]
    },
    {
     "name": "stderr",
     "output_type": "stream",
     "text": [
      "2020-12-01 11:05:26,793 : INFO : EPOCH 25 - PROGRESS: at 74.82% examples, 214830 words/s, in_qsize 15, out_qsize 0\n",
      "2020-12-01 11:05:27,788 : INFO : worker thread finished; awaiting finish of 7 more threads\n",
      "2020-12-01 11:05:27,793 : INFO : EPOCH 25 - PROGRESS: at 96.66% examples, 223062 words/s, in_qsize 6, out_qsize 1\n",
      "2020-12-01 11:05:27,795 : INFO : worker thread finished; awaiting finish of 6 more threads\n",
      "2020-12-01 11:05:27,799 : INFO : worker thread finished; awaiting finish of 5 more threads\n",
      "2020-12-01 11:05:27,803 : INFO : worker thread finished; awaiting finish of 4 more threads\n",
      "2020-12-01 11:05:27,836 : INFO : worker thread finished; awaiting finish of 3 more threads\n",
      "2020-12-01 11:05:27,850 : INFO : worker thread finished; awaiting finish of 2 more threads\n",
      "2020-12-01 11:05:27,887 : INFO : worker thread finished; awaiting finish of 1 more threads\n",
      "2020-12-01 11:05:27,915 : INFO : worker thread finished; awaiting finish of 0 more threads\n",
      "2020-12-01 11:05:27,918 : INFO : EPOCH - 25 : training on 1773065 raw words (1176380 effective words) took 5.2s, 225279 effective words/s\n",
      "2020-12-01 11:05:28,990 : INFO : EPOCH 26 - PROGRESS: at 15.21% examples, 173683 words/s, in_qsize 15, out_qsize 0\n",
      "2020-12-01 11:05:30,077 : INFO : EPOCH 26 - PROGRESS: at 29.41% examples, 162012 words/s, in_qsize 16, out_qsize 0\n",
      "2020-12-01 11:05:31,116 : INFO : EPOCH 26 - PROGRESS: at 44.15% examples, 164632 words/s, in_qsize 16, out_qsize 0\n",
      "2020-12-01 11:05:32,129 : INFO : EPOCH 26 - PROGRESS: at 62.41% examples, 176857 words/s, in_qsize 15, out_qsize 0\n",
      "2020-12-01 11:05:33,149 : INFO : EPOCH 26 - PROGRESS: at 85.55% examples, 194002 words/s, in_qsize 16, out_qsize 0\n",
      "2020-12-01 11:05:33,582 : INFO : worker thread finished; awaiting finish of 7 more threads\n",
      "2020-12-01 11:05:33,587 : INFO : worker thread finished; awaiting finish of 6 more threads\n",
      "2020-12-01 11:05:33,593 : INFO : worker thread finished; awaiting finish of 5 more threads\n",
      "2020-12-01 11:05:33,603 : INFO : worker thread finished; awaiting finish of 4 more threads\n",
      "2020-12-01 11:05:33,630 : INFO : worker thread finished; awaiting finish of 3 more threads\n",
      "2020-12-01 11:05:33,661 : INFO : worker thread finished; awaiting finish of 2 more threads\n",
      "2020-12-01 11:05:33,675 : INFO : worker thread finished; awaiting finish of 1 more threads\n",
      "2020-12-01 11:05:33,686 : INFO : worker thread finished; awaiting finish of 0 more threads\n",
      "2020-12-01 11:05:33,688 : INFO : EPOCH - 26 : training on 1773065 raw words (1176473 effective words) took 5.7s, 205663 effective words/s\n",
      "2020-12-01 11:05:34,797 : INFO : EPOCH 27 - PROGRESS: at 21.75% examples, 245401 words/s, in_qsize 15, out_qsize 0\n",
      "2020-12-01 11:05:35,805 : INFO : EPOCH 27 - PROGRESS: at 43.16% examples, 246269 words/s, in_qsize 15, out_qsize 0\n",
      "2020-12-01 11:05:36,821 : INFO : EPOCH 27 - PROGRESS: at 69.14% examples, 265609 words/s, in_qsize 15, out_qsize 0\n",
      "2020-12-01 11:05:37,829 : INFO : EPOCH 27 - PROGRESS: at 92.80% examples, 267507 words/s, in_qsize 14, out_qsize 0\n",
      "2020-12-01 11:05:37,973 : INFO : worker thread finished; awaiting finish of 7 more threads\n",
      "2020-12-01 11:05:37,976 : INFO : worker thread finished; awaiting finish of 6 more threads\n",
      "2020-12-01 11:05:37,978 : INFO : worker thread finished; awaiting finish of 5 more threads\n",
      "2020-12-01 11:05:37,982 : INFO : worker thread finished; awaiting finish of 4 more threads\n",
      "2020-12-01 11:05:37,984 : INFO : worker thread finished; awaiting finish of 3 more threads\n",
      "2020-12-01 11:05:37,999 : INFO : worker thread finished; awaiting finish of 2 more threads\n",
      "2020-12-01 11:05:38,040 : INFO : worker thread finished; awaiting finish of 1 more threads\n",
      "2020-12-01 11:05:38,053 : INFO : worker thread finished; awaiting finish of 0 more threads\n",
      "2020-12-01 11:05:38,055 : INFO : EPOCH - 27 : training on 1773065 raw words (1176722 effective words) took 4.3s, 273544 effective words/s\n",
      "2020-12-01 11:05:39,123 : INFO : EPOCH 28 - PROGRESS: at 18.39% examples, 216192 words/s, in_qsize 16, out_qsize 0\n",
      "2020-12-01 11:05:40,151 : INFO : EPOCH 28 - PROGRESS: at 41.79% examples, 242179 words/s, in_qsize 12, out_qsize 3\n",
      "2020-12-01 11:05:41,187 : INFO : EPOCH 28 - PROGRESS: at 67.93% examples, 261268 words/s, in_qsize 15, out_qsize 0\n",
      "2020-12-01 11:05:42,203 : INFO : EPOCH 28 - PROGRESS: at 91.71% examples, 263750 words/s, in_qsize 16, out_qsize 0\n",
      "2020-12-01 11:05:42,393 : INFO : worker thread finished; awaiting finish of 7 more threads\n",
      "2020-12-01 11:05:42,405 : INFO : worker thread finished; awaiting finish of 6 more threads\n",
      "2020-12-01 11:05:42,426 : INFO : worker thread finished; awaiting finish of 5 more threads\n",
      "2020-12-01 11:05:42,433 : INFO : worker thread finished; awaiting finish of 4 more threads\n",
      "2020-12-01 11:05:42,468 : INFO : worker thread finished; awaiting finish of 3 more threads\n",
      "2020-12-01 11:05:42,493 : INFO : worker thread finished; awaiting finish of 2 more threads\n",
      "2020-12-01 11:05:42,514 : INFO : worker thread finished; awaiting finish of 1 more threads\n",
      "2020-12-01 11:05:42,527 : INFO : worker thread finished; awaiting finish of 0 more threads\n",
      "2020-12-01 11:05:42,528 : INFO : EPOCH - 28 : training on 1773065 raw words (1176728 effective words) took 4.4s, 266908 effective words/s\n",
      "2020-12-01 11:05:43,623 : INFO : EPOCH 29 - PROGRESS: at 18.23% examples, 205447 words/s, in_qsize 16, out_qsize 0\n",
      "2020-12-01 11:05:44,673 : INFO : EPOCH 29 - PROGRESS: at 43.22% examples, 240103 words/s, in_qsize 15, out_qsize 0\n",
      "2020-12-01 11:05:45,708 : INFO : EPOCH 29 - PROGRESS: at 63.58% examples, 238631 words/s, in_qsize 15, out_qsize 0\n",
      "2020-12-01 11:05:46,837 : INFO : EPOCH 29 - PROGRESS: at 86.58% examples, 238532 words/s, in_qsize 15, out_qsize 0\n",
      "2020-12-01 11:05:47,299 : INFO : worker thread finished; awaiting finish of 7 more threads\n",
      "2020-12-01 11:05:47,314 : INFO : worker thread finished; awaiting finish of 6 more threads\n",
      "2020-12-01 11:05:47,330 : INFO : worker thread finished; awaiting finish of 5 more threads\n",
      "2020-12-01 11:05:47,334 : INFO : worker thread finished; awaiting finish of 4 more threads\n",
      "2020-12-01 11:05:47,342 : INFO : worker thread finished; awaiting finish of 3 more threads\n",
      "2020-12-01 11:05:47,347 : INFO : worker thread finished; awaiting finish of 2 more threads\n",
      "2020-12-01 11:05:47,391 : INFO : worker thread finished; awaiting finish of 1 more threads\n",
      "2020-12-01 11:05:47,415 : INFO : worker thread finished; awaiting finish of 0 more threads\n",
      "2020-12-01 11:05:47,420 : INFO : EPOCH - 29 : training on 1773065 raw words (1176734 effective words) took 4.9s, 242618 effective words/s\n",
      "2020-12-01 11:05:48,519 : INFO : EPOCH 30 - PROGRESS: at 17.78% examples, 202858 words/s, in_qsize 15, out_qsize 0\n",
      "2020-12-01 11:05:49,538 : INFO : EPOCH 30 - PROGRESS: at 39.74% examples, 226830 words/s, in_qsize 15, out_qsize 0\n",
      "2020-12-01 11:05:50,576 : INFO : EPOCH 30 - PROGRESS: at 63.05% examples, 240028 words/s, in_qsize 14, out_qsize 1\n",
      "2020-12-01 11:05:51,591 : INFO : EPOCH 30 - PROGRESS: at 85.55% examples, 244744 words/s, in_qsize 15, out_qsize 0\n",
      "2020-12-01 11:05:51,982 : INFO : worker thread finished; awaiting finish of 7 more threads\n",
      "2020-12-01 11:05:51,986 : INFO : worker thread finished; awaiting finish of 6 more threads\n",
      "2020-12-01 11:05:51,995 : INFO : worker thread finished; awaiting finish of 5 more threads\n",
      "2020-12-01 11:05:52,016 : INFO : worker thread finished; awaiting finish of 4 more threads\n",
      "2020-12-01 11:05:52,031 : INFO : worker thread finished; awaiting finish of 3 more threads\n",
      "2020-12-01 11:05:52,050 : INFO : worker thread finished; awaiting finish of 2 more threads\n",
      "2020-12-01 11:05:52,068 : INFO : worker thread finished; awaiting finish of 1 more threads\n",
      "2020-12-01 11:05:52,070 : INFO : worker thread finished; awaiting finish of 0 more threads\n",
      "2020-12-01 11:05:52,072 : INFO : EPOCH - 30 : training on 1773065 raw words (1176479 effective words) took 4.6s, 256440 effective words/s\n",
      "2020-12-01 11:05:53,111 : INFO : EPOCH 31 - PROGRESS: at 21.66% examples, 252578 words/s, in_qsize 15, out_qsize 0\n",
      "2020-12-01 11:05:54,131 : INFO : EPOCH 31 - PROGRESS: at 45.86% examples, 264472 words/s, in_qsize 16, out_qsize 1\n",
      "2020-12-01 11:05:55,149 : INFO : EPOCH 31 - PROGRESS: at 65.24% examples, 251739 words/s, in_qsize 15, out_qsize 0\n",
      "2020-12-01 11:05:56,208 : INFO : EPOCH 31 - PROGRESS: at 84.98% examples, 242736 words/s, in_qsize 16, out_qsize 1\n"
     ]
    },
    {
     "name": "stderr",
     "output_type": "stream",
     "text": [
      "2020-12-01 11:05:56,675 : INFO : worker thread finished; awaiting finish of 7 more threads\n",
      "2020-12-01 11:05:56,686 : INFO : worker thread finished; awaiting finish of 6 more threads\n",
      "2020-12-01 11:05:56,731 : INFO : worker thread finished; awaiting finish of 5 more threads\n",
      "2020-12-01 11:05:56,739 : INFO : worker thread finished; awaiting finish of 4 more threads\n",
      "2020-12-01 11:05:56,761 : INFO : worker thread finished; awaiting finish of 3 more threads\n",
      "2020-12-01 11:05:56,764 : INFO : worker thread finished; awaiting finish of 2 more threads\n",
      "2020-12-01 11:05:56,768 : INFO : worker thread finished; awaiting finish of 1 more threads\n",
      "2020-12-01 11:05:56,811 : INFO : worker thread finished; awaiting finish of 0 more threads\n",
      "2020-12-01 11:05:56,813 : INFO : EPOCH - 31 : training on 1773065 raw words (1175916 effective words) took 4.7s, 249311 effective words/s\n",
      "2020-12-01 11:05:57,833 : INFO : EPOCH 32 - PROGRESS: at 19.45% examples, 229614 words/s, in_qsize 15, out_qsize 0\n",
      "2020-12-01 11:05:58,850 : INFO : EPOCH 32 - PROGRESS: at 44.68% examples, 260346 words/s, in_qsize 15, out_qsize 0\n",
      "2020-12-01 11:05:59,875 : INFO : EPOCH 32 - PROGRESS: at 61.39% examples, 237606 words/s, in_qsize 14, out_qsize 1\n",
      "2020-12-01 11:06:00,949 : INFO : EPOCH 32 - PROGRESS: at 80.31% examples, 229898 words/s, in_qsize 16, out_qsize 0\n",
      "2020-12-01 11:06:01,922 : INFO : worker thread finished; awaiting finish of 7 more threads\n",
      "2020-12-01 11:06:01,941 : INFO : worker thread finished; awaiting finish of 6 more threads\n",
      "2020-12-01 11:06:01,954 : INFO : EPOCH 32 - PROGRESS: at 97.26% examples, 223358 words/s, in_qsize 5, out_qsize 1\n",
      "2020-12-01 11:06:01,957 : INFO : worker thread finished; awaiting finish of 5 more threads\n",
      "2020-12-01 11:06:01,959 : INFO : worker thread finished; awaiting finish of 4 more threads\n",
      "2020-12-01 11:06:01,964 : INFO : worker thread finished; awaiting finish of 3 more threads\n",
      "2020-12-01 11:06:01,975 : INFO : worker thread finished; awaiting finish of 2 more threads\n",
      "2020-12-01 11:06:01,983 : INFO : worker thread finished; awaiting finish of 1 more threads\n",
      "2020-12-01 11:06:01,989 : INFO : worker thread finished; awaiting finish of 0 more threads\n",
      "2020-12-01 11:06:01,992 : INFO : EPOCH - 32 : training on 1773065 raw words (1176770 effective words) took 5.2s, 228079 effective words/s\n",
      "2020-12-01 11:06:01,995 : INFO : training on a 56738080 raw words (37649595 effective words) took 160.7s, 234351 effective words/s\n"
     ]
    },
    {
     "name": "stdout",
     "output_type": "stream",
     "text": [
      "Wall time: 2min 40s\n"
     ]
    },
    {
     "data": {
      "text/plain": [
       "(37649595, 56738080)"
      ]
     },
     "execution_count": 64,
     "metadata": {},
     "output_type": "execute_result"
    }
   ],
   "source": [
    "%%time\n",
    "w2v_model.train(documents, total_examples=len(documents), epochs=W2V_EPOCH)"
   ]
  },
  {
   "cell_type": "code",
   "execution_count": 65,
   "metadata": {},
   "outputs": [
    {
     "name": "stdout",
     "output_type": "stream",
     "text": [
      "Total words 41187\n"
     ]
    }
   ],
   "source": [
    "# Tokenize Text\n",
    "tokenizer = Tokenizer()\n",
    "tokenizer.fit_on_texts(df_train.reviewText)\n",
    "\n",
    "vocab_size = len(tokenizer.word_index) + 1\n",
    "print(\"Total words\", vocab_size)"
   ]
  },
  {
   "cell_type": "code",
   "execution_count": 66,
   "metadata": {},
   "outputs": [],
   "source": [
    "x_train = pad_sequences(tokenizer.texts_to_sequences(df_train.reviewText), maxlen=SEQUENCE_LENGTH)\n",
    "x_test = pad_sequences(tokenizer.texts_to_sequences(df_test.reviewText), maxlen=SEQUENCE_LENGTH)"
   ]
  },
  {
   "cell_type": "code",
   "execution_count": 67,
   "metadata": {},
   "outputs": [
    {
     "data": {
      "text/plain": [
       "['NEUTRAL', 'POSITIVE', 'NEGATIVE']"
      ]
     },
     "execution_count": 67,
     "metadata": {},
     "output_type": "execute_result"
    }
   ],
   "source": [
    "# Label encoder\n",
    "labels = df_train.overall.unique().tolist()\n",
    "labels"
   ]
  },
  {
   "cell_type": "code",
   "execution_count": 94,
   "metadata": {},
   "outputs": [
    {
     "name": "stdout",
     "output_type": "stream",
     "text": [
      "x_train (16000, 320)\n",
      "y_train (16000, 1)\n",
      "x_test (4000, 320)\n",
      "y_test (4000, 1)\n"
     ]
    }
   ],
   "source": [
    "encoder = LabelEncoder()\n",
    "encoder.fit(df_train.overall.tolist())\n",
    "\n",
    "y_train = encoder.transform(df_train.overall.tolist())\n",
    "y_test = encoder.transform(df_test.overall.tolist())\n",
    "\n",
    "y_train = y_train.reshape(-1,1)\n",
    "y_test = y_test.reshape(-1,1)\n",
    "\n",
    "print(\"x_train\", x_train.shape)\n",
    "print(\"y_train\", y_train.shape)\n",
    "print(\"x_test\", x_test.shape)\n",
    "print(\"y_test\", y_test.shape)"
   ]
  },
  {
   "cell_type": "code",
   "execution_count": 69,
   "metadata": {},
   "outputs": [
    {
     "name": "stdout",
     "output_type": "stream",
     "text": [
      "(41187, 320)\n"
     ]
    }
   ],
   "source": [
    "# Embedding Layer\n",
    "embedding_matrix = np.zeros((vocab_size, W2V_SIZE))\n",
    "for word, i in tokenizer.word_index.items():\n",
    "  if word in w2v_model.wv:\n",
    "    embedding_matrix[i] = w2v_model.wv[word]\n",
    "print(embedding_matrix.shape)"
   ]
  },
  {
   "cell_type": "code",
   "execution_count": 127,
   "metadata": {},
   "outputs": [
    {
     "name": "stdout",
     "output_type": "stream",
     "text": [
      "Model: \"sequential_6\"\n",
      "_________________________________________________________________\n",
      "Layer (type)                 Output Shape              Param #   \n",
      "=================================================================\n",
      "embedding_6 (Embedding)      (None, 320, 320)          13179840  \n",
      "_________________________________________________________________\n",
      "dropout_6 (Dropout)          (None, 320, 320)          0         \n",
      "_________________________________________________________________\n",
      "lstm_6 (LSTM)                (None, 80)                128320    \n",
      "_________________________________________________________________\n",
      "dense_6 (Dense)              (None, 1)                 81        \n",
      "=================================================================\n",
      "Total params: 13,308,241\n",
      "Trainable params: 128,401\n",
      "Non-trainable params: 13,179,840\n",
      "_________________________________________________________________\n"
     ]
    }
   ],
   "source": [
    "#Build Model\n",
    "model = Sequential()\n",
    "model.add(Embedding(vocab_size, W2V_SIZE, weights=[embedding_matrix], input_length=SEQUENCE_LENGTH, trainable=False))\n",
    "model.add(Dropout(0.5))\n",
    "model.add(LSTM(160, dropout=0.2, recurrent_dropout=0.2))\n",
    "model.add(Dense(1, activation='sigmoid'))\n",
    "\n",
    "model.summary()"
   ]
  },
  {
   "cell_type": "code",
   "execution_count": 131,
   "metadata": {},
   "outputs": [],
   "source": [
    "# Compile model\n",
    "model.compile(loss='binary_crossentropy',\n",
    "              optimizer=\"adam\",\n",
    "              metrics=['accuracy'])"
   ]
  },
  {
   "cell_type": "code",
   "execution_count": 132,
   "metadata": {},
   "outputs": [],
   "source": [
    "# Callbacks\n",
    "callbacks = [ ReduceLROnPlateau(monitor='val_loss', patience=5, cooldown=0),\n",
    "              EarlyStopping(monitor='val_accuracy', min_delta=1e-4, patience=5)]"
   ]
  },
  {
   "cell_type": "code",
   "execution_count": 133,
   "metadata": {
    "scrolled": false
   },
   "outputs": [
    {
     "name": "stdout",
     "output_type": "stream",
     "text": [
      "Train on 14400 samples, validate on 1600 samples\n",
      "Epoch 1/50\n",
      "14400/14400 [==============================] - 448s 31ms/step - loss: -2.4569 - accuracy: 0.0969 - val_loss: -6.5490 - val_accuracy: 0.0994\n",
      "Epoch 2/50\n",
      "14400/14400 [==============================] - 387s 27ms/step - loss: -7.4679 - accuracy: 0.0969 - val_loss: -9.5285 - val_accuracy: 0.0994\n",
      "Epoch 3/50\n",
      "14400/14400 [==============================] - 425s 29ms/step - loss: -10.2119 - accuracy: 0.0969 - val_loss: -11.2418 - val_accuracy: 0.0994\n",
      "Epoch 4/50\n",
      " 1024/14400 [=>............................] - ETA: 4:58 - loss: -11.5396 - accuracy: 0.0811"
     ]
    },
    {
     "ename": "KeyboardInterrupt",
     "evalue": "",
     "output_type": "error",
     "traceback": [
      "\u001b[1;31m---------------------------------------------------------------------------\u001b[0m",
      "\u001b[1;31mKeyboardInterrupt\u001b[0m                         Traceback (most recent call last)",
      "\u001b[1;32m<ipython-input-133-d2e35c6407ce>\u001b[0m in \u001b[0;36m<module>\u001b[1;34m\u001b[0m\n\u001b[0;32m      5\u001b[0m                     \u001b[0mvalidation_split\u001b[0m\u001b[1;33m=\u001b[0m\u001b[1;36m0.1\u001b[0m\u001b[1;33m,\u001b[0m\u001b[1;33m\u001b[0m\u001b[1;33m\u001b[0m\u001b[0m\n\u001b[0;32m      6\u001b[0m                     \u001b[0mverbose\u001b[0m\u001b[1;33m=\u001b[0m\u001b[1;36m1\u001b[0m\u001b[1;33m,\u001b[0m\u001b[1;33m\u001b[0m\u001b[1;33m\u001b[0m\u001b[0m\n\u001b[1;32m----> 7\u001b[1;33m                     callbacks=callbacks)\n\u001b[0m",
      "\u001b[1;32mD:\\Anaconda\\envs\\deepLearning\\lib\\site-packages\\keras\\engine\\training.py\u001b[0m in \u001b[0;36mfit\u001b[1;34m(self, x, y, batch_size, epochs, verbose, callbacks, validation_split, validation_data, shuffle, class_weight, sample_weight, initial_epoch, steps_per_epoch, validation_steps, validation_freq, max_queue_size, workers, use_multiprocessing, **kwargs)\u001b[0m\n\u001b[0;32m   1237\u001b[0m                                         \u001b[0msteps_per_epoch\u001b[0m\u001b[1;33m=\u001b[0m\u001b[0msteps_per_epoch\u001b[0m\u001b[1;33m,\u001b[0m\u001b[1;33m\u001b[0m\u001b[1;33m\u001b[0m\u001b[0m\n\u001b[0;32m   1238\u001b[0m                                         \u001b[0mvalidation_steps\u001b[0m\u001b[1;33m=\u001b[0m\u001b[0mvalidation_steps\u001b[0m\u001b[1;33m,\u001b[0m\u001b[1;33m\u001b[0m\u001b[1;33m\u001b[0m\u001b[0m\n\u001b[1;32m-> 1239\u001b[1;33m                                         validation_freq=validation_freq)\n\u001b[0m\u001b[0;32m   1240\u001b[0m \u001b[1;33m\u001b[0m\u001b[0m\n\u001b[0;32m   1241\u001b[0m     def evaluate(self,\n",
      "\u001b[1;32mD:\\Anaconda\\envs\\deepLearning\\lib\\site-packages\\keras\\engine\\training_arrays.py\u001b[0m in \u001b[0;36mfit_loop\u001b[1;34m(model, fit_function, fit_inputs, out_labels, batch_size, epochs, verbose, callbacks, val_function, val_inputs, shuffle, initial_epoch, steps_per_epoch, validation_steps, validation_freq)\u001b[0m\n\u001b[0;32m    194\u001b[0m                     \u001b[0mins_batch\u001b[0m\u001b[1;33m[\u001b[0m\u001b[0mi\u001b[0m\u001b[1;33m]\u001b[0m \u001b[1;33m=\u001b[0m \u001b[0mins_batch\u001b[0m\u001b[1;33m[\u001b[0m\u001b[0mi\u001b[0m\u001b[1;33m]\u001b[0m\u001b[1;33m.\u001b[0m\u001b[0mtoarray\u001b[0m\u001b[1;33m(\u001b[0m\u001b[1;33m)\u001b[0m\u001b[1;33m\u001b[0m\u001b[1;33m\u001b[0m\u001b[0m\n\u001b[0;32m    195\u001b[0m \u001b[1;33m\u001b[0m\u001b[0m\n\u001b[1;32m--> 196\u001b[1;33m                 \u001b[0mouts\u001b[0m \u001b[1;33m=\u001b[0m \u001b[0mfit_function\u001b[0m\u001b[1;33m(\u001b[0m\u001b[0mins_batch\u001b[0m\u001b[1;33m)\u001b[0m\u001b[1;33m\u001b[0m\u001b[1;33m\u001b[0m\u001b[0m\n\u001b[0m\u001b[0;32m    197\u001b[0m                 \u001b[0mouts\u001b[0m \u001b[1;33m=\u001b[0m \u001b[0mto_list\u001b[0m\u001b[1;33m(\u001b[0m\u001b[0mouts\u001b[0m\u001b[1;33m)\u001b[0m\u001b[1;33m\u001b[0m\u001b[1;33m\u001b[0m\u001b[0m\n\u001b[0;32m    198\u001b[0m                 \u001b[1;32mfor\u001b[0m \u001b[0ml\u001b[0m\u001b[1;33m,\u001b[0m \u001b[0mo\u001b[0m \u001b[1;32min\u001b[0m \u001b[0mzip\u001b[0m\u001b[1;33m(\u001b[0m\u001b[0mout_labels\u001b[0m\u001b[1;33m,\u001b[0m \u001b[0mouts\u001b[0m\u001b[1;33m)\u001b[0m\u001b[1;33m:\u001b[0m\u001b[1;33m\u001b[0m\u001b[1;33m\u001b[0m\u001b[0m\n",
      "\u001b[1;32mD:\\Anaconda\\envs\\deepLearning\\lib\\site-packages\\tensorflow_core\\python\\keras\\backend.py\u001b[0m in \u001b[0;36m__call__\u001b[1;34m(self, inputs)\u001b[0m\n\u001b[0;32m   3725\u001b[0m         \u001b[0mvalue\u001b[0m \u001b[1;33m=\u001b[0m \u001b[0mmath_ops\u001b[0m\u001b[1;33m.\u001b[0m\u001b[0mcast\u001b[0m\u001b[1;33m(\u001b[0m\u001b[0mvalue\u001b[0m\u001b[1;33m,\u001b[0m \u001b[0mtensor\u001b[0m\u001b[1;33m.\u001b[0m\u001b[0mdtype\u001b[0m\u001b[1;33m)\u001b[0m\u001b[1;33m\u001b[0m\u001b[1;33m\u001b[0m\u001b[0m\n\u001b[0;32m   3726\u001b[0m       \u001b[0mconverted_inputs\u001b[0m\u001b[1;33m.\u001b[0m\u001b[0mappend\u001b[0m\u001b[1;33m(\u001b[0m\u001b[0mvalue\u001b[0m\u001b[1;33m)\u001b[0m\u001b[1;33m\u001b[0m\u001b[1;33m\u001b[0m\u001b[0m\n\u001b[1;32m-> 3727\u001b[1;33m     \u001b[0moutputs\u001b[0m \u001b[1;33m=\u001b[0m \u001b[0mself\u001b[0m\u001b[1;33m.\u001b[0m\u001b[0m_graph_fn\u001b[0m\u001b[1;33m(\u001b[0m\u001b[1;33m*\u001b[0m\u001b[0mconverted_inputs\u001b[0m\u001b[1;33m)\u001b[0m\u001b[1;33m\u001b[0m\u001b[1;33m\u001b[0m\u001b[0m\n\u001b[0m\u001b[0;32m   3728\u001b[0m \u001b[1;33m\u001b[0m\u001b[0m\n\u001b[0;32m   3729\u001b[0m     \u001b[1;31m# EagerTensor.numpy() will often make a copy to ensure memory safety.\u001b[0m\u001b[1;33m\u001b[0m\u001b[1;33m\u001b[0m\u001b[1;33m\u001b[0m\u001b[0m\n",
      "\u001b[1;32mD:\\Anaconda\\envs\\deepLearning\\lib\\site-packages\\tensorflow_core\\python\\eager\\function.py\u001b[0m in \u001b[0;36m__call__\u001b[1;34m(self, *args, **kwargs)\u001b[0m\n\u001b[0;32m   1549\u001b[0m       \u001b[0mTypeError\u001b[0m\u001b[1;33m:\u001b[0m \u001b[0mFor\u001b[0m \u001b[0minvalid\u001b[0m \u001b[0mpositional\u001b[0m\u001b[1;33m/\u001b[0m\u001b[0mkeyword\u001b[0m \u001b[0margument\u001b[0m \u001b[0mcombinations\u001b[0m\u001b[1;33m.\u001b[0m\u001b[1;33m\u001b[0m\u001b[1;33m\u001b[0m\u001b[0m\n\u001b[0;32m   1550\u001b[0m     \"\"\"\n\u001b[1;32m-> 1551\u001b[1;33m     \u001b[1;32mreturn\u001b[0m \u001b[0mself\u001b[0m\u001b[1;33m.\u001b[0m\u001b[0m_call_impl\u001b[0m\u001b[1;33m(\u001b[0m\u001b[0margs\u001b[0m\u001b[1;33m,\u001b[0m \u001b[0mkwargs\u001b[0m\u001b[1;33m)\u001b[0m\u001b[1;33m\u001b[0m\u001b[1;33m\u001b[0m\u001b[0m\n\u001b[0m\u001b[0;32m   1552\u001b[0m \u001b[1;33m\u001b[0m\u001b[0m\n\u001b[0;32m   1553\u001b[0m   \u001b[1;32mdef\u001b[0m \u001b[0m_call_impl\u001b[0m\u001b[1;33m(\u001b[0m\u001b[0mself\u001b[0m\u001b[1;33m,\u001b[0m \u001b[0margs\u001b[0m\u001b[1;33m,\u001b[0m \u001b[0mkwargs\u001b[0m\u001b[1;33m,\u001b[0m \u001b[0mcancellation_manager\u001b[0m\u001b[1;33m=\u001b[0m\u001b[1;32mNone\u001b[0m\u001b[1;33m)\u001b[0m\u001b[1;33m:\u001b[0m\u001b[1;33m\u001b[0m\u001b[1;33m\u001b[0m\u001b[0m\n",
      "\u001b[1;32mD:\\Anaconda\\envs\\deepLearning\\lib\\site-packages\\tensorflow_core\\python\\eager\\function.py\u001b[0m in \u001b[0;36m_call_impl\u001b[1;34m(self, args, kwargs, cancellation_manager)\u001b[0m\n\u001b[0;32m   1589\u001b[0m       raise TypeError(\"Keyword arguments {} unknown. Expected {}.\".format(\n\u001b[0;32m   1590\u001b[0m           list(kwargs.keys()), list(self._arg_keywords)))\n\u001b[1;32m-> 1591\u001b[1;33m     \u001b[1;32mreturn\u001b[0m \u001b[0mself\u001b[0m\u001b[1;33m.\u001b[0m\u001b[0m_call_flat\u001b[0m\u001b[1;33m(\u001b[0m\u001b[0margs\u001b[0m\u001b[1;33m,\u001b[0m \u001b[0mself\u001b[0m\u001b[1;33m.\u001b[0m\u001b[0mcaptured_inputs\u001b[0m\u001b[1;33m,\u001b[0m \u001b[0mcancellation_manager\u001b[0m\u001b[1;33m)\u001b[0m\u001b[1;33m\u001b[0m\u001b[1;33m\u001b[0m\u001b[0m\n\u001b[0m\u001b[0;32m   1592\u001b[0m \u001b[1;33m\u001b[0m\u001b[0m\n\u001b[0;32m   1593\u001b[0m   \u001b[1;32mdef\u001b[0m \u001b[0m_filtered_call\u001b[0m\u001b[1;33m(\u001b[0m\u001b[0mself\u001b[0m\u001b[1;33m,\u001b[0m \u001b[0margs\u001b[0m\u001b[1;33m,\u001b[0m \u001b[0mkwargs\u001b[0m\u001b[1;33m)\u001b[0m\u001b[1;33m:\u001b[0m\u001b[1;33m\u001b[0m\u001b[1;33m\u001b[0m\u001b[0m\n",
      "\u001b[1;32mD:\\Anaconda\\envs\\deepLearning\\lib\\site-packages\\tensorflow_core\\python\\eager\\function.py\u001b[0m in \u001b[0;36m_call_flat\u001b[1;34m(self, args, captured_inputs, cancellation_manager)\u001b[0m\n\u001b[0;32m   1690\u001b[0m       \u001b[1;31m# No tape is watching; skip to running the function.\u001b[0m\u001b[1;33m\u001b[0m\u001b[1;33m\u001b[0m\u001b[1;33m\u001b[0m\u001b[0m\n\u001b[0;32m   1691\u001b[0m       return self._build_call_outputs(self._inference_function.call(\n\u001b[1;32m-> 1692\u001b[1;33m           ctx, args, cancellation_manager=cancellation_manager))\n\u001b[0m\u001b[0;32m   1693\u001b[0m     forward_backward = self._select_forward_and_backward_functions(\n\u001b[0;32m   1694\u001b[0m         \u001b[0margs\u001b[0m\u001b[1;33m,\u001b[0m\u001b[1;33m\u001b[0m\u001b[1;33m\u001b[0m\u001b[0m\n",
      "\u001b[1;32mD:\\Anaconda\\envs\\deepLearning\\lib\\site-packages\\tensorflow_core\\python\\eager\\function.py\u001b[0m in \u001b[0;36mcall\u001b[1;34m(self, ctx, args, cancellation_manager)\u001b[0m\n\u001b[0;32m    543\u001b[0m               \u001b[0minputs\u001b[0m\u001b[1;33m=\u001b[0m\u001b[0margs\u001b[0m\u001b[1;33m,\u001b[0m\u001b[1;33m\u001b[0m\u001b[1;33m\u001b[0m\u001b[0m\n\u001b[0;32m    544\u001b[0m               \u001b[0mattrs\u001b[0m\u001b[1;33m=\u001b[0m\u001b[1;33m(\u001b[0m\u001b[1;34m\"executor_type\"\u001b[0m\u001b[1;33m,\u001b[0m \u001b[0mexecutor_type\u001b[0m\u001b[1;33m,\u001b[0m \u001b[1;34m\"config_proto\"\u001b[0m\u001b[1;33m,\u001b[0m \u001b[0mconfig\u001b[0m\u001b[1;33m)\u001b[0m\u001b[1;33m,\u001b[0m\u001b[1;33m\u001b[0m\u001b[1;33m\u001b[0m\u001b[0m\n\u001b[1;32m--> 545\u001b[1;33m               ctx=ctx)\n\u001b[0m\u001b[0;32m    546\u001b[0m         \u001b[1;32melse\u001b[0m\u001b[1;33m:\u001b[0m\u001b[1;33m\u001b[0m\u001b[1;33m\u001b[0m\u001b[0m\n\u001b[0;32m    547\u001b[0m           outputs = execute.execute_with_cancellation(\n",
      "\u001b[1;32mD:\\Anaconda\\envs\\deepLearning\\lib\\site-packages\\tensorflow_core\\python\\eager\\execute.py\u001b[0m in \u001b[0;36mquick_execute\u001b[1;34m(op_name, num_outputs, inputs, attrs, ctx, name)\u001b[0m\n\u001b[0;32m     59\u001b[0m     tensors = pywrap_tensorflow.TFE_Py_Execute(ctx._handle, device_name,\n\u001b[0;32m     60\u001b[0m                                                \u001b[0mop_name\u001b[0m\u001b[1;33m,\u001b[0m \u001b[0minputs\u001b[0m\u001b[1;33m,\u001b[0m \u001b[0mattrs\u001b[0m\u001b[1;33m,\u001b[0m\u001b[1;33m\u001b[0m\u001b[1;33m\u001b[0m\u001b[0m\n\u001b[1;32m---> 61\u001b[1;33m                                                num_outputs)\n\u001b[0m\u001b[0;32m     62\u001b[0m   \u001b[1;32mexcept\u001b[0m \u001b[0mcore\u001b[0m\u001b[1;33m.\u001b[0m\u001b[0m_NotOkStatusException\u001b[0m \u001b[1;32mas\u001b[0m \u001b[0me\u001b[0m\u001b[1;33m:\u001b[0m\u001b[1;33m\u001b[0m\u001b[1;33m\u001b[0m\u001b[0m\n\u001b[0;32m     63\u001b[0m     \u001b[1;32mif\u001b[0m \u001b[0mname\u001b[0m \u001b[1;32mis\u001b[0m \u001b[1;32mnot\u001b[0m \u001b[1;32mNone\u001b[0m\u001b[1;33m:\u001b[0m\u001b[1;33m\u001b[0m\u001b[1;33m\u001b[0m\u001b[0m\n",
      "\u001b[1;31mKeyboardInterrupt\u001b[0m: "
     ]
    }
   ],
   "source": [
    "# Train\n",
    "history = model.fit(x_train, y_train,\n",
    "                    batch_size=BATCH_SIZE,\n",
    "                    epochs=EPOCHS,\n",
    "                    validation_split=0.1,\n",
    "                    verbose=1,\n",
    "                    callbacks=callbacks)"
   ]
  },
  {
   "cell_type": "code",
   "execution_count": 104,
   "metadata": {},
   "outputs": [
    {
     "name": "stdout",
     "output_type": "stream",
     "text": [
      "4000/4000 [==============================] - 23s 6ms/step\n",
      "\n",
      "ACCURACY: 0.8445000052452087\n",
      "LOSS: 0.6003175930976867\n"
     ]
    }
   ],
   "source": [
    "score = model.evaluate(x_test, y_test, batch_size=BATCH_SIZE)\n",
    "print()\n",
    "print(\"ACCURACY:\",score[1])\n",
    "print(\"LOSS:\",score[0])"
   ]
  },
  {
   "cell_type": "code",
   "execution_count": 105,
   "metadata": {},
   "outputs": [
    {
     "data": {
      "image/png": "[encoded data removed]",
      "text/plain": [
       "<Figure size 432x288 with 1 Axes>"
      ]
     },
     "metadata": {
      "needs_background": "light"
     },
     "output_type": "display_data"
    },
    {
     "data": {
      "image/png": "[encoded data removed]",
      "text/plain": [
       "<Figure size 432x288 with 1 Axes>"
      ]
     },
     "metadata": {
      "needs_background": "light"
     },
     "output_type": "display_data"
    }
   ],
   "source": [
    "acc = history.history['accuracy']\n",
    "val_acc = history.history['val_accuracy']\n",
    "loss = history.history['loss']\n",
    "val_loss = history.history['val_loss']\n",
    " \n",
    "epochs = range(len(acc))\n",
    " \n",
    "plt.plot(epochs, acc, 'b', label='Training acc')\n",
    "plt.plot(epochs, val_acc, 'r', label='Validation acc')\n",
    "plt.title('Training and validation accuracy')\n",
    "plt.legend()\n",
    " \n",
    "plt.figure()\n",
    " \n",
    "plt.plot(epochs, loss, 'b', label='Training loss')\n",
    "plt.plot(epochs, val_loss, 'r', label='Validation loss')\n",
    "plt.title('Training and validation loss')\n",
    "plt.legend()\n",
    " \n",
    "plt.show()"
   ]
  },
  {
   "cell_type": "code",
   "execution_count": 109,
   "metadata": {},
   "outputs": [],
   "source": [
    "def decode_sentiment(score, include_neutral=True):\n",
    "    if include_neutral:        \n",
    "        label = NEUTRAL\n",
    "        if score <= SENTIMENT_THRESHOLDS[0]:\n",
    "            label = NEGATIVE\n",
    "        elif score >= SENTIMENT_THRESHOLDS[1]:\n",
    "            label = POSITIVE\n",
    "\n",
    "        return label\n",
    "    else:\n",
    "        return NEGATIVE if score < 0.5 else POSITIVE"
   ]
  },
  {
   "cell_type": "code",
   "execution_count": 110,
   "metadata": {},
   "outputs": [],
   "source": [
    "def predict(text, include_neutral=True):\n",
    "    start_at = time.time()\n",
    "    # Tokenize text\n",
    "    x_test = pad_sequences(tokenizer.texts_to_sequences([text]), maxlen=SEQUENCE_LENGTH)\n",
    "    # Predict\n",
    "    score = model.predict([x_test])[0]\n",
    "    # Decode sentiment\n",
    "    label = decode_sentiment(score, include_neutral=include_neutral)\n",
    "\n",
    "    return {\"label\": label, \"score\": float(score),\n",
    "       \"elapsed_time\": time.time()-start_at}  "
   ]
  },
  {
   "cell_type": "code",
   "execution_count": 126,
   "metadata": {},
   "outputs": [
    {
     "name": "stdout",
     "output_type": "stream",
     "text": [
      "[[0.16761859 0.30697802 0.7972239 ]]\n"
     ]
    }
   ],
   "source": [
    "text = \"I love the music\"\n",
    "x_test = pad_sequences(tokenizer.texts_to_sequences([text]), maxlen=SEQUENCE_LENGTH)\n",
    "score = model.predict([x_test])\n",
    "\n",
    "print(score)"
   ]
  },
  {
   "cell_type": "code",
   "execution_count": 111,
   "metadata": {},
   "outputs": [
    {
     "ename": "ValueError",
     "evalue": "The truth value of an array with more than one element is ambiguous. Use a.any() or a.all()",
     "output_type": "error",
     "traceback": [
      "\u001b[1;31m---------------------------------------------------------------------------\u001b[0m",
      "\u001b[1;31mValueError\u001b[0m                                Traceback (most recent call last)",
      "\u001b[1;32m<ipython-input-111-f5a416afdfaf>\u001b[0m in \u001b[0;36m<module>\u001b[1;34m\u001b[0m\n\u001b[1;32m----> 1\u001b[1;33m \u001b[0mpredict\u001b[0m\u001b[1;33m(\u001b[0m\u001b[1;34m\"I love the music\"\u001b[0m\u001b[1;33m)\u001b[0m\u001b[1;33m\u001b[0m\u001b[1;33m\u001b[0m\u001b[0m\n\u001b[0m",
      "\u001b[1;32m<ipython-input-110-b5342eec6255>\u001b[0m in \u001b[0;36mpredict\u001b[1;34m(text, include_neutral)\u001b[0m\n\u001b[0;32m      6\u001b[0m     \u001b[0mscore\u001b[0m \u001b[1;33m=\u001b[0m \u001b[0mmodel\u001b[0m\u001b[1;33m.\u001b[0m\u001b[0mpredict\u001b[0m\u001b[1;33m(\u001b[0m\u001b[1;33m[\u001b[0m\u001b[0mx_test\u001b[0m\u001b[1;33m]\u001b[0m\u001b[1;33m)\u001b[0m\u001b[1;33m[\u001b[0m\u001b[1;36m0\u001b[0m\u001b[1;33m]\u001b[0m\u001b[1;33m\u001b[0m\u001b[1;33m\u001b[0m\u001b[0m\n\u001b[0;32m      7\u001b[0m     \u001b[1;31m# Decode sentiment\u001b[0m\u001b[1;33m\u001b[0m\u001b[1;33m\u001b[0m\u001b[1;33m\u001b[0m\u001b[0m\n\u001b[1;32m----> 8\u001b[1;33m     \u001b[0mlabel\u001b[0m \u001b[1;33m=\u001b[0m \u001b[0mdecode_sentiment\u001b[0m\u001b[1;33m(\u001b[0m\u001b[0mscore\u001b[0m\u001b[1;33m,\u001b[0m \u001b[0minclude_neutral\u001b[0m\u001b[1;33m=\u001b[0m\u001b[0minclude_neutral\u001b[0m\u001b[1;33m)\u001b[0m\u001b[1;33m\u001b[0m\u001b[1;33m\u001b[0m\u001b[0m\n\u001b[0m\u001b[0;32m      9\u001b[0m \u001b[1;33m\u001b[0m\u001b[0m\n\u001b[0;32m     10\u001b[0m     return {\"label\": label, \"score\": float(score),\n",
      "\u001b[1;32m<ipython-input-109-55d5e240b79b>\u001b[0m in \u001b[0;36mdecode_sentiment\u001b[1;34m(score, include_neutral)\u001b[0m\n\u001b[0;32m      2\u001b[0m     \u001b[1;32mif\u001b[0m \u001b[0minclude_neutral\u001b[0m\u001b[1;33m:\u001b[0m\u001b[1;33m\u001b[0m\u001b[1;33m\u001b[0m\u001b[0m\n\u001b[0;32m      3\u001b[0m         \u001b[0mlabel\u001b[0m \u001b[1;33m=\u001b[0m \u001b[0mNEUTRAL\u001b[0m\u001b[1;33m\u001b[0m\u001b[1;33m\u001b[0m\u001b[0m\n\u001b[1;32m----> 4\u001b[1;33m         \u001b[1;32mif\u001b[0m \u001b[0mscore\u001b[0m \u001b[1;33m<=\u001b[0m \u001b[0mSENTIMENT_THRESHOLDS\u001b[0m\u001b[1;33m[\u001b[0m\u001b[1;36m0\u001b[0m\u001b[1;33m]\u001b[0m\u001b[1;33m:\u001b[0m\u001b[1;33m\u001b[0m\u001b[1;33m\u001b[0m\u001b[0m\n\u001b[0m\u001b[0;32m      5\u001b[0m             \u001b[0mlabel\u001b[0m \u001b[1;33m=\u001b[0m \u001b[0mNEGATIVE\u001b[0m\u001b[1;33m\u001b[0m\u001b[1;33m\u001b[0m\u001b[0m\n\u001b[0;32m      6\u001b[0m         \u001b[1;32melif\u001b[0m \u001b[0mscore\u001b[0m \u001b[1;33m>=\u001b[0m \u001b[0mSENTIMENT_THRESHOLDS\u001b[0m\u001b[1;33m[\u001b[0m\u001b[1;36m1\u001b[0m\u001b[1;33m]\u001b[0m\u001b[1;33m:\u001b[0m\u001b[1;33m\u001b[0m\u001b[1;33m\u001b[0m\u001b[0m\n",
      "\u001b[1;31mValueError\u001b[0m: The truth value of an array with more than one element is ambiguous. Use a.any() or a.all()"
     ]
    }
   ],
   "source": [
    "predict(\"I love the music\")"
   ]
  },
  {
   "cell_type": "code",
   "execution_count": 62,
   "metadata": {},
   "outputs": [
    {
     "data": {
      "text/plain": [
       "{'label': 'NEGATIVE',\n",
       " 'score': 0.4831560254096985,\n",
       " 'elapsed_time': 0.07238101959228516}"
      ]
     },
     "execution_count": 62,
     "metadata": {},
     "output_type": "execute_result"
    }
   ],
   "source": [
    "predict(\"i don't know what i'm doing\")"
   ]
  },
  {
   "cell_type": "code",
   "execution_count": 63,
   "metadata": {},
   "outputs": [
    {
     "data": {
      "text/plain": [
       "{'label': 'NEGATIVE',\n",
       " 'score': 0.021119922399520874,\n",
       " 'elapsed_time': 0.08184218406677246}"
      ]
     },
     "execution_count": 63,
     "metadata": {},
     "output_type": "execute_result"
    }
   ],
   "source": [
    "predict(\"I hate the rain\")"
   ]
  },
  {
   "cell_type": "code",
   "execution_count": 64,
   "metadata": {},
   "outputs": [
    {
     "data": {
      "text/plain": [
       "{'label': 'NEGATIVE',\n",
       " 'score': 0.08120599389076233,\n",
       " 'elapsed_time': 0.07676076889038086}"
      ]
     },
     "execution_count": 64,
     "metadata": {},
     "output_type": "execute_result"
    }
   ],
   "source": [
    "predict(\"Bad guys\")"
   ]
  },
  {
   "cell_type": "code",
   "execution_count": 65,
   "metadata": {},
   "outputs": [
    {
     "data": {
      "text/plain": [
       "{'label': 'NEGATIVE',\n",
       " 'score': 0.25452369451522827,\n",
       " 'elapsed_time': 0.07674908638000488}"
      ]
     },
     "execution_count": 65,
     "metadata": {},
     "output_type": "execute_result"
    }
   ],
   "source": [
    "predict(\"fuck u all\")"
   ]
  },
  {
   "cell_type": "code",
   "execution_count": 66,
   "metadata": {},
   "outputs": [
    {
     "data": {
      "text/plain": [
       "{'label': 'NEGATIVE',\n",
       " 'score': 0.3585672676563263,\n",
       " 'elapsed_time': 0.07496809959411621}"
      ]
     },
     "execution_count": 66,
     "metadata": {},
     "output_type": "execute_result"
    }
   ],
   "source": [
    "predict(\"I'm going under and this time I fear there's no one to save me\")"
   ]
  },
  {
   "cell_type": "code",
   "execution_count": 45,
   "metadata": {},
   "outputs": [
    {
     "name": "stderr",
     "output_type": "stream",
     "text": [
      "2020-11-28 23:00:56,152 : INFO : saving Word2Vec object under model.w2v, separately None\n",
      "2020-11-28 23:00:56,153 : INFO : not storing attribute vectors_norm\n",
      "2020-11-28 23:00:56,154 : INFO : not storing attribute cum_table\n",
      "2020-11-28 23:00:56,537 : INFO : saved model.w2v\n"
     ]
    }
   ],
   "source": [
    "#Save model\n",
    "model.save(KERAS_MODEL)\n",
    "w2v_model.save(WORD2VEC_MODEL)\n",
    "pickle.dump(tokenizer, open(TOKENIZER_MODEL, \"wb\"), protocol=0)\n",
    "pickle.dump(encoder, open(ENCODER_MODEL, \"wb\"), protocol=0)"
   ]
  },
  {
   "cell_type": "code",
   "execution_count": 67,
   "metadata": {},
   "outputs": [],
   "source": [
    "model.save(\"model_epoc3.h5\")"
   ]
  },
  {
   "cell_type": "code",
   "execution_count": null,
   "metadata": {},
   "outputs": [],
   "source": []
  }
 ],
 "metadata": {
  "kernelspec": {
   "display_name": "Python 3",
   "language": "python",
   "name": "python3"
  },
  "language_info": {
   "codemirror_mode": {
    "name": "ipython",
    "version": 3
   },
   "file_extension": ".py",
   "mimetype": "text/x-python",
   "name": "python",
   "nbconvert_exporter": "python",
   "pygments_lexer": "ipython3",
   "version": "3.7.9"
  }
 },
 "nbformat": 4,
 "nbformat_minor": 4
}
