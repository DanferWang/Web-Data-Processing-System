{
 "cells": [
  {
   "cell_type": "code",
   "execution_count": 2,
   "metadata": {},
   "outputs": [
    {
     "name": "stderr",
     "output_type": "stream",
     "text": [
      "Using TensorFlow backend.\n"
     ]
    }
   ],
   "source": [
    "# DataFrame\n",
    "import pandas as pd\n",
    "\n",
    "# Matplot\n",
    "import matplotlib.pyplot as plt\n",
    "%matplotlib inline\n",
    "\n",
    "# Scikit-learn\n",
    "from sklearn.model_selection import train_test_split\n",
    "from sklearn.preprocessing import LabelEncoder\n",
    "from sklearn.metrics import confusion_matrix, classification_report, accuracy_score\n",
    "from sklearn.manifold import TSNE\n",
    "from sklearn.feature_extraction.text import TfidfVectorizer\n",
    "\n",
    "# Keras\n",
    "from keras.preprocessing.text import Tokenizer\n",
    "from keras.preprocessing.sequence import pad_sequences\n",
    "from keras.models import Sequential\n",
    "from keras.layers import Activation, Dense, Dropout, Embedding, Flatten, Conv1D, MaxPooling1D, LSTM\n",
    "from keras import utils\n",
    "from keras.callbacks import ReduceLROnPlateau, EarlyStopping\n",
    "\n",
    "# Word2vec\n",
    "import gensim\n",
    "\n",
    "# Utility\n",
    "import re\n",
    "import string\n",
    "import numpy as np\n",
    "import os\n",
    "from collections import Counter\n",
    "import logging\n",
    "import time\n",
    "import pickle\n",
    "import itertools\n",
    "\n",
    "# Set log\n",
    "logging.basicConfig(format='%(asctime)s : %(levelname)s : %(message)s', level=logging.INFO)"
   ]
  },
  {
   "cell_type": "code",
   "execution_count": 3,
   "metadata": {},
   "outputs": [],
   "source": [
    "# DATASET\n",
    "DATASET_ENCODING = \"ISO-8859-1\"\n",
    "TRAIN_SIZE = 0.8\n",
    "\n",
    "# WORD2VEC \n",
    "W2V_SIZE = 320\n",
    "W2V_WINDOW = 7\n",
    "W2V_EPOCH = 32\n",
    "W2V_MIN_COUNT = 10\n",
    "\n",
    "# KERAS\n",
    "SEQUENCE_LENGTH = 300\n",
    "EPOCHS = 1\n",
    "BATCH_SIZE = 1024\n",
    "\n",
    "# SENTIMENT\n",
    "POSITIVE = \"POSITIVE\"\n",
    "NEGATIVE = \"NEGATIVE\"\n",
    "NEUTRAL = \"NEUTRAL\"\n",
    "SENTIMENT_THRESHOLDS = (0.4, 0.7)\n",
    "\n",
    "# EXPORT\n",
    "KERAS_MODEL = \"model.h5\"\n",
    "WORD2VEC_MODEL = \"model.w2v\"\n",
    "TOKENIZER_MODEL = \"tokenizer.pkl\"\n",
    "ENCODER_MODEL = \"encoder.pkl\""
   ]
  },
  {
   "cell_type": "code",
   "execution_count": 27,
   "metadata": {},
   "outputs": [
    {
     "name": "stdout",
     "output_type": "stream",
     "text": [
      "Open file: F:\\VU\\Web_Data_Processing_Systems\\clean_kindle_reviews.csv\n"
     ]
    }
   ],
   "source": [
    "dataset_path = \"F:\\VU\\Web_Data_Processing_Systems\\clean_kindle_reviews.csv\"\n",
    "print(\"Open file:\", dataset_path)\n",
    "df = pd.read_csv(dataset_path, encoding =DATASET_ENCODING ,lineterminator='\\n')\n",
    "df = df.drop(columns=[\"Unnamed: 0\"])\n",
    "df = df.sample(20000)"
   ]
  },
  {
   "cell_type": "code",
   "execution_count": 28,
   "metadata": {},
   "outputs": [
    {
     "name": "stdout",
     "output_type": "stream",
     "text": [
      "Dataset size: 20000\n"
     ]
    }
   ],
   "source": [
    "print(\"Dataset size:\", len(df))"
   ]
  },
  {
   "cell_type": "code",
   "execution_count": 29,
   "metadata": {},
   "outputs": [
    {
     "data": {
      "text/html": [
       "<div>\n",
       "<style scoped>\n",
       "    .dataframe tbody tr th:only-of-type {\n",
       "        vertical-align: middle;\n",
       "    }\n",
       "\n",
       "    .dataframe tbody tr th {\n",
       "        vertical-align: top;\n",
       "    }\n",
       "\n",
       "    .dataframe thead th {\n",
       "        text-align: right;\n",
       "    }\n",
       "</style>\n",
       "<table border=\"1\" class=\"dataframe\">\n",
       "  <thead>\n",
       "    <tr style=\"text-align: right;\">\n",
       "      <th></th>\n",
       "      <th>asin</th>\n",
       "      <th>overall</th>\n",
       "      <th>reviewText</th>\n",
       "      <th>summary\\r</th>\n",
       "    </tr>\n",
       "  </thead>\n",
       "  <tbody>\n",
       "    <tr>\n",
       "      <th>664870</th>\n",
       "      <td>B00FGHYLD4</td>\n",
       "      <td>4</td>\n",
       "      <td>Love the characters! A little too tame for me....</td>\n",
       "      <td>Cute and sweet!\\r</td>\n",
       "    </tr>\n",
       "    <tr>\n",
       "      <th>713916</th>\n",
       "      <td>B00GJ00DTS</td>\n",
       "      <td>5</td>\n",
       "      <td>THIS BOOK WAS AMAZING!!! VERY WELL WRITTEN, PI...</td>\n",
       "      <td>LOVED THIS BOOK!!!!!\\r</td>\n",
       "    </tr>\n",
       "    <tr>\n",
       "      <th>413126</th>\n",
       "      <td>B00B51XRTO</td>\n",
       "      <td>5</td>\n",
       "      <td>Have not tried this yet but plan to self publi...</td>\n",
       "      <td>Good reference!\\r</td>\n",
       "    </tr>\n",
       "    <tr>\n",
       "      <th>442248</th>\n",
       "      <td>B00BKKRK20</td>\n",
       "      <td>3</td>\n",
       "      <td>This story is okay it wasn't enough informatio...</td>\n",
       "      <td>GT\\r</td>\n",
       "    </tr>\n",
       "    <tr>\n",
       "      <th>219519</th>\n",
       "      <td>B007YX9X18</td>\n",
       "      <td>5</td>\n",
       "      <td>Definitely loved it a lot!!!!!!!! The story in...</td>\n",
       "      <td>Ari's review\\r</td>\n",
       "    </tr>\n",
       "    <tr>\n",
       "      <th>434975</th>\n",
       "      <td>B00BGBBBB4</td>\n",
       "      <td>4</td>\n",
       "      <td>I enjoyed this story. Colleen Coble is an exce...</td>\n",
       "      <td>Good!\\r</td>\n",
       "    </tr>\n",
       "    <tr>\n",
       "      <th>636481</th>\n",
       "      <td>B00EXTVSHI</td>\n",
       "      <td>5</td>\n",
       "      <td>Buy. This. Book. Now.What more is there to say...</td>\n",
       "      <td>Leaves You Wanting More!\\r</td>\n",
       "    </tr>\n",
       "    <tr>\n",
       "      <th>543420</th>\n",
       "      <td>B00D68Y0V8</td>\n",
       "      <td>5</td>\n",
       "      <td>If you love suspense and adventure then you'll...</td>\n",
       "      <td>great writing with hooking suspense\\r</td>\n",
       "    </tr>\n",
       "    <tr>\n",
       "      <th>790238</th>\n",
       "      <td>B00HUFDI8Y</td>\n",
       "      <td>5</td>\n",
       "      <td>From reading this book, I can confidently say ...</td>\n",
       "      <td>Amazing advice!\\r</td>\n",
       "    </tr>\n",
       "    <tr>\n",
       "      <th>389914</th>\n",
       "      <td>B00AS0EU5I</td>\n",
       "      <td>5</td>\n",
       "      <td>I'm just going to go ahead and get the biggest...</td>\n",
       "      <td>bitter sweet and really good\\r</td>\n",
       "    </tr>\n",
       "  </tbody>\n",
       "</table>\n",
       "</div>"
      ],
      "text/plain": [
       "              asin  overall  \\\n",
       "664870  B00FGHYLD4        4   \n",
       "713916  B00GJ00DTS        5   \n",
       "413126  B00B51XRTO        5   \n",
       "442248  B00BKKRK20        3   \n",
       "219519  B007YX9X18        5   \n",
       "434975  B00BGBBBB4        4   \n",
       "636481  B00EXTVSHI        5   \n",
       "543420  B00D68Y0V8        5   \n",
       "790238  B00HUFDI8Y        5   \n",
       "389914  B00AS0EU5I        5   \n",
       "\n",
       "                                               reviewText  \\\n",
       "664870  Love the characters! A little too tame for me....   \n",
       "713916  THIS BOOK WAS AMAZING!!! VERY WELL WRITTEN, PI...   \n",
       "413126  Have not tried this yet but plan to self publi...   \n",
       "442248  This story is okay it wasn't enough informatio...   \n",
       "219519  Definitely loved it a lot!!!!!!!! The story in...   \n",
       "434975  I enjoyed this story. Colleen Coble is an exce...   \n",
       "636481  Buy. This. Book. Now.What more is there to say...   \n",
       "543420  If you love suspense and adventure then you'll...   \n",
       "790238  From reading this book, I can confidently say ...   \n",
       "389914  I'm just going to go ahead and get the biggest...   \n",
       "\n",
       "                                    summary\\r  \n",
       "664870                      Cute and sweet!\\r  \n",
       "713916                 LOVED THIS BOOK!!!!!\\r  \n",
       "413126                      Good reference!\\r  \n",
       "442248                                   GT\\r  \n",
       "219519                         Ari's review\\r  \n",
       "434975                                Good!\\r  \n",
       "636481             Leaves You Wanting More!\\r  \n",
       "543420  great writing with hooking suspense\\r  \n",
       "790238                      Amazing advice!\\r  \n",
       "389914         bitter sweet and really good\\r  "
      ]
     },
     "execution_count": 29,
     "metadata": {},
     "output_type": "execute_result"
    }
   ],
   "source": [
    "df.head(10)"
   ]
  },
  {
   "cell_type": "code",
   "execution_count": 30,
   "metadata": {},
   "outputs": [],
   "source": [
    "decode_map = {1: \"NEGATIVE\", 2: \"NEGATIVE\", 3: \"NEUTRAL\", 4: \"POSITIVE\", 5: \"POSITIVE\" }\n",
    "def decode_sentiment(label):\n",
    "    return decode_map[int(label)]"
   ]
  },
  {
   "cell_type": "code",
   "execution_count": 31,
   "metadata": {},
   "outputs": [
    {
     "name": "stdout",
     "output_type": "stream",
     "text": [
      "Wall time: 24 ms\n"
     ]
    }
   ],
   "source": [
    "%%time\n",
    "df.overall = df.overall.apply(lambda x: decode_sentiment(x))"
   ]
  },
  {
   "cell_type": "code",
   "execution_count": 32,
   "metadata": {},
   "outputs": [
    {
     "data": {
      "text/plain": [
       "Text(0.5, 1.0, 'Dataset labels distribuition')"
      ]
     },
     "execution_count": 32,
     "metadata": {},
     "output_type": "execute_result"
    },
    {
     "data": {
      "image/png": "[encoded data removed]",
      "text/plain": [
       "<Figure size 1152x576 with 1 Axes>"
      ]
     },
     "metadata": {
      "needs_background": "light"
     },
     "output_type": "display_data"
    }
   ],
   "source": [
    "target_cnt = Counter(df.overall)\n",
    "\n",
    "plt.figure(figsize=(16,8))\n",
    "plt.bar(target_cnt.keys(), target_cnt.values())\n",
    "plt.title(\"Dataset labels distribuition\")"
   ]
  },
  {
   "cell_type": "code",
   "execution_count": 33,
   "metadata": {},
   "outputs": [
    {
     "data": {
      "text/plain": [
       "664870    Love the characters! A little too tame for me....\n",
       "713916    THIS BOOK WAS AMAZING!!! VERY WELL WRITTEN, PI...\n",
       "413126    Have not tried this yet but plan to self publi...\n",
       "442248    This story is okay it wasn't enough informatio...\n",
       "219519    Definitely loved it a lot!!!!!!!! The story in...\n",
       "434975    I enjoyed this story. Colleen Coble is an exce...\n",
       "636481    Buy. This. Book. Now.What more is there to say...\n",
       "543420    If you love suspense and adventure then you'll...\n",
       "790238    From reading this book, I can confidently say ...\n",
       "389914    I'm just going to go ahead and get the biggest...\n",
       "Name: reviewText, dtype: object"
      ]
     },
     "execution_count": 33,
     "metadata": {},
     "output_type": "execute_result"
    }
   ],
   "source": [
    "df.reviewText.head(10)"
   ]
  },
  {
   "cell_type": "code",
   "execution_count": 34,
   "metadata": {},
   "outputs": [
    {
     "name": "stdout",
     "output_type": "stream",
     "text": [
      "TRAIN size: 16000\n",
      "TEST size: 4000\n"
     ]
    }
   ],
   "source": [
    "# split train, test data \n",
    "df_train, df_test = train_test_split(df, test_size=1-TRAIN_SIZE, random_state=42)\n",
    "print(\"TRAIN size:\", len(df_train))\n",
    "print(\"TEST size:\", len(df_test))"
   ]
  },
  {
   "cell_type": "code",
   "execution_count": 35,
   "metadata": {},
   "outputs": [
    {
     "data": {
      "text/html": [
       "<div>\n",
       "<style scoped>\n",
       "    .dataframe tbody tr th:only-of-type {\n",
       "        vertical-align: middle;\n",
       "    }\n",
       "\n",
       "    .dataframe tbody tr th {\n",
       "        vertical-align: top;\n",
       "    }\n",
       "\n",
       "    .dataframe thead th {\n",
       "        text-align: right;\n",
       "    }\n",
       "</style>\n",
       "<table border=\"1\" class=\"dataframe\">\n",
       "  <thead>\n",
       "    <tr style=\"text-align: right;\">\n",
       "      <th></th>\n",
       "      <th>asin</th>\n",
       "      <th>overall</th>\n",
       "      <th>reviewText</th>\n",
       "      <th>summary\\r</th>\n",
       "    </tr>\n",
       "  </thead>\n",
       "  <tbody>\n",
       "    <tr>\n",
       "      <th>489064</th>\n",
       "      <td>B00C9FTZ5U</td>\n",
       "      <td>NEUTRAL</td>\n",
       "      <td>2.5-3 stars - An okay read. Your mileage will ...</td>\n",
       "      <td>Had some issues...\\r</td>\n",
       "    </tr>\n",
       "    <tr>\n",
       "      <th>844534</th>\n",
       "      <td>B00IODNJRG</td>\n",
       "      <td>POSITIVE</td>\n",
       "      <td>I could not put this book down.  I loved it!! ...</td>\n",
       "      <td>loved this book!!!! amazing\\r</td>\n",
       "    </tr>\n",
       "    <tr>\n",
       "      <th>235681</th>\n",
       "      <td>B0086OEU4E</td>\n",
       "      <td>NEUTRAL</td>\n",
       "      <td>This story was very short.  She works for and ...</td>\n",
       "      <td>SHORT, CUTE\\r</td>\n",
       "    </tr>\n",
       "    <tr>\n",
       "      <th>320051</th>\n",
       "      <td>B009M4YYZW</td>\n",
       "      <td>POSITIVE</td>\n",
       "      <td>I really liked this author, I had never read h...</td>\n",
       "      <td>Hot Alpha\\r</td>\n",
       "    </tr>\n",
       "    <tr>\n",
       "      <th>544058</th>\n",
       "      <td>B00D6OE8SW</td>\n",
       "      <td>POSITIVE</td>\n",
       "      <td>Thank you kindly to the author for giving me a...</td>\n",
       "      <td>Intriguing little tale...\\r</td>\n",
       "    </tr>\n",
       "  </tbody>\n",
       "</table>\n",
       "</div>"
      ],
      "text/plain": [
       "              asin   overall  \\\n",
       "489064  B00C9FTZ5U   NEUTRAL   \n",
       "844534  B00IODNJRG  POSITIVE   \n",
       "235681  B0086OEU4E   NEUTRAL   \n",
       "320051  B009M4YYZW  POSITIVE   \n",
       "544058  B00D6OE8SW  POSITIVE   \n",
       "\n",
       "                                               reviewText  \\\n",
       "489064  2.5-3 stars - An okay read. Your mileage will ...   \n",
       "844534  I could not put this book down.  I loved it!! ...   \n",
       "235681  This story was very short.  She works for and ...   \n",
       "320051  I really liked this author, I had never read h...   \n",
       "544058  Thank you kindly to the author for giving me a...   \n",
       "\n",
       "                            summary\\r  \n",
       "489064           Had some issues...\\r  \n",
       "844534  loved this book!!!! amazing\\r  \n",
       "235681                  SHORT, CUTE\\r  \n",
       "320051                    Hot Alpha\\r  \n",
       "544058    Intriguing little tale...\\r  "
      ]
     },
     "execution_count": 35,
     "metadata": {},
     "output_type": "execute_result"
    }
   ],
   "source": [
    "df_train.head()"
   ]
  },
  {
   "cell_type": "code",
   "execution_count": 37,
   "metadata": {},
   "outputs": [],
   "source": [
    "# tokenization\n",
    "documents = [_text.split() for _text in df_train.reviewText]"
   ]
  },
  {
   "cell_type": "code",
   "execution_count": 38,
   "metadata": {},
   "outputs": [],
   "source": [
    "# cleaning token\n",
    "def cleaned(token):\n",
    "    if token == 'u':\n",
    "        return 'you'\n",
    "    if token == 'r':\n",
    "        return 'are'\n",
    "    if token == 'some1':\n",
    "        return 'someone'\n",
    "    if token == 'yrs':\n",
    "        return 'years'\n",
    "    if token == 'hrs':\n",
    "        return 'hours'\n",
    "    if token == 'mins':\n",
    "        return 'minutes'\n",
    "    if token == 'secs':\n",
    "        return 'seconds'\n",
    "    if token == 'pls' or token == 'plz':\n",
    "        return 'please'\n",
    "    if token == '2morow' or token == '2moro':\n",
    "        return 'tomorrow'\n",
    "    if token == '2day':\n",
    "        return 'today'\n",
    "    if token == '4got' or token == '4gotten':\n",
    "        return 'forget'\n",
    "    if token in ['hahah', 'hahaha', 'hahahaha']:\n",
    "        return 'haha'\n",
    "    if token == \"mother's\":\n",
    "        return \"mother\"\n",
    "    if token == \"mom's\":\n",
    "        return \"mom\"\n",
    "    if token == \"dad's\":\n",
    "        return \"dad\"\n",
    "    if token == 'bday' or token == 'b-day':\n",
    "        return 'birthday'\n",
    "    if token in [\"i'm\", \"don't\", \"can't\", \"couldn't\", \"aren't\", \"wouldn't\", \"isn't\", \"didn't\", \"hadn't\",\n",
    "                 \"doesn't\", \"won't\", \"haven't\", \"wasn't\", \"hasn't\", \"shouldn't\", \"ain't\", \"they've\"]:\n",
    "        return token.replace(\"'\", \"\")\n",
    "    if token in ['lmao', 'lolz', 'rofl']:\n",
    "        return 'lol'\n",
    "    if token == '<3':\n",
    "        return 'love'\n",
    "    if token == 'thanx' or token == 'thnx':\n",
    "        return 'thanks'\n",
    "    if token == 'goood':\n",
    "        return 'good'\n",
    "    if token in ['amp', 'quot', 'lt', 'gt', '½25', '..', '. .', '. . .']:\n",
    "        return ''\n",
    "    return token\n",
    "\n",
    "# processing\n",
    "def process_token(tweet_tokens):\n",
    "\n",
    "    cleaned_tokens = []\n",
    "\n",
    "    for token in tweet_tokens:\n",
    "        # Eliminating the token if it is a link\n",
    "        token = re.sub(r'''(?i)\\b((?:https?://|www\\d{0,3}[.]|[a-z0-9.\\-]+[.][a-z]{2,4}/)(?:[^\\s()<>]+|\\(([^\\s()<>]+|(\\([^\\s()<>]+\\)))*\\))+(?:\\(([^\\s()<>]+|(\\([^\\s()<>]+\\)))*\\)|[^\\s`!()\\[\\]{};:'\".,<>?«»“”‘’]))''', \" \", token)\n",
    "        # Eliminating the token if it is a mention\n",
    "        token = re.sub(\"(@[A-Za-z0-9_]+)\",\"\", token)\n",
    "        # Eliminating the token if it is not characters in English\n",
    "        token = re.sub(\"([^A-Za-z0-9_]+)\",\"\", token)\n",
    "        \n",
    "        cleaned_token = cleaned(token.lower())\n",
    "        \n",
    "        if cleaned_token == \"idk\":\n",
    "            cleaned_tokens.append('i')\n",
    "            cleaned_tokens.append('dont')\n",
    "            cleaned_tokens.append('know')\n",
    "            continue\n",
    "        if cleaned_token == \"i'll\":\n",
    "            cleaned_tokens.append('i')\n",
    "            cleaned_tokens.append('will')\n",
    "            continue\n",
    "        if cleaned_token == \"you'll\":\n",
    "            cleaned_tokens.append('you')\n",
    "            cleaned_tokens.append('will')\n",
    "            continue\n",
    "        if cleaned_token == \"we'll\":\n",
    "            cleaned_tokens.append('we')\n",
    "            cleaned_tokens.append('will')\n",
    "            continue\n",
    "        if cleaned_token == \"it'll\":\n",
    "            cleaned_tokens.append('it')\n",
    "            cleaned_tokens.append('will')\n",
    "            continue\n",
    "        if cleaned_token == \"it's\":\n",
    "            cleaned_tokens.append('it')\n",
    "            cleaned_tokens.append('is')\n",
    "            continue\n",
    "        if cleaned_token == \"i've\":\n",
    "            cleaned_tokens.append('i')\n",
    "            cleaned_tokens.append('have')\n",
    "            continue\n",
    "        if cleaned_token == \"you've\":\n",
    "            cleaned_tokens.append('you')\n",
    "            cleaned_tokens.append('have')\n",
    "            continue\n",
    "        if cleaned_token == \"we've\":\n",
    "            cleaned_tokens.append('we')\n",
    "            cleaned_tokens.append('have')\n",
    "            continue\n",
    "        if cleaned_token == \"they've\":\n",
    "            cleaned_tokens.append('they')\n",
    "            cleaned_tokens.append('have')\n",
    "            continue\n",
    "        if cleaned_token == \"you're\":\n",
    "            cleaned_tokens.append('you')\n",
    "            cleaned_tokens.append('are')\n",
    "            continue\n",
    "        if cleaned_token == \"we're\":\n",
    "            cleaned_tokens.append('we')\n",
    "            cleaned_tokens.append('are')\n",
    "            continue\n",
    "        if cleaned_token == \"they're\":\n",
    "            cleaned_tokens.append('they')\n",
    "            cleaned_tokens.append('are')\n",
    "            continue\n",
    "        if cleaned_token == \"let's\":\n",
    "            cleaned_tokens.append('let')\n",
    "            cleaned_tokens.append('us')\n",
    "            continue\n",
    "        if cleaned_token == \"she's\":\n",
    "            cleaned_tokens.append('she')\n",
    "            cleaned_tokens.append('is')\n",
    "            continue\n",
    "        if cleaned_token == \"he's\":\n",
    "            cleaned_tokens.append('he')\n",
    "            cleaned_tokens.append('is')\n",
    "            continue\n",
    "        if cleaned_token == \"that's\":\n",
    "            cleaned_tokens.append('that')\n",
    "            cleaned_tokens.append('is')\n",
    "            continue\n",
    "        if cleaned_token == \"i'd\":\n",
    "            cleaned_tokens.append('i')\n",
    "            cleaned_tokens.append('would')\n",
    "            continue\n",
    "        if cleaned_token == \"you'd\":\n",
    "            cleaned_tokens.append('you')\n",
    "            cleaned_tokens.append('would')\n",
    "            continue\n",
    "        if cleaned_token == \"there's\":\n",
    "            cleaned_tokens.append('there')\n",
    "            cleaned_tokens.append('is')\n",
    "            continue\n",
    "        if cleaned_token == \"what's\":\n",
    "            cleaned_tokens.append('what')\n",
    "            cleaned_tokens.append('is')\n",
    "            continue\n",
    "        if cleaned_token == \"how's\":\n",
    "            cleaned_tokens.append('how')\n",
    "            cleaned_tokens.append('is')\n",
    "            continue\n",
    "        if cleaned_token == \"who's\":\n",
    "            cleaned_tokens.append('who')\n",
    "            cleaned_tokens.append('is')\n",
    "            continue\n",
    "        if cleaned_token == \"y'all\" or cleaned_token == \"ya'll\":\n",
    "            cleaned_tokens.append('you')\n",
    "            cleaned_tokens.append('all')\n",
    "            continue\n",
    "\n",
    "        if cleaned_token.strip() and cleaned_token not in string.punctuation: \n",
    "            cleaned_tokens.append(cleaned_token)\n",
    "            \n",
    "    return cleaned_tokens"
   ]
  },
  {
   "cell_type": "code",
   "execution_count": 39,
   "metadata": {},
   "outputs": [
    {
     "name": "stdout",
     "output_type": "stream",
     "text": [
      "['Thank', 'you', 'kindly', 'to', 'the', 'author', 'for', 'giving', 'me', 'a', 'copy', 'of', 'this', 'novella', 'for', 'review.When', 'branch', 'manager', 'Giles', 'Macintosh', 'arrives', 'to', 'open', 'up', 'one', 'morning', 'and', 'finds', 'an', 'injured', 'bum', 'and', 'his', 'battered', 'dog', 'lying', 'in', 'the', 'doorway', 'of', 'the', 'bank,', 'he', 'little', 'suspects', 'what', 'lies', 'in', 'store', 'for', 'them', 'all.This', 'was', 'a', 'quirky', 'and', 'intriguing', 'little', 'story', '-', 'my', 'one', 'complaint', 'is', 'that', 'I', 'would', 'have', 'liked', 'it', 'to', 'be', 'longer..it', 'felt', 'like', 'a', 'novel', 'in', 'the', 'making.', 'Thats', 'not', 'a', 'bad', 'thing', 'incidentally,', 'it', 'meant', 'that', 'I', 'would', 'happily', 'have', 'read', 'on....Its', 'a', 'bit', 'difficult', 'to', 'put', 'this', 'one', 'in', 'a', 'genre', 'box.', 'It', 'was', 'a', 'fairly', 'gritty', 'read', 'whilst', 'also', 'having', 'a', 'heart', 'warming', 'message', 'at', 'its', 'heart', 'and', 'an', 'intriguing', 'supernatural', 'element.I', 'love', 'the', 'mish', 'mash', 'of', 'styles', 'here', '-', 'depending', 'on', 'whats', 'going', 'on', 'and', 'who', 'we', 'are', 'with', 'at', 'the', 'time,', 'the', 'style', 'and', 'content', 'of', 'the', 'writing', 'changes', 'to', 'give', 'each', 'character', 'and/or', 'situation', 'its', 'own', 'voice.', 'Even', 'the', 'more', 'magical', 'elements', 'felt', 'realistic.', 'I', 'love', 'that', '-', 'it', 'makes', 'me', 'wonder', 'if', 'there', 'really', 'are', 'people', 'out', 'there', 'with', 'strange', 'and', 'wonderful', 'gifts...Plot', 'wise', 'it', 'is', 'involving', 'and', 'flows', 'nicely-', 'you', 'will', 'want', 'to', 'contine', 'to', 'the', 'end', '-', 'and', 'the', 'ultimate', 'resolution', 'for', 'me', 'was', 'satisfying.', 'I', 'have', 'not', 'read', 'any', 'of', 'this', 'authors', 'other', 'work', 'but', 'I', 'would', 'surely', 'read', 'another', 'tale', 'of', 'this', 'ilk.', 'I', 'very', 'much', 'enjoyed', 'it.', 'It', 'would', 'make', 'a', 'wonderful', 'full', 'length', 'novel', 'if', 'the', 'tale', 'could', 'be', 'embellished', 'and', 'expanded', '-', 'there', 'are', 'definitely', 'certain', 'aspects', 'I', 'would', 'like', 'to', 'know', 'more', 'about.', 'All', 'in', 'all', 'a', 'terrific', 'read', 'and', 'great', 'for', 'a', 'Sunday', 'afternoon.', 'My', 'Sunday', 'Side', 'Read', 'this', 'week', 'was', 'well', 'worth', 'the', 'effort.Happy', 'Reading', 'Folks!']\n"
     ]
    }
   ],
   "source": [
    "print(documents[4])"
   ]
  },
  {
   "cell_type": "code",
   "execution_count": 40,
   "metadata": {},
   "outputs": [
    {
     "name": "stdout",
     "output_type": "stream",
     "text": [
      "['thank', 'you', 'kindly', 'to', 'the', 'author', 'for', 'giving', 'me', 'a', 'copy', 'of', 'this', 'novella', 'for', 'reviewwhen', 'branch', 'manager', 'giles', 'macintosh', 'arrives', 'to', 'open', 'up', 'one', 'morning', 'and', 'finds', 'an', 'injured', 'bum', 'and', 'his', 'battered', 'dog', 'lying', 'in', 'the', 'doorway', 'of', 'the', 'bank', 'he', 'little', 'suspects', 'what', 'lies', 'in', 'store', 'for', 'them', 'allthis', 'was', 'a', 'quirky', 'and', 'intriguing', 'little', 'story', 'my', 'one', 'complaint', 'is', 'that', 'i', 'would', 'have', 'liked', 'it', 'to', 'be', 'longerit', 'felt', 'like', 'a', 'novel', 'in', 'the', 'making', 'thats', 'not', 'a', 'bad', 'thing', 'incidentally', 'it', 'meant', 'that', 'i', 'would', 'happily', 'have', 'read', 'onits', 'a', 'bit', 'difficult', 'to', 'put', 'this', 'one', 'in', 'a', 'genre', 'box', 'it', 'was', 'a', 'fairly', 'gritty', 'read', 'whilst', 'also', 'having', 'a', 'heart', 'warming', 'message', 'at', 'its', 'heart', 'and', 'an', 'intriguing', 'supernatural', 'elementi', 'love', 'the', 'mish', 'mash', 'of', 'styles', 'here', 'depending', 'on', 'whats', 'going', 'on', 'and', 'who', 'we', 'are', 'with', 'at', 'the', 'time', 'the', 'style', 'and', 'content', 'of', 'the', 'writing', 'changes', 'to', 'give', 'each', 'character', 'andor', 'situation', 'its', 'own', 'voice', 'even', 'the', 'more', 'magical', 'elements', 'felt', 'realistic', 'i', 'love', 'that', 'it', 'makes', 'me', 'wonder', 'if', 'there', 'really', 'are', 'people', 'out', 'there', 'with', 'strange', 'and', 'wonderful', 'giftsplot', 'wise', 'it', 'is', 'involving', 'and', 'flows', 'nicely', 'you', 'will', 'want', 'to', 'contine', 'to', 'the', 'end', 'and', 'the', 'ultimate', 'resolution', 'for', 'me', 'was', 'satisfying', 'i', 'have', 'not', 'read', 'any', 'of', 'this', 'authors', 'other', 'work', 'but', 'i', 'would', 'surely', 'read', 'another', 'tale', 'of', 'this', 'ilk', 'i', 'very', 'much', 'enjoyed', 'it', 'it', 'would', 'make', 'a', 'wonderful', 'full', 'length', 'novel', 'if', 'the', 'tale', 'could', 'be', 'embellished', 'and', 'expanded', 'there', 'are', 'definitely', 'certain', 'aspects', 'i', 'would', 'like', 'to', 'know', 'more', 'about', 'all', 'in', 'all', 'a', 'terrific', 'read', 'and', 'great', 'for', 'a', 'sunday', 'afternoon', 'my', 'sunday', 'side', 'read', 'this', 'week', 'was', 'well', 'worth', 'the', 'efforthappy', 'reading', 'folks']\n"
     ]
    }
   ],
   "source": [
    "print(process_token(documents[4]))"
   ]
  },
  {
   "cell_type": "code",
   "execution_count": 41,
   "metadata": {},
   "outputs": [],
   "source": [
    "cleaned_documents = [process_token(document) for document in documents]"
   ]
  },
  {
   "cell_type": "code",
   "execution_count": 42,
   "metadata": {},
   "outputs": [
    {
     "name": "stdout",
     "output_type": "stream",
     "text": [
      "['thank', 'you', 'kindly', 'to', 'the', 'author', 'for', 'giving', 'me', 'a', 'copy', 'of', 'this', 'novella', 'for', 'reviewwhen', 'branch', 'manager', 'giles', 'macintosh', 'arrives', 'to', 'open', 'up', 'one', 'morning', 'and', 'finds', 'an', 'injured', 'bum', 'and', 'his', 'battered', 'dog', 'lying', 'in', 'the', 'doorway', 'of', 'the', 'bank', 'he', 'little', 'suspects', 'what', 'lies', 'in', 'store', 'for', 'them', 'allthis', 'was', 'a', 'quirky', 'and', 'intriguing', 'little', 'story', 'my', 'one', 'complaint', 'is', 'that', 'i', 'would', 'have', 'liked', 'it', 'to', 'be', 'longerit', 'felt', 'like', 'a', 'novel', 'in', 'the', 'making', 'thats', 'not', 'a', 'bad', 'thing', 'incidentally', 'it', 'meant', 'that', 'i', 'would', 'happily', 'have', 'read', 'onits', 'a', 'bit', 'difficult', 'to', 'put', 'this', 'one', 'in', 'a', 'genre', 'box', 'it', 'was', 'a', 'fairly', 'gritty', 'read', 'whilst', 'also', 'having', 'a', 'heart', 'warming', 'message', 'at', 'its', 'heart', 'and', 'an', 'intriguing', 'supernatural', 'elementi', 'love', 'the', 'mish', 'mash', 'of', 'styles', 'here', 'depending', 'on', 'whats', 'going', 'on', 'and', 'who', 'we', 'are', 'with', 'at', 'the', 'time', 'the', 'style', 'and', 'content', 'of', 'the', 'writing', 'changes', 'to', 'give', 'each', 'character', 'andor', 'situation', 'its', 'own', 'voice', 'even', 'the', 'more', 'magical', 'elements', 'felt', 'realistic', 'i', 'love', 'that', 'it', 'makes', 'me', 'wonder', 'if', 'there', 'really', 'are', 'people', 'out', 'there', 'with', 'strange', 'and', 'wonderful', 'giftsplot', 'wise', 'it', 'is', 'involving', 'and', 'flows', 'nicely', 'you', 'will', 'want', 'to', 'contine', 'to', 'the', 'end', 'and', 'the', 'ultimate', 'resolution', 'for', 'me', 'was', 'satisfying', 'i', 'have', 'not', 'read', 'any', 'of', 'this', 'authors', 'other', 'work', 'but', 'i', 'would', 'surely', 'read', 'another', 'tale', 'of', 'this', 'ilk', 'i', 'very', 'much', 'enjoyed', 'it', 'it', 'would', 'make', 'a', 'wonderful', 'full', 'length', 'novel', 'if', 'the', 'tale', 'could', 'be', 'embellished', 'and', 'expanded', 'there', 'are', 'definitely', 'certain', 'aspects', 'i', 'would', 'like', 'to', 'know', 'more', 'about', 'all', 'in', 'all', 'a', 'terrific', 'read', 'and', 'great', 'for', 'a', 'sunday', 'afternoon', 'my', 'sunday', 'side', 'read', 'this', 'week', 'was', 'well', 'worth', 'the', 'efforthappy', 'reading', 'folks']\n"
     ]
    }
   ],
   "source": [
    "print(cleaned_documents[4])"
   ]
  },
  {
   "cell_type": "code",
   "execution_count": 43,
   "metadata": {},
   "outputs": [],
   "source": [
    "# word 2 vec\n",
    "w2v_model = gensim.models.word2vec.Word2Vec(size=W2V_SIZE, \n",
    "                                            window=W2V_WINDOW, \n",
    "                                            min_count=W2V_MIN_COUNT, \n",
    "                                            workers=8)"
   ]
  },
  {
   "cell_type": "code",
   "execution_count": 44,
   "metadata": {},
   "outputs": [
    {
     "name": "stderr",
     "output_type": "stream",
     "text": [
      "2020-12-01 10:06:20,004 : INFO : collecting all words and their counts\n",
      "2020-12-01 10:06:20,006 : INFO : PROGRESS: at sentence #0, processed 0 words, keeping 0 word types\n",
      "2020-12-01 10:06:20,662 : INFO : PROGRESS: at sentence #10000, processed 1108622 words, keeping 78636 word types\n",
      "2020-12-01 10:06:21,044 : INFO : collected 107612 word types from a corpus of 1773065 raw words and 16000 sentences\n",
      "2020-12-01 10:06:21,046 : INFO : Loading a fresh vocabulary\n",
      "2020-12-01 10:06:21,231 : INFO : effective_min_count=10 retains 9657 unique words (8% of original 107612, drops 97955)\n",
      "2020-12-01 10:06:21,233 : INFO : effective_min_count=10 leaves 1601566 word corpus (90% of original 1773065, drops 171499)\n",
      "2020-12-01 10:06:21,390 : INFO : deleting the raw counts dictionary of 107612 items\n",
      "2020-12-01 10:06:21,399 : INFO : sample=0.001 downsamples 57 most-common words\n",
      "2020-12-01 10:06:21,401 : INFO : downsampling leaves estimated 1176382 word corpus (73.5% of prior 1601566)\n",
      "2020-12-01 10:06:21,547 : INFO : estimated required memory for 9657 words and 300 dimensions: 28005300 bytes\n",
      "2020-12-01 10:06:21,549 : INFO : resetting layer weights\n"
     ]
    }
   ],
   "source": [
    "w2v_model.build_vocab(documents)"
   ]
  },
  {
   "cell_type": "code",
   "execution_count": 45,
   "metadata": {},
   "outputs": [
    {
     "name": "stdout",
     "output_type": "stream",
     "text": [
      "Vocab size 9657\n"
     ]
    }
   ],
   "source": [
    "words = w2v_model.wv.vocab.keys()\n",
    "vocab_size = len(words)\n",
    "print(\"Vocab size\", vocab_size)"
   ]
  },
  {
   "cell_type": "code",
   "execution_count": null,
   "metadata": {},
   "outputs": [
    {
     "name": "stderr",
     "output_type": "stream",
     "text": [
      "2020-12-01 10:07:35,687 : INFO : training model with 8 workers on 9657 vocabulary and 300 features, using sg=0 hs=0 sample=0.001 negative=5 window=7\n",
      "2020-12-01 10:07:36,936 : INFO : EPOCH 1 - PROGRESS: at 20.03% examples, 232635 words/s, in_qsize 16, out_qsize 0\n",
      "2020-12-01 10:07:37,942 : INFO : EPOCH 1 - PROGRESS: at 43.16% examples, 249782 words/s, in_qsize 15, out_qsize 0\n",
      "2020-12-01 10:07:38,969 : INFO : EPOCH 1 - PROGRESS: at 65.37% examples, 252118 words/s, in_qsize 16, out_qsize 0\n",
      "2020-12-01 10:07:39,975 : INFO : EPOCH 1 - PROGRESS: at 86.70% examples, 251093 words/s, in_qsize 16, out_qsize 0\n",
      "2020-12-01 10:07:40,380 : INFO : worker thread finished; awaiting finish of 7 more threads\n",
      "2020-12-01 10:07:40,393 : INFO : worker thread finished; awaiting finish of 6 more threads\n",
      "2020-12-01 10:07:40,414 : INFO : worker thread finished; awaiting finish of 5 more threads\n",
      "2020-12-01 10:07:40,424 : INFO : worker thread finished; awaiting finish of 4 more threads\n",
      "2020-12-01 10:07:40,460 : INFO : worker thread finished; awaiting finish of 3 more threads\n",
      "2020-12-01 10:07:40,483 : INFO : worker thread finished; awaiting finish of 2 more threads\n",
      "2020-12-01 10:07:40,504 : INFO : worker thread finished; awaiting finish of 1 more threads\n",
      "2020-12-01 10:07:40,520 : INFO : worker thread finished; awaiting finish of 0 more threads\n",
      "2020-12-01 10:07:40,522 : INFO : EPOCH - 1 : training on 1773065 raw words (1177286 effective words) took 4.6s, 255743 effective words/s\n",
      "2020-12-01 10:07:41,565 : INFO : EPOCH 2 - PROGRESS: at 18.45% examples, 216294 words/s, in_qsize 16, out_qsize 0\n",
      "2020-12-01 10:07:42,569 : INFO : EPOCH 2 - PROGRESS: at 38.62% examples, 225476 words/s, in_qsize 15, out_qsize 0\n",
      "2020-12-01 10:07:43,576 : INFO : EPOCH 2 - PROGRESS: at 61.38% examples, 239799 words/s, in_qsize 15, out_qsize 0\n",
      "2020-12-01 10:07:44,611 : INFO : EPOCH 2 - PROGRESS: at 87.15% examples, 252999 words/s, in_qsize 16, out_qsize 1\n",
      "2020-12-01 10:07:44,970 : INFO : worker thread finished; awaiting finish of 7 more threads\n",
      "2020-12-01 10:07:44,982 : INFO : worker thread finished; awaiting finish of 6 more threads\n",
      "2020-12-01 10:07:44,988 : INFO : worker thread finished; awaiting finish of 5 more threads\n",
      "2020-12-01 10:07:44,990 : INFO : worker thread finished; awaiting finish of 4 more threads\n",
      "2020-12-01 10:07:45,018 : INFO : worker thread finished; awaiting finish of 3 more threads\n",
      "2020-12-01 10:07:45,033 : INFO : worker thread finished; awaiting finish of 2 more threads\n",
      "2020-12-01 10:07:45,062 : INFO : worker thread finished; awaiting finish of 1 more threads\n",
      "2020-12-01 10:07:45,066 : INFO : worker thread finished; awaiting finish of 0 more threads\n",
      "2020-12-01 10:07:45,069 : INFO : EPOCH - 2 : training on 1773065 raw words (1176148 effective words) took 4.5s, 261119 effective words/s\n",
      "2020-12-01 10:07:46,179 : INFO : EPOCH 3 - PROGRESS: at 22.39% examples, 258787 words/s, in_qsize 15, out_qsize 0\n",
      "2020-12-01 10:07:47,179 : INFO : EPOCH 3 - PROGRESS: at 43.06% examples, 250482 words/s, in_qsize 16, out_qsize 0\n",
      "2020-12-01 10:07:48,264 : INFO : EPOCH 3 - PROGRESS: at 66.42% examples, 252152 words/s, in_qsize 15, out_qsize 0\n",
      "2020-12-01 10:07:49,330 : INFO : EPOCH 3 - PROGRESS: at 86.05% examples, 242718 words/s, in_qsize 15, out_qsize 0\n",
      "2020-12-01 10:07:49,883 : INFO : worker thread finished; awaiting finish of 7 more threads\n",
      "2020-12-01 10:07:49,895 : INFO : worker thread finished; awaiting finish of 6 more threads\n",
      "2020-12-01 10:07:49,905 : INFO : worker thread finished; awaiting finish of 5 more threads\n",
      "2020-12-01 10:07:49,917 : INFO : worker thread finished; awaiting finish of 4 more threads\n",
      "2020-12-01 10:07:49,929 : INFO : worker thread finished; awaiting finish of 3 more threads\n",
      "2020-12-01 10:07:49,969 : INFO : worker thread finished; awaiting finish of 2 more threads\n",
      "2020-12-01 10:07:49,981 : INFO : worker thread finished; awaiting finish of 1 more threads\n",
      "2020-12-01 10:07:49,992 : INFO : worker thread finished; awaiting finish of 0 more threads\n",
      "2020-12-01 10:07:49,996 : INFO : EPOCH - 3 : training on 1773065 raw words (1176299 effective words) took 4.8s, 243425 effective words/s\n",
      "2020-12-01 10:07:51,054 : INFO : EPOCH 4 - PROGRESS: at 19.51% examples, 225657 words/s, in_qsize 16, out_qsize 0\n",
      "2020-12-01 10:07:52,095 : INFO : EPOCH 4 - PROGRESS: at 37.65% examples, 213477 words/s, in_qsize 15, out_qsize 0\n",
      "2020-12-01 10:07:53,132 : INFO : EPOCH 4 - PROGRESS: at 58.02% examples, 220693 words/s, in_qsize 15, out_qsize 0\n",
      "2020-12-01 10:07:54,197 : INFO : EPOCH 4 - PROGRESS: at 79.91% examples, 225828 words/s, in_qsize 15, out_qsize 0\n",
      "2020-12-01 10:07:55,087 : INFO : worker thread finished; awaiting finish of 7 more threads\n",
      "2020-12-01 10:07:55,132 : INFO : worker thread finished; awaiting finish of 6 more threads\n",
      "2020-12-01 10:07:55,146 : INFO : worker thread finished; awaiting finish of 5 more threads\n",
      "2020-12-01 10:07:55,166 : INFO : worker thread finished; awaiting finish of 4 more threads\n",
      "2020-12-01 10:07:55,169 : INFO : worker thread finished; awaiting finish of 3 more threads\n",
      "2020-12-01 10:07:55,192 : INFO : worker thread finished; awaiting finish of 2 more threads\n",
      "2020-12-01 10:07:55,254 : INFO : EPOCH 4 - PROGRESS: at 99.40% examples, 224254 words/s, in_qsize 1, out_qsize 1\n",
      "2020-12-01 10:07:55,256 : INFO : worker thread finished; awaiting finish of 1 more threads\n",
      "2020-12-01 10:07:55,267 : INFO : worker thread finished; awaiting finish of 0 more threads\n",
      "2020-12-01 10:07:55,270 : INFO : EPOCH - 4 : training on 1773065 raw words (1176330 effective words) took 5.2s, 224860 effective words/s\n",
      "2020-12-01 10:07:56,364 : INFO : EPOCH 5 - PROGRESS: at 19.00% examples, 217644 words/s, in_qsize 16, out_qsize 1\n",
      "2020-12-01 10:07:57,377 : INFO : EPOCH 5 - PROGRESS: at 39.74% examples, 228176 words/s, in_qsize 16, out_qsize 0\n",
      "2020-12-01 10:07:58,380 : INFO : EPOCH 5 - PROGRESS: at 59.65% examples, 230892 words/s, in_qsize 16, out_qsize 0\n",
      "2020-12-01 10:07:59,404 : INFO : EPOCH 5 - PROGRESS: at 81.04% examples, 234174 words/s, in_qsize 15, out_qsize 0\n",
      "2020-12-01 10:08:00,103 : INFO : worker thread finished; awaiting finish of 7 more threads\n",
      "2020-12-01 10:08:00,127 : INFO : worker thread finished; awaiting finish of 6 more threads\n",
      "2020-12-01 10:08:00,156 : INFO : worker thread finished; awaiting finish of 5 more threads\n",
      "2020-12-01 10:08:00,192 : INFO : worker thread finished; awaiting finish of 4 more threads\n",
      "2020-12-01 10:08:00,208 : INFO : worker thread finished; awaiting finish of 3 more threads\n",
      "2020-12-01 10:08:00,239 : INFO : worker thread finished; awaiting finish of 2 more threads\n",
      "2020-12-01 10:08:00,256 : INFO : worker thread finished; awaiting finish of 1 more threads\n",
      "2020-12-01 10:08:00,308 : INFO : worker thread finished; awaiting finish of 0 more threads\n",
      "2020-12-01 10:08:00,312 : INFO : EPOCH - 5 : training on 1773065 raw words (1176485 effective words) took 5.0s, 236494 effective words/s\n",
      "2020-12-01 10:08:01,435 : INFO : EPOCH 6 - PROGRESS: at 21.17% examples, 236869 words/s, in_qsize 16, out_qsize 0\n",
      "2020-12-01 10:08:02,490 : INFO : EPOCH 6 - PROGRESS: at 47.54% examples, 264575 words/s, in_qsize 15, out_qsize 0\n",
      "2020-12-01 10:08:03,497 : INFO : EPOCH 6 - PROGRESS: at 72.50% examples, 273882 words/s, in_qsize 16, out_qsize 1\n",
      "2020-12-01 10:08:04,595 : INFO : EPOCH 6 - PROGRESS: at 92.26% examples, 256977 words/s, in_qsize 14, out_qsize 1\n",
      "2020-12-01 10:08:04,730 : INFO : worker thread finished; awaiting finish of 7 more threads\n",
      "2020-12-01 10:08:04,745 : INFO : worker thread finished; awaiting finish of 6 more threads\n",
      "2020-12-01 10:08:04,758 : INFO : worker thread finished; awaiting finish of 5 more threads\n",
      "2020-12-01 10:08:04,769 : INFO : worker thread finished; awaiting finish of 4 more threads\n",
      "2020-12-01 10:08:04,798 : INFO : worker thread finished; awaiting finish of 3 more threads\n",
      "2020-12-01 10:08:04,807 : INFO : worker thread finished; awaiting finish of 2 more threads\n",
      "2020-12-01 10:08:04,833 : INFO : worker thread finished; awaiting finish of 1 more threads\n",
      "2020-12-01 10:08:04,844 : INFO : worker thread finished; awaiting finish of 0 more threads\n",
      "2020-12-01 10:08:04,847 : INFO : EPOCH - 6 : training on 1773065 raw words (1176116 effective words) took 4.5s, 263391 effective words/s\n",
      "2020-12-01 10:08:05,929 : INFO : EPOCH 7 - PROGRESS: at 21.26% examples, 238051 words/s, in_qsize 15, out_qsize 0\n"
     ]
    },
    {
     "name": "stderr",
     "output_type": "stream",
     "text": [
      "2020-12-01 10:08:06,973 : INFO : EPOCH 7 - PROGRESS: at 39.36% examples, 219412 words/s, in_qsize 15, out_qsize 0\n",
      "2020-12-01 10:08:08,000 : INFO : EPOCH 7 - PROGRESS: at 60.87% examples, 229436 words/s, in_qsize 14, out_qsize 1\n",
      "2020-12-01 10:08:09,022 : INFO : EPOCH 7 - PROGRESS: at 84.42% examples, 239506 words/s, in_qsize 16, out_qsize 1\n",
      "2020-12-01 10:08:09,538 : INFO : worker thread finished; awaiting finish of 7 more threads\n",
      "2020-12-01 10:08:09,634 : INFO : worker thread finished; awaiting finish of 6 more threads\n",
      "2020-12-01 10:08:09,652 : INFO : worker thread finished; awaiting finish of 5 more threads\n",
      "2020-12-01 10:08:09,655 : INFO : worker thread finished; awaiting finish of 4 more threads\n",
      "2020-12-01 10:08:09,680 : INFO : worker thread finished; awaiting finish of 3 more threads\n",
      "2020-12-01 10:08:09,702 : INFO : worker thread finished; awaiting finish of 2 more threads\n",
      "2020-12-01 10:08:09,725 : INFO : worker thread finished; awaiting finish of 1 more threads\n",
      "2020-12-01 10:08:09,742 : INFO : worker thread finished; awaiting finish of 0 more threads\n",
      "2020-12-01 10:08:09,745 : INFO : EPOCH - 7 : training on 1773065 raw words (1176033 effective words) took 4.9s, 241813 effective words/s\n",
      "2020-12-01 10:08:10,830 : INFO : EPOCH 8 - PROGRESS: at 17.97% examples, 205441 words/s, in_qsize 16, out_qsize 0\n",
      "2020-12-01 10:08:11,862 : INFO : EPOCH 8 - PROGRESS: at 40.34% examples, 229950 words/s, in_qsize 16, out_qsize 0\n",
      "2020-12-01 10:08:12,871 : INFO : EPOCH 8 - PROGRESS: at 63.59% examples, 244373 words/s, in_qsize 15, out_qsize 0\n",
      "2020-12-01 10:08:13,875 : INFO : EPOCH 8 - PROGRESS: at 87.73% examples, 253437 words/s, in_qsize 15, out_qsize 0\n",
      "2020-12-01 10:08:14,308 : INFO : worker thread finished; awaiting finish of 7 more threads\n",
      "2020-12-01 10:08:14,325 : INFO : worker thread finished; awaiting finish of 6 more threads\n",
      "2020-12-01 10:08:14,340 : INFO : worker thread finished; awaiting finish of 5 more threads\n",
      "2020-12-01 10:08:14,360 : INFO : worker thread finished; awaiting finish of 4 more threads\n",
      "2020-12-01 10:08:14,363 : INFO : worker thread finished; awaiting finish of 3 more threads\n",
      "2020-12-01 10:08:14,371 : INFO : worker thread finished; awaiting finish of 2 more threads\n",
      "2020-12-01 10:08:14,392 : INFO : worker thread finished; awaiting finish of 1 more threads\n",
      "2020-12-01 10:08:14,436 : INFO : worker thread finished; awaiting finish of 0 more threads\n",
      "2020-12-01 10:08:14,439 : INFO : EPOCH - 8 : training on 1773065 raw words (1176535 effective words) took 4.6s, 253975 effective words/s\n",
      "2020-12-01 10:08:15,623 : INFO : EPOCH 9 - PROGRESS: at 18.44% examples, 214211 words/s, in_qsize 16, out_qsize 0\n",
      "2020-12-01 10:08:16,667 : INFO : EPOCH 9 - PROGRESS: at 37.65% examples, 213829 words/s, in_qsize 16, out_qsize 0\n",
      "2020-12-01 10:08:17,673 : INFO : EPOCH 9 - PROGRESS: at 55.90% examples, 214571 words/s, in_qsize 14, out_qsize 0\n",
      "2020-12-01 10:08:18,705 : INFO : EPOCH 9 - PROGRESS: at 75.46% examples, 216619 words/s, in_qsize 16, out_qsize 0\n",
      "2020-12-01 10:08:19,724 : INFO : EPOCH 9 - PROGRESS: at 94.50% examples, 217101 words/s, in_qsize 11, out_qsize 0\n",
      "2020-12-01 10:08:19,807 : INFO : worker thread finished; awaiting finish of 7 more threads\n",
      "2020-12-01 10:08:19,818 : INFO : worker thread finished; awaiting finish of 6 more threads\n",
      "2020-12-01 10:08:19,822 : INFO : worker thread finished; awaiting finish of 5 more threads\n",
      "2020-12-01 10:08:19,828 : INFO : worker thread finished; awaiting finish of 4 more threads\n",
      "2020-12-01 10:08:19,836 : INFO : worker thread finished; awaiting finish of 3 more threads\n",
      "2020-12-01 10:08:19,896 : INFO : worker thread finished; awaiting finish of 2 more threads\n",
      "2020-12-01 10:08:19,913 : INFO : worker thread finished; awaiting finish of 1 more threads\n",
      "2020-12-01 10:08:19,946 : INFO : worker thread finished; awaiting finish of 0 more threads\n",
      "2020-12-01 10:08:19,948 : INFO : EPOCH - 9 : training on 1773065 raw words (1176324 effective words) took 5.3s, 220527 effective words/s\n",
      "2020-12-01 10:08:21,036 : INFO : EPOCH 10 - PROGRESS: at 20.11% examples, 233503 words/s, in_qsize 15, out_qsize 0\n",
      "2020-12-01 10:08:22,065 : INFO : EPOCH 10 - PROGRESS: at 43.22% examples, 247398 words/s, in_qsize 13, out_qsize 2\n",
      "2020-12-01 10:08:23,099 : INFO : EPOCH 10 - PROGRESS: at 63.59% examples, 243475 words/s, in_qsize 14, out_qsize 1\n",
      "2020-12-01 10:08:24,237 : INFO : EPOCH 10 - PROGRESS: at 88.72% examples, 247847 words/s, in_qsize 15, out_qsize 0\n",
      "2020-12-01 10:08:24,545 : INFO : worker thread finished; awaiting finish of 7 more threads\n",
      "2020-12-01 10:08:24,550 : INFO : worker thread finished; awaiting finish of 6 more threads\n",
      "2020-12-01 10:08:24,615 : INFO : worker thread finished; awaiting finish of 5 more threads\n",
      "2020-12-01 10:08:24,631 : INFO : worker thread finished; awaiting finish of 4 more threads\n",
      "2020-12-01 10:08:24,636 : INFO : worker thread finished; awaiting finish of 3 more threads\n",
      "2020-12-01 10:08:24,649 : INFO : worker thread finished; awaiting finish of 2 more threads\n",
      "2020-12-01 10:08:24,670 : INFO : worker thread finished; awaiting finish of 1 more threads\n",
      "2020-12-01 10:08:24,742 : INFO : worker thread finished; awaiting finish of 0 more threads\n",
      "2020-12-01 10:08:24,745 : INFO : EPOCH - 10 : training on 1773065 raw words (1176171 effective words) took 4.7s, 249274 effective words/s\n",
      "2020-12-01 10:08:25,815 : INFO : EPOCH 11 - PROGRESS: at 15.70% examples, 181232 words/s, in_qsize 15, out_qsize 0\n",
      "2020-12-01 10:08:26,851 : INFO : EPOCH 11 - PROGRESS: at 37.00% examples, 211442 words/s, in_qsize 14, out_qsize 1\n",
      "2020-12-01 10:08:27,904 : INFO : EPOCH 11 - PROGRESS: at 60.22% examples, 228786 words/s, in_qsize 14, out_qsize 1\n",
      "2020-12-01 10:08:28,910 : INFO : EPOCH 11 - PROGRESS: at 84.78% examples, 243067 words/s, in_qsize 15, out_qsize 0\n",
      "2020-12-01 10:08:29,476 : INFO : worker thread finished; awaiting finish of 7 more threads\n",
      "2020-12-01 10:08:29,480 : INFO : worker thread finished; awaiting finish of 6 more threads\n",
      "2020-12-01 10:08:29,482 : INFO : worker thread finished; awaiting finish of 5 more threads\n",
      "2020-12-01 10:08:29,485 : INFO : worker thread finished; awaiting finish of 4 more threads\n",
      "2020-12-01 10:08:29,487 : INFO : worker thread finished; awaiting finish of 3 more threads\n",
      "2020-12-01 10:08:29,494 : INFO : worker thread finished; awaiting finish of 2 more threads\n",
      "2020-12-01 10:08:29,553 : INFO : worker thread finished; awaiting finish of 1 more threads\n",
      "2020-12-01 10:08:29,583 : INFO : worker thread finished; awaiting finish of 0 more threads\n",
      "2020-12-01 10:08:29,586 : INFO : EPOCH - 11 : training on 1773065 raw words (1176936 effective words) took 4.8s, 245971 effective words/s\n",
      "2020-12-01 10:08:30,626 : INFO : EPOCH 12 - PROGRESS: at 20.11% examples, 235394 words/s, in_qsize 15, out_qsize 0\n",
      "2020-12-01 10:08:31,636 : INFO : EPOCH 12 - PROGRESS: at 44.23% examples, 257360 words/s, in_qsize 16, out_qsize 0\n",
      "2020-12-01 10:08:32,671 : INFO : EPOCH 12 - PROGRESS: at 70.36% examples, 271647 words/s, in_qsize 13, out_qsize 2\n",
      "2020-12-01 10:08:33,658 : INFO : worker thread finished; awaiting finish of 7 more threads\n",
      "2020-12-01 10:08:33,666 : INFO : worker thread finished; awaiting finish of 6 more threads\n",
      "2020-12-01 10:08:33,748 : INFO : EPOCH 12 - PROGRESS: at 97.22% examples, 277233 words/s, in_qsize 5, out_qsize 1\n",
      "2020-12-01 10:08:33,750 : INFO : worker thread finished; awaiting finish of 5 more threads\n",
      "2020-12-01 10:08:33,762 : INFO : worker thread finished; awaiting finish of 4 more threads\n",
      "2020-12-01 10:08:33,771 : INFO : worker thread finished; awaiting finish of 3 more threads\n",
      "2020-12-01 10:08:33,778 : INFO : worker thread finished; awaiting finish of 2 more threads\n",
      "2020-12-01 10:08:33,801 : INFO : worker thread finished; awaiting finish of 1 more threads\n",
      "2020-12-01 10:08:33,815 : INFO : worker thread finished; awaiting finish of 0 more threads\n",
      "2020-12-01 10:08:33,817 : INFO : EPOCH - 12 : training on 1773065 raw words (1176449 effective words) took 4.2s, 280560 effective words/s\n",
      "2020-12-01 10:08:34,896 : INFO : EPOCH 13 - PROGRESS: at 22.88% examples, 264538 words/s, in_qsize 15, out_qsize 0\n",
      "2020-12-01 10:08:35,899 : INFO : EPOCH 13 - PROGRESS: at 48.13% examples, 279081 words/s, in_qsize 16, out_qsize 0\n",
      "2020-12-01 10:08:36,912 : INFO : EPOCH 13 - PROGRESS: at 72.50% examples, 281212 words/s, in_qsize 16, out_qsize 0\n"
     ]
    },
    {
     "name": "stderr",
     "output_type": "stream",
     "text": [
      "2020-12-01 10:08:37,850 : INFO : worker thread finished; awaiting finish of 7 more threads\n",
      "2020-12-01 10:08:37,867 : INFO : worker thread finished; awaiting finish of 6 more threads\n",
      "2020-12-01 10:08:37,871 : INFO : worker thread finished; awaiting finish of 5 more threads\n",
      "2020-12-01 10:08:37,884 : INFO : worker thread finished; awaiting finish of 4 more threads\n",
      "2020-12-01 10:08:37,914 : INFO : EPOCH 13 - PROGRESS: at 98.41% examples, 286585 words/s, in_qsize 3, out_qsize 1\n",
      "2020-12-01 10:08:37,918 : INFO : worker thread finished; awaiting finish of 3 more threads\n",
      "2020-12-01 10:08:37,975 : INFO : worker thread finished; awaiting finish of 2 more threads\n",
      "2020-12-01 10:08:37,989 : INFO : worker thread finished; awaiting finish of 1 more threads\n",
      "2020-12-01 10:08:38,003 : INFO : worker thread finished; awaiting finish of 0 more threads\n",
      "2020-12-01 10:08:38,007 : INFO : EPOCH - 13 : training on 1773065 raw words (1176564 effective words) took 4.1s, 284934 effective words/s\n",
      "2020-12-01 10:08:39,090 : INFO : EPOCH 14 - PROGRESS: at 24.07% examples, 280131 words/s, in_qsize 14, out_qsize 1\n",
      "2020-12-01 10:08:40,140 : INFO : EPOCH 14 - PROGRESS: at 49.12% examples, 280604 words/s, in_qsize 15, out_qsize 0\n",
      "2020-12-01 10:08:41,193 : INFO : EPOCH 14 - PROGRESS: at 72.50% examples, 274339 words/s, in_qsize 15, out_qsize 0\n",
      "2020-12-01 10:08:42,179 : INFO : worker thread finished; awaiting finish of 7 more threads\n",
      "2020-12-01 10:08:42,188 : INFO : worker thread finished; awaiting finish of 6 more threads\n",
      "2020-12-01 10:08:42,205 : INFO : EPOCH 14 - PROGRESS: at 97.40% examples, 277299 words/s, in_qsize 5, out_qsize 1\n",
      "2020-12-01 10:08:42,208 : INFO : worker thread finished; awaiting finish of 5 more threads\n",
      "2020-12-01 10:08:42,299 : INFO : worker thread finished; awaiting finish of 4 more threads\n",
      "2020-12-01 10:08:42,316 : INFO : worker thread finished; awaiting finish of 3 more threads\n",
      "2020-12-01 10:08:42,333 : INFO : worker thread finished; awaiting finish of 2 more threads\n",
      "2020-12-01 10:08:42,339 : INFO : worker thread finished; awaiting finish of 1 more threads\n",
      "2020-12-01 10:08:42,343 : INFO : worker thread finished; awaiting finish of 0 more threads\n",
      "2020-12-01 10:08:42,348 : INFO : EPOCH - 14 : training on 1773065 raw words (1176202 effective words) took 4.3s, 275781 effective words/s\n",
      "2020-12-01 10:08:43,555 : INFO : EPOCH 15 - PROGRESS: at 21.75% examples, 226805 words/s, in_qsize 16, out_qsize 1\n",
      "2020-12-01 10:08:44,609 : INFO : EPOCH 15 - PROGRESS: at 47.52% examples, 255599 words/s, in_qsize 12, out_qsize 3\n",
      "2020-12-01 10:08:45,811 : INFO : EPOCH 15 - PROGRESS: at 71.33% examples, 248475 words/s, in_qsize 15, out_qsize 0\n",
      "2020-12-01 10:08:46,820 : INFO : EPOCH 15 - PROGRESS: at 86.17% examples, 230181 words/s, in_qsize 16, out_qsize 0\n",
      "2020-12-01 10:08:47,434 : INFO : worker thread finished; awaiting finish of 7 more threads\n",
      "2020-12-01 10:08:47,450 : INFO : worker thread finished; awaiting finish of 6 more threads\n",
      "2020-12-01 10:08:47,456 : INFO : worker thread finished; awaiting finish of 5 more threads\n",
      "2020-12-01 10:08:47,463 : INFO : worker thread finished; awaiting finish of 4 more threads\n",
      "2020-12-01 10:08:47,465 : INFO : worker thread finished; awaiting finish of 3 more threads\n",
      "2020-12-01 10:08:47,523 : INFO : worker thread finished; awaiting finish of 2 more threads\n",
      "2020-12-01 10:08:47,534 : INFO : worker thread finished; awaiting finish of 1 more threads\n",
      "2020-12-01 10:08:47,597 : INFO : worker thread finished; awaiting finish of 0 more threads\n",
      "2020-12-01 10:08:47,599 : INFO : EPOCH - 15 : training on 1773065 raw words (1176545 effective words) took 5.2s, 227469 effective words/s\n",
      "2020-12-01 10:08:48,705 : INFO : EPOCH 16 - PROGRESS: at 17.97% examples, 201286 words/s, in_qsize 15, out_qsize 0\n",
      "2020-12-01 10:08:49,715 : INFO : EPOCH 16 - PROGRESS: at 37.63% examples, 213921 words/s, in_qsize 16, out_qsize 0\n",
      "2020-12-01 10:08:50,739 : INFO : EPOCH 16 - PROGRESS: at 59.19% examples, 226062 words/s, in_qsize 14, out_qsize 1\n",
      "2020-12-01 10:08:51,794 : INFO : EPOCH 16 - PROGRESS: at 74.88% examples, 212845 words/s, in_qsize 15, out_qsize 0\n",
      "2020-12-01 10:08:52,723 : INFO : worker thread finished; awaiting finish of 7 more threads\n",
      "2020-12-01 10:08:52,727 : INFO : worker thread finished; awaiting finish of 6 more threads\n",
      "2020-12-01 10:08:52,775 : INFO : worker thread finished; awaiting finish of 5 more threads\n",
      "2020-12-01 10:08:52,782 : INFO : worker thread finished; awaiting finish of 4 more threads\n",
      "2020-12-01 10:08:52,785 : INFO : worker thread finished; awaiting finish of 3 more threads\n",
      "2020-12-01 10:08:52,790 : INFO : worker thread finished; awaiting finish of 2 more threads\n",
      "2020-12-01 10:08:52,794 : INFO : worker thread finished; awaiting finish of 1 more threads\n",
      "2020-12-01 10:08:52,825 : INFO : EPOCH 16 - PROGRESS: at 100.00% examples, 227849 words/s, in_qsize 0, out_qsize 1\n",
      "2020-12-01 10:08:52,827 : INFO : worker thread finished; awaiting finish of 0 more threads\n",
      "2020-12-01 10:08:52,831 : INFO : EPOCH - 16 : training on 1773065 raw words (1176232 effective words) took 5.2s, 227569 effective words/s\n",
      "2020-12-01 10:08:53,895 : INFO : EPOCH 17 - PROGRESS: at 20.67% examples, 240375 words/s, in_qsize 15, out_qsize 0\n",
      "2020-12-01 10:08:54,925 : INFO : EPOCH 17 - PROGRESS: at 40.39% examples, 231413 words/s, in_qsize 15, out_qsize 0\n",
      "2020-12-01 10:08:56,016 : INFO : EPOCH 17 - PROGRESS: at 61.98% examples, 232659 words/s, in_qsize 15, out_qsize 0\n",
      "2020-12-01 10:08:57,047 : INFO : EPOCH 17 - PROGRESS: at 79.92% examples, 225538 words/s, in_qsize 16, out_qsize 1\n",
      "2020-12-01 10:08:57,952 : INFO : worker thread finished; awaiting finish of 7 more threads\n",
      "2020-12-01 10:08:58,031 : INFO : worker thread finished; awaiting finish of 6 more threads\n",
      "2020-12-01 10:08:58,039 : INFO : worker thread finished; awaiting finish of 5 more threads\n",
      "2020-12-01 10:08:58,050 : INFO : EPOCH 17 - PROGRESS: at 97.82% examples, 222505 words/s, in_qsize 4, out_qsize 1\n",
      "2020-12-01 10:08:58,052 : INFO : worker thread finished; awaiting finish of 4 more threads\n",
      "2020-12-01 10:08:58,057 : INFO : worker thread finished; awaiting finish of 3 more threads\n",
      "2020-12-01 10:08:58,071 : INFO : worker thread finished; awaiting finish of 2 more threads\n",
      "2020-12-01 10:08:58,099 : INFO : worker thread finished; awaiting finish of 1 more threads\n",
      "2020-12-01 10:08:58,133 : INFO : worker thread finished; awaiting finish of 0 more threads\n",
      "2020-12-01 10:08:58,135 : INFO : EPOCH - 17 : training on 1773065 raw words (1175428 effective words) took 5.2s, 223917 effective words/s\n"
     ]
    }
   ],
   "source": [
    "%%time\n",
    "w2v_model.train(documents, total_examples=len(documents), epochs=W2V_EPOCH)"
   ]
  },
  {
   "cell_type": "code",
   "execution_count": 22,
   "metadata": {},
   "outputs": [
    {
     "name": "stderr",
     "output_type": "stream",
     "text": [
      "/Users/chieh/anaconda3/lib/python3.7/site-packages/ipykernel_launcher.py:1: DeprecationWarning: Call to deprecated `most_similar` (Method will be removed in 4.0.0, use self.wv.most_similar() instead).\n",
      "  \"\"\"Entry point for launching an IPython kernel.\n",
      "2020-11-28 22:35:40,045 : INFO : precomputing L2-norms of word weight vectors\n"
     ]
    },
    {
     "data": {
      "text/plain": [
       "[('luv', 0.4701746702194214),\n",
       " ('loved', 0.45110470056533813),\n",
       " ('loves', 0.3913668692111969),\n",
       " ('jordin', 0.3653492331504822),\n",
       " ('respect', 0.34521371126174927),\n",
       " ('loooove', 0.3359905481338501),\n",
       " ('thankful', 0.3306002914905548),\n",
       " ('mileycyrus', 0.3299708068370819),\n",
       " ('ily', 0.32589322328567505),\n",
       " ('demi', 0.32533642649650574)]"
      ]
     },
     "execution_count": 22,
     "metadata": {},
     "output_type": "execute_result"
    }
   ],
   "source": [
    "w2v_model.most_similar(\"love\")"
   ]
  },
  {
   "cell_type": "code",
   "execution_count": 23,
   "metadata": {},
   "outputs": [
    {
     "name": "stdout",
     "output_type": "stream",
     "text": [
      "Total words 97197\n"
     ]
    }
   ],
   "source": [
    "# Tokenize Text\n",
    "tokenizer = Tokenizer()\n",
    "tokenizer.fit_on_texts(df_train.TEXT)\n",
    "\n",
    "vocab_size = len(tokenizer.word_index) + 1\n",
    "print(\"Total words\", vocab_size)"
   ]
  },
  {
   "cell_type": "code",
   "execution_count": 24,
   "metadata": {},
   "outputs": [],
   "source": [
    "x_train = pad_sequences(tokenizer.texts_to_sequences(df_train.TEXT), maxlen=SEQUENCE_LENGTH)\n",
    "x_test = pad_sequences(tokenizer.texts_to_sequences(df_test.TEXT), maxlen=SEQUENCE_LENGTH)"
   ]
  },
  {
   "cell_type": "code",
   "execution_count": 25,
   "metadata": {},
   "outputs": [
    {
     "data": {
      "text/plain": [
       "['NEGATIVE', 'POSITIVE']"
      ]
     },
     "execution_count": 25,
     "metadata": {},
     "output_type": "execute_result"
    }
   ],
   "source": [
    "# Label encoder\n",
    "labels = df_train.VALUE.unique().tolist()\n",
    "labels"
   ]
  },
  {
   "cell_type": "code",
   "execution_count": 26,
   "metadata": {},
   "outputs": [
    {
     "name": "stdout",
     "output_type": "stream",
     "text": [
      "y_train (163982, 1)\n",
      "y_test (40996, 1)\n"
     ]
    }
   ],
   "source": [
    "encoder = LabelEncoder()\n",
    "encoder.fit(df_train.VALUE.tolist())\n",
    "\n",
    "y_train = encoder.transform(df_train.VALUE.tolist())\n",
    "y_test = encoder.transform(df_test.VALUE.tolist())\n",
    "\n",
    "y_train = y_train.reshape(-1,1)\n",
    "y_test = y_test.reshape(-1,1)\n",
    "\n",
    "print(\"y_train\",y_train.shape)\n",
    "print(\"y_test\",y_test.shape)"
   ]
  },
  {
   "cell_type": "code",
   "execution_count": 27,
   "metadata": {},
   "outputs": [
    {
     "name": "stdout",
     "output_type": "stream",
     "text": [
      "x_train (163982, 300)\n",
      "y_train (163982, 1)\n",
      "x_test (40996, 300)\n",
      "y_test (40996, 1)\n"
     ]
    }
   ],
   "source": [
    "print(\"x_train\", x_train.shape)\n",
    "print(\"y_train\", y_train.shape)\n",
    "print(\"x_test\", x_test.shape)\n",
    "print(\"y_test\", y_test.shape)"
   ]
  },
  {
   "cell_type": "code",
   "execution_count": 28,
   "metadata": {},
   "outputs": [
    {
     "name": "stdout",
     "output_type": "stream",
     "text": [
      "(97197, 300)\n"
     ]
    }
   ],
   "source": [
    "# Embedding Layer\n",
    "embedding_matrix = np.zeros((vocab_size, W2V_SIZE))\n",
    "for word, i in tokenizer.word_index.items():\n",
    "  if word in w2v_model.wv:\n",
    "    embedding_matrix[i] = w2v_model.wv[word]\n",
    "print(embedding_matrix.shape)"
   ]
  },
  {
   "cell_type": "code",
   "execution_count": 29,
   "metadata": {},
   "outputs": [],
   "source": [
    "embedding_layer = Embedding(vocab_size, W2V_SIZE, weights=[embedding_matrix], input_length=SEQUENCE_LENGTH, trainable=False)"
   ]
  },
  {
   "cell_type": "code",
   "execution_count": 30,
   "metadata": {},
   "outputs": [
    {
     "name": "stdout",
     "output_type": "stream",
     "text": [
      "Model: \"sequential\"\n",
      "_________________________________________________________________\n",
      "Layer (type)                 Output Shape              Param #   \n",
      "=================================================================\n",
      "embedding (Embedding)        (None, 300, 300)          29159100  \n",
      "_________________________________________________________________\n",
      "dropout (Dropout)            (None, 300, 300)          0         \n",
      "_________________________________________________________________\n",
      "lstm (LSTM)                  (None, 100)               160400    \n",
      "_________________________________________________________________\n",
      "dense (Dense)                (None, 1)                 101       \n",
      "=================================================================\n",
      "Total params: 29,319,601\n",
      "Trainable params: 160,501\n",
      "Non-trainable params: 29,159,100\n",
      "_________________________________________________________________\n"
     ]
    }
   ],
   "source": [
    "#Build Model\n",
    "model = Sequential()\n",
    "model.add(embedding_layer)\n",
    "model.add(Dropout(0.5))\n",
    "model.add(LSTM(100, dropout=0.2, recurrent_dropout=0.2))\n",
    "model.add(Dense(1, activation='sigmoid'))\n",
    "\n",
    "model.summary()"
   ]
  },
  {
   "cell_type": "code",
   "execution_count": 31,
   "metadata": {},
   "outputs": [],
   "source": [
    "# Compile model\n",
    "model.compile(loss='binary_crossentropy',\n",
    "              optimizer=\"adam\",\n",
    "              metrics=['accuracy'])"
   ]
  },
  {
   "cell_type": "code",
   "execution_count": 57,
   "metadata": {},
   "outputs": [],
   "source": [
    "# Callbacks\n",
    "callbacks = [ ReduceLROnPlateau(monitor='val_loss', patience=5, cooldown=0),\n",
    "              EarlyStopping(monitor='val_accuracy', min_delta=1e-4, patience=5)]"
   ]
  },
  {
   "cell_type": "code",
   "execution_count": 58,
   "metadata": {},
   "outputs": [
    {
     "name": "stdout",
     "output_type": "stream",
     "text": [
      "145/145 [==============================] - 1111s 8s/step - loss: 0.4811 - accuracy: 0.7627 - val_loss: 0.4646 - val_accuracy: 0.7761\n"
     ]
    }
   ],
   "source": [
    "# Train\n",
    "history = model.fit(x_train, y_train,\n",
    "                    batch_size=BATCH_SIZE,\n",
    "                    epochs=EPOCHS,\n",
    "                    validation_split=0.1,\n",
    "                    verbose=1,\n",
    "                    callbacks=callbacks)"
   ]
  },
  {
   "cell_type": "code",
   "execution_count": 59,
   "metadata": {},
   "outputs": [
    {
     "name": "stdout",
     "output_type": "stream",
     "text": [
      "41/41 [==============================] - 56s 1s/step - loss: 0.4540 - accuracy: 0.7806\n",
      "\n",
      "ACCURACY: 0.7806127667427063\n",
      "LOSS: 0.4539926052093506\n"
     ]
    }
   ],
   "source": [
    "score = model.evaluate(x_test, y_test, batch_size=BATCH_SIZE)\n",
    "print()\n",
    "print(\"ACCURACY:\",score[1])\n",
    "print(\"LOSS:\",score[0])"
   ]
  },
  {
   "cell_type": "code",
   "execution_count": 60,
   "metadata": {},
   "outputs": [
    {
     "data": {
      "image/png": "[encoded data removed]",
      "text/plain": [
       "<Figure size 432x288 with 1 Axes>"
      ]
     },
     "metadata": {
      "needs_background": "light"
     },
     "output_type": "display_data"
    },
    {
     "data": {
      "image/png": "[encoded data removed]",
      "text/plain": [
       "<Figure size 432x288 with 1 Axes>"
      ]
     },
     "metadata": {
      "needs_background": "light"
     },
     "output_type": "display_data"
    }
   ],
   "source": [
    "acc = history.history['accuracy']\n",
    "val_acc = history.history['val_accuracy']\n",
    "loss = history.history['loss']\n",
    "val_loss = history.history['val_loss']\n",
    " \n",
    "epochs = range(len(acc))\n",
    " \n",
    "plt.plot(epochs, acc, 'b', label='Training acc')\n",
    "plt.plot(epochs, val_acc, 'r', label='Validation acc')\n",
    "plt.title('Training and validation accuracy')\n",
    "plt.legend()\n",
    " \n",
    "plt.figure()\n",
    " \n",
    "plt.plot(epochs, loss, 'b', label='Training loss')\n",
    "plt.plot(epochs, val_loss, 'r', label='Validation loss')\n",
    "plt.title('Training and validation loss')\n",
    "plt.legend()\n",
    " \n",
    "plt.show()"
   ]
  },
  {
   "cell_type": "code",
   "execution_count": 38,
   "metadata": {},
   "outputs": [],
   "source": [
    "def decode_sentiment(score, include_neutral=False):\n",
    "    if include_neutral:        \n",
    "        label = NEUTRAL\n",
    "        if score <= SENTIMENT_THRESHOLDS[0]:\n",
    "            label = NEGATIVE\n",
    "        elif score >= SENTIMENT_THRESHOLDS[1]:\n",
    "            label = POSITIVE\n",
    "\n",
    "        return label\n",
    "    else:\n",
    "        return NEGATIVE if score < 0.5 else POSITIVE"
   ]
  },
  {
   "cell_type": "code",
   "execution_count": 39,
   "metadata": {},
   "outputs": [],
   "source": [
    "def predict(text, include_neutral=False):\n",
    "    start_at = time.time()\n",
    "    # Tokenize text\n",
    "    x_test = pad_sequences(tokenizer.texts_to_sequences([text]), maxlen=SEQUENCE_LENGTH)\n",
    "    # Predict\n",
    "    score = model.predict([x_test])[0]\n",
    "    # Decode sentiment\n",
    "    label = decode_sentiment(score, include_neutral=include_neutral)\n",
    "\n",
    "    return {\"label\": label, \"score\": float(score),\n",
    "       \"elapsed_time\": time.time()-start_at}  "
   ]
  },
  {
   "cell_type": "code",
   "execution_count": 61,
   "metadata": {},
   "outputs": [
    {
     "data": {
      "text/plain": [
       "{'label': 'POSITIVE',\n",
       " 'score': 0.9733065366744995,\n",
       " 'elapsed_time': 0.08148622512817383}"
      ]
     },
     "execution_count": 61,
     "metadata": {},
     "output_type": "execute_result"
    }
   ],
   "source": [
    "predict(\"I love the music\")"
   ]
  },
  {
   "cell_type": "code",
   "execution_count": 62,
   "metadata": {},
   "outputs": [
    {
     "data": {
      "text/plain": [
       "{'label': 'NEGATIVE',\n",
       " 'score': 0.4831560254096985,\n",
       " 'elapsed_time': 0.07238101959228516}"
      ]
     },
     "execution_count": 62,
     "metadata": {},
     "output_type": "execute_result"
    }
   ],
   "source": [
    "predict(\"i don't know what i'm doing\")"
   ]
  },
  {
   "cell_type": "code",
   "execution_count": 63,
   "metadata": {},
   "outputs": [
    {
     "data": {
      "text/plain": [
       "{'label': 'NEGATIVE',\n",
       " 'score': 0.021119922399520874,\n",
       " 'elapsed_time': 0.08184218406677246}"
      ]
     },
     "execution_count": 63,
     "metadata": {},
     "output_type": "execute_result"
    }
   ],
   "source": [
    "predict(\"I hate the rain\")"
   ]
  },
  {
   "cell_type": "code",
   "execution_count": 64,
   "metadata": {},
   "outputs": [
    {
     "data": {
      "text/plain": [
       "{'label': 'NEGATIVE',\n",
       " 'score': 0.08120599389076233,\n",
       " 'elapsed_time': 0.07676076889038086}"
      ]
     },
     "execution_count": 64,
     "metadata": {},
     "output_type": "execute_result"
    }
   ],
   "source": [
    "predict(\"Bad guys\")"
   ]
  },
  {
   "cell_type": "code",
   "execution_count": 65,
   "metadata": {},
   "outputs": [
    {
     "data": {
      "text/plain": [
       "{'label': 'NEGATIVE',\n",
       " 'score': 0.25452369451522827,\n",
       " 'elapsed_time': 0.07674908638000488}"
      ]
     },
     "execution_count": 65,
     "metadata": {},
     "output_type": "execute_result"
    }
   ],
   "source": [
    "predict(\"fuck u all\")"
   ]
  },
  {
   "cell_type": "code",
   "execution_count": 66,
   "metadata": {},
   "outputs": [
    {
     "data": {
      "text/plain": [
       "{'label': 'NEGATIVE',\n",
       " 'score': 0.3585672676563263,\n",
       " 'elapsed_time': 0.07496809959411621}"
      ]
     },
     "execution_count": 66,
     "metadata": {},
     "output_type": "execute_result"
    }
   ],
   "source": [
    "predict(\"I'm going under and this time I fear there's no one to save me\")"
   ]
  },
  {
   "cell_type": "code",
   "execution_count": 45,
   "metadata": {},
   "outputs": [
    {
     "name": "stderr",
     "output_type": "stream",
     "text": [
      "2020-11-28 23:00:56,152 : INFO : saving Word2Vec object under model.w2v, separately None\n",
      "2020-11-28 23:00:56,153 : INFO : not storing attribute vectors_norm\n",
      "2020-11-28 23:00:56,154 : INFO : not storing attribute cum_table\n",
      "2020-11-28 23:00:56,537 : INFO : saved model.w2v\n"
     ]
    }
   ],
   "source": [
    "#Save model\n",
    "model.save(KERAS_MODEL)\n",
    "w2v_model.save(WORD2VEC_MODEL)\n",
    "pickle.dump(tokenizer, open(TOKENIZER_MODEL, \"wb\"), protocol=0)\n",
    "pickle.dump(encoder, open(ENCODER_MODEL, \"wb\"), protocol=0)"
   ]
  },
  {
   "cell_type": "code",
   "execution_count": 67,
   "metadata": {},
   "outputs": [],
   "source": [
    "model.save(\"model_epoc3.h5\")"
   ]
  },
  {
   "cell_type": "code",
   "execution_count": null,
   "metadata": {},
   "outputs": [],
   "source": []
  }
 ],
 "metadata": {
  "kernelspec": {
   "display_name": "Python 3",
   "language": "python",
   "name": "python3"
  },
  "language_info": {
   "codemirror_mode": {
    "name": "ipython",
    "version": 3
   },
   "file_extension": ".py",
   "mimetype": "text/x-python",
   "name": "python",
   "nbconvert_exporter": "python",
   "pygments_lexer": "ipython3",
   "version": "3.7.9"
  }
 },
 "nbformat": 4,
 "nbformat_minor": 4
}
